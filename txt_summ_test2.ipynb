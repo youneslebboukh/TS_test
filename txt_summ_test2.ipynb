{
  "nbformat": 4,
  "nbformat_minor": 0,
  "metadata": {
    "colab": {
      "name": "txt_summ_test2.ipynb",
      "provenance": [],
      "collapsed_sections": [],
      "authorship_tag": "ABX9TyNLg8r5vt+MfUTePjwiqVRY",
      "include_colab_link": true
    },
    "kernelspec": {
      "display_name": "Python 3",
      "name": "python3"
    }
  },
  "cells": [
    {
      "cell_type": "markdown",
      "metadata": {
        "id": "view-in-github",
        "colab_type": "text"
      },
      "source": [
        "<a href=\"https://colab.research.google.com/github/youneslebboukh/text-summarization/blob/main/txt_summ_test2.ipynb\" target=\"_parent\"><img src=\"https://colab.research.google.com/assets/colab-badge.svg\" alt=\"Open In Colab\"/></a>"
      ]
    },
    {
      "cell_type": "code",
      "metadata": {
        "colab": {
          "base_uri": "https://localhost:8080/"
        },
        "id": "o47yrDdeeuwq",
        "outputId": "50a83874-d815-4c82-eda6-eadbee1fcd49"
      },
      "source": [
        "!pip install kaggle"
      ],
      "execution_count": 1,
      "outputs": [
        {
          "output_type": "stream",
          "text": [
            "Requirement already satisfied: kaggle in /usr/local/lib/python3.6/dist-packages (1.5.10)\n",
            "Requirement already satisfied: python-dateutil in /usr/local/lib/python3.6/dist-packages (from kaggle) (2.8.1)\n",
            "Requirement already satisfied: tqdm in /usr/local/lib/python3.6/dist-packages (from kaggle) (4.41.1)\n",
            "Requirement already satisfied: six>=1.10 in /usr/local/lib/python3.6/dist-packages (from kaggle) (1.15.0)\n",
            "Requirement already satisfied: urllib3 in /usr/local/lib/python3.6/dist-packages (from kaggle) (1.24.3)\n",
            "Requirement already satisfied: requests in /usr/local/lib/python3.6/dist-packages (from kaggle) (2.23.0)\n",
            "Requirement already satisfied: python-slugify in /usr/local/lib/python3.6/dist-packages (from kaggle) (4.0.1)\n",
            "Requirement already satisfied: certifi in /usr/local/lib/python3.6/dist-packages (from kaggle) (2020.12.5)\n",
            "Requirement already satisfied: chardet<4,>=3.0.2 in /usr/local/lib/python3.6/dist-packages (from requests->kaggle) (3.0.4)\n",
            "Requirement already satisfied: idna<3,>=2.5 in /usr/local/lib/python3.6/dist-packages (from requests->kaggle) (2.10)\n",
            "Requirement already satisfied: text-unidecode>=1.3 in /usr/local/lib/python3.6/dist-packages (from python-slugify->kaggle) (1.3)\n"
          ],
          "name": "stdout"
        }
      ]
    },
    {
      "cell_type": "code",
      "metadata": {
        "colab": {
          "resources": {
            "http://localhost:8080/nbextensions/google.colab/files.js": {
              "data": "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",
              "ok": true,
              "headers": [
                [
                  "content-type",
                  "application/javascript"
                ]
              ],
              "status": 200,
              "status_text": ""
            }
          },
          "base_uri": "https://localhost:8080/",
          "height": 89
        },
        "id": "b4C6_7Z3fIN3",
        "outputId": "6a8ecadf-9119-4005-cc58-4309ba81a9a1"
      },
      "source": [
        "from google.colab import files\n",
        "files.upload()"
      ],
      "execution_count": 2,
      "outputs": [
        {
          "output_type": "display_data",
          "data": {
            "text/html": [
              "\n",
              "     <input type=\"file\" id=\"files-f432c382-cd2c-40da-a511-30156e588c7e\" name=\"files[]\" multiple disabled\n",
              "        style=\"border:none\" />\n",
              "     <output id=\"result-f432c382-cd2c-40da-a511-30156e588c7e\">\n",
              "      Upload widget is only available when the cell has been executed in the\n",
              "      current browser session. Please rerun this cell to enable.\n",
              "      </output>\n",
              "      <script src=\"/nbextensions/google.colab/files.js\"></script> "
            ],
            "text/plain": [
              "<IPython.core.display.HTML object>"
            ]
          },
          "metadata": {
            "tags": []
          }
        },
        {
          "output_type": "stream",
          "text": [
            "Saving kaggle.json to kaggle.json\n"
          ],
          "name": "stdout"
        },
        {
          "output_type": "execute_result",
          "data": {
            "text/plain": [
              "{'kaggle.json': b'{\"username\":\"youneslbk\",\"key\":\"ff30355568a25aef64e5c064a14e36fc\"}'}"
            ]
          },
          "metadata": {
            "tags": []
          },
          "execution_count": 2
        }
      ]
    },
    {
      "cell_type": "code",
      "metadata": {
        "id": "RId33NszftMP"
      },
      "source": [
        " !mkdir -p ~/.kaggle\n",
        " !cp kaggle.json ~/.kaggle/"
      ],
      "execution_count": 3,
      "outputs": []
    },
    {
      "cell_type": "code",
      "metadata": {
        "id": "_mRQTOEkgZJ9"
      },
      "source": [
        "  !chmod 600 ~/.kaggle/kaggle.json"
      ],
      "execution_count": 4,
      "outputs": []
    },
    {
      "cell_type": "code",
      "metadata": {
        "colab": {
          "base_uri": "https://localhost:8080/"
        },
        "id": "QcvBdXSAg0Bv",
        "outputId": "d2dc0faa-79dd-44a4-c085-17b27dba6c15"
      },
      "source": [
        "!kaggle datasets download -d allen-institute-for-ai/CORD-19-research-challenge"
      ],
      "execution_count": 5,
      "outputs": [
        {
          "output_type": "stream",
          "text": [
            "Downloading CORD-19-research-challenge.zip to /content\n",
            "100% 6.37G/6.38G [01:34<00:00, 78.3MB/s]\n",
            "100% 6.38G/6.38G [01:34<00:00, 72.4MB/s]\n"
          ],
          "name": "stdout"
        }
      ]
    },
    {
      "cell_type": "code",
      "metadata": {
        "colab": {
          "base_uri": "https://localhost:8080/"
        },
        "id": "ivtbsfgvhczW",
        "outputId": "9926564f-bb1b-41d9-a4c7-6fd1259890db"
      },
      "source": [
        "!pip install zip_files"
      ],
      "execution_count": 6,
      "outputs": [
        {
          "output_type": "stream",
          "text": [
            "Collecting zip_files\n",
            "  Downloading https://files.pythonhosted.org/packages/f3/99/fc7f65a052d30e62b946924ed6334f8f1ebf7c826646b9e17ab1dff2901c/zip_files-0.3.0-py2.py3-none-any.whl\n",
            "Requirement already satisfied: click in /usr/local/lib/python3.6/dist-packages (from zip_files) (7.1.2)\n",
            "Installing collected packages: zip-files\n",
            "Successfully installed zip-files-0.3.0\n"
          ],
          "name": "stdout"
        }
      ]
    },
    {
      "cell_type": "code",
      "metadata": {
        "id": "s2QufpcThhCC",
        "colab": {
          "base_uri": "https://localhost:8080/"
        },
        "outputId": "0e4f3af2-53f1-42f5-bc70-12db54d567ce"
      },
      "source": [
        "from zipfile import ZipFile\n",
        "file_name=\"CORD-19-research-challenge.zip\"\n",
        "with ZipFile(file_name,'r') as zip:\n",
        "  zip.extractall()\n",
        "  print('Done')"
      ],
      "execution_count": 7,
      "outputs": [
        {
          "output_type": "stream",
          "text": [
            "Done\n"
          ],
          "name": "stdout"
        }
      ]
    },
    {
      "cell_type": "code",
      "metadata": {
        "colab": {
          "base_uri": "https://localhost:8080/"
        },
        "id": "q6wBDJin_0FI",
        "outputId": "63c6920d-38a8-4fa0-c2b2-3ff3335a8d8e"
      },
      "source": [
        "import numpy as np\n",
        "import pandas as pd\n",
        "import nltk\n",
        "nltk.download('punkt') # one time execution\n",
        "import re"
      ],
      "execution_count": 8,
      "outputs": [
        {
          "output_type": "stream",
          "text": [
            "[nltk_data] Downloading package punkt to /root/nltk_data...\n",
            "[nltk_data]   Unzipping tokenizers/punkt.zip.\n"
          ],
          "name": "stdout"
        }
      ]
    },
    {
      "cell_type": "code",
      "metadata": {
        "colab": {
          "base_uri": "https://localhost:8080/"
        },
        "id": "PFg83UK0BC77",
        "outputId": "2adb5f09-93bb-4a73-c4d7-9becbdacbf2c"
      },
      "source": [
        "metadata = pd.read_csv(\"/content/metadata.csv\")"
      ],
      "execution_count": null,
      "outputs": [
        {
          "output_type": "stream",
          "text": [
            "/usr/local/lib/python3.6/dist-packages/IPython/core/interactiveshell.py:2718: DtypeWarning: Columns (1,4,5,6,13,14,15,16) have mixed types.Specify dtype option on import or set low_memory=False.\n",
            "  interactivity=interactivity, compiler=compiler, result=result)\n"
          ],
          "name": "stderr"
        }
      ]
    },
    {
      "cell_type": "code",
      "metadata": {
        "colab": {
          "base_uri": "https://localhost:8080/",
          "height": 400
        },
        "id": "uV4DtP5-BTaA",
        "outputId": "4c5734ac-54bf-48d1-bcd6-a4868a6e135c"
      },
      "source": [
        "metadata.head(3)"
      ],
      "execution_count": null,
      "outputs": [
        {
          "output_type": "execute_result",
          "data": {
            "text/html": [
              "<div>\n",
              "<style scoped>\n",
              "    .dataframe tbody tr th:only-of-type {\n",
              "        vertical-align: middle;\n",
              "    }\n",
              "\n",
              "    .dataframe tbody tr th {\n",
              "        vertical-align: top;\n",
              "    }\n",
              "\n",
              "    .dataframe thead th {\n",
              "        text-align: right;\n",
              "    }\n",
              "</style>\n",
              "<table border=\"1\" class=\"dataframe\">\n",
              "  <thead>\n",
              "    <tr style=\"text-align: right;\">\n",
              "      <th></th>\n",
              "      <th>cord_uid</th>\n",
              "      <th>sha</th>\n",
              "      <th>source_x</th>\n",
              "      <th>title</th>\n",
              "      <th>doi</th>\n",
              "      <th>pmcid</th>\n",
              "      <th>pubmed_id</th>\n",
              "      <th>license</th>\n",
              "      <th>abstract</th>\n",
              "      <th>publish_time</th>\n",
              "      <th>authors</th>\n",
              "      <th>journal</th>\n",
              "      <th>mag_id</th>\n",
              "      <th>who_covidence_id</th>\n",
              "      <th>arxiv_id</th>\n",
              "      <th>pdf_json_files</th>\n",
              "      <th>pmc_json_files</th>\n",
              "      <th>url</th>\n",
              "      <th>s2_id</th>\n",
              "    </tr>\n",
              "  </thead>\n",
              "  <tbody>\n",
              "    <tr>\n",
              "      <th>0</th>\n",
              "      <td>ug7v899j</td>\n",
              "      <td>d1aafb70c066a2068b02786f8929fd9c900897fb</td>\n",
              "      <td>PMC</td>\n",
              "      <td>Clinical features of culture-proven Mycoplasma...</td>\n",
              "      <td>10.1186/1471-2334-1-6</td>\n",
              "      <td>PMC35282</td>\n",
              "      <td>11472636</td>\n",
              "      <td>no-cc</td>\n",
              "      <td>OBJECTIVE: This retrospective chart review des...</td>\n",
              "      <td>2001-07-04</td>\n",
              "      <td>Madani, Tariq A; Al-Ghamdi, Aisha A</td>\n",
              "      <td>BMC Infect Dis</td>\n",
              "      <td>NaN</td>\n",
              "      <td>NaN</td>\n",
              "      <td>NaN</td>\n",
              "      <td>document_parses/pdf_json/d1aafb70c066a2068b027...</td>\n",
              "      <td>document_parses/pmc_json/PMC35282.xml.json</td>\n",
              "      <td>https://www.ncbi.nlm.nih.gov/pmc/articles/PMC3...</td>\n",
              "      <td>NaN</td>\n",
              "    </tr>\n",
              "    <tr>\n",
              "      <th>1</th>\n",
              "      <td>02tnwd4m</td>\n",
              "      <td>6b0567729c2143a66d737eb0a2f63f2dce2e5a7d</td>\n",
              "      <td>PMC</td>\n",
              "      <td>Nitric oxide: a pro-inflammatory mediator in l...</td>\n",
              "      <td>10.1186/rr14</td>\n",
              "      <td>PMC59543</td>\n",
              "      <td>11667967</td>\n",
              "      <td>no-cc</td>\n",
              "      <td>Inflammatory diseases of the respiratory tract...</td>\n",
              "      <td>2000-08-15</td>\n",
              "      <td>Vliet, Albert van der; Eiserich, Jason P; Cros...</td>\n",
              "      <td>Respir Res</td>\n",
              "      <td>NaN</td>\n",
              "      <td>NaN</td>\n",
              "      <td>NaN</td>\n",
              "      <td>document_parses/pdf_json/6b0567729c2143a66d737...</td>\n",
              "      <td>document_parses/pmc_json/PMC59543.xml.json</td>\n",
              "      <td>https://www.ncbi.nlm.nih.gov/pmc/articles/PMC5...</td>\n",
              "      <td>NaN</td>\n",
              "    </tr>\n",
              "    <tr>\n",
              "      <th>2</th>\n",
              "      <td>ejv2xln0</td>\n",
              "      <td>06ced00a5fc04215949aa72528f2eeaae1d58927</td>\n",
              "      <td>PMC</td>\n",
              "      <td>Surfactant protein-D and pulmonary host defense</td>\n",
              "      <td>10.1186/rr19</td>\n",
              "      <td>PMC59549</td>\n",
              "      <td>11667972</td>\n",
              "      <td>no-cc</td>\n",
              "      <td>Surfactant protein-D (SP-D) participates in th...</td>\n",
              "      <td>2000-08-25</td>\n",
              "      <td>Crouch, Erika C</td>\n",
              "      <td>Respir Res</td>\n",
              "      <td>NaN</td>\n",
              "      <td>NaN</td>\n",
              "      <td>NaN</td>\n",
              "      <td>document_parses/pdf_json/06ced00a5fc04215949aa...</td>\n",
              "      <td>document_parses/pmc_json/PMC59549.xml.json</td>\n",
              "      <td>https://www.ncbi.nlm.nih.gov/pmc/articles/PMC5...</td>\n",
              "      <td>NaN</td>\n",
              "    </tr>\n",
              "  </tbody>\n",
              "</table>\n",
              "</div>"
            ],
            "text/plain": [
              "   cord_uid  ... s2_id\n",
              "0  ug7v899j  ...   NaN\n",
              "1  02tnwd4m  ...   NaN\n",
              "2  ejv2xln0  ...   NaN\n",
              "\n",
              "[3 rows x 19 columns]"
            ]
          },
          "metadata": {
            "tags": []
          },
          "execution_count": 10
        }
      ]
    },
    {
      "cell_type": "code",
      "metadata": {
        "id": "_Ek4HYZ-KsZ1"
      },
      "source": [
        "import json\r\n",
        "import glob"
      ],
      "execution_count": 9,
      "outputs": []
    },
    {
      "cell_type": "code",
      "metadata": {
        "colab": {
          "base_uri": "https://localhost:8080/"
        },
        "id": "NUAv4K8eKGQl",
        "outputId": "6ac6ef2f-db1b-49d9-b1a7-f2254b65705f"
      },
      "source": [
        "all_json = glob.glob(f'document_parses/*/*.json', recursive=True)\r\n",
        "len(all_json)"
      ],
      "execution_count": 10,
      "outputs": [
        {
          "output_type": "execute_result",
          "data": {
            "text/plain": [
              "245968"
            ]
          },
          "metadata": {
            "tags": []
          },
          "execution_count": 10
        }
      ]
    },
    {
      "cell_type": "code",
      "metadata": {
        "id": "UTL0cVpCGPX0"
      },
      "source": [
        "dic = {'paper_id': [], 'abstract': [], 'body_text': []}\r\n",
        "for t in all_json:\r\n",
        "  with open(t) as file: \r\n",
        "    content = json.load(file)\r\n",
        "    paper_id = content['paper_id']\r\n",
        "    abstract = []\r\n",
        "    body_text = []\r\n",
        "    if 'abstract' in content :\r\n",
        "      if content['abstract']:\r\n",
        "        # Abstract\r\n",
        "        for entry in content['abstract']:\r\n",
        "          abstract.append(entry['text'])\r\n",
        "        # Body text\r\n",
        "        for entry in content['body_text']:\r\n",
        "          body_text.append(entry['text'])\r\n",
        "        \r\n",
        "        abstract = '\\n'.join(abstract)\r\n",
        "        body_text = '\\n'.join(body_text)\r\n",
        "        dic['paper_id'].append(paper_id)\r\n",
        "        dic['abstract'].append(abstract)\r\n",
        "        dic['body_text'].append(body_text)"
      ],
      "execution_count": 11,
      "outputs": []
    },
    {
      "cell_type": "code",
      "metadata": {
        "id": "ZsZhW3aHDUrg"
      },
      "source": [
        "data = pd.DataFrame(dic, columns=['paper_id', 'abstract', 'body_text'])"
      ],
      "execution_count": 12,
      "outputs": []
    },
    {
      "cell_type": "code",
      "metadata": {
        "colab": {
          "base_uri": "https://localhost:8080/",
          "height": 289
        },
        "id": "Bb3W0bejFDUZ",
        "outputId": "10163dcb-56c6-4e3c-9cca-895f4a79d287"
      },
      "source": [
        "data.head()"
      ],
      "execution_count": 13,
      "outputs": [
        {
          "output_type": "execute_result",
          "data": {
            "text/html": [
              "<div>\n",
              "<style scoped>\n",
              "    .dataframe tbody tr th:only-of-type {\n",
              "        vertical-align: middle;\n",
              "    }\n",
              "\n",
              "    .dataframe tbody tr th {\n",
              "        vertical-align: top;\n",
              "    }\n",
              "\n",
              "    .dataframe thead th {\n",
              "        text-align: right;\n",
              "    }\n",
              "</style>\n",
              "<table border=\"1\" class=\"dataframe\">\n",
              "  <thead>\n",
              "    <tr style=\"text-align: right;\">\n",
              "      <th></th>\n",
              "      <th>paper_id</th>\n",
              "      <th>abstract</th>\n",
              "      <th>body_text</th>\n",
              "    </tr>\n",
              "  </thead>\n",
              "  <tbody>\n",
              "    <tr>\n",
              "      <th>0</th>\n",
              "      <td>b7083e4986d73a83a90c0a30806dc4f4d5793592</td>\n",
              "      <td>Non-viral gene delivery to skeletal muscle was...</td>\n",
              "      <td>Skeletal muscle can act as an effective platfo...</td>\n",
              "    </tr>\n",
              "    <tr>\n",
              "      <th>1</th>\n",
              "      <td>b50fcaa1eb0cecd4cb22356af1da97ee5598ff04</td>\n",
              "      <td>ADP-ribosylation is a protein modification res...</td>\n",
              "      <td>ADP-ribosylation is a reversible post-translat...</td>\n",
              "    </tr>\n",
              "    <tr>\n",
              "      <th>2</th>\n",
              "      <td>333a04fb2ab37297b4591e7d6179fd731f5c1bf3</td>\n",
              "      <td>Background: Canine distemper virus (CDV) is a ...</td>\n",
              "      <td>Canine distemper virus (CDV) is one of the mos...</td>\n",
              "    </tr>\n",
              "    <tr>\n",
              "      <th>3</th>\n",
              "      <td>15c7e413de2e615378e1c0d4fa23d1f3425af285</td>\n",
              "      <td>In the context of the ongoing Covid-19 pandemi...</td>\n",
              "      <td>I. EXECUTIVE SUMMARY Important note: This manu...</td>\n",
              "    </tr>\n",
              "    <tr>\n",
              "      <th>4</th>\n",
              "      <td>a600310d78ebe675d0d7bc5d9188a77d73e0e79a</td>\n",
              "      <td>The SARS outbreak in 2003 provides a unique op...</td>\n",
              "      <td>The SARS outbreak in 2003 provides a unique op...</td>\n",
              "    </tr>\n",
              "  </tbody>\n",
              "</table>\n",
              "</div>"
            ],
            "text/plain": [
              "                                   paper_id  ...                                          body_text\n",
              "0  b7083e4986d73a83a90c0a30806dc4f4d5793592  ...  Skeletal muscle can act as an effective platfo...\n",
              "1  b50fcaa1eb0cecd4cb22356af1da97ee5598ff04  ...  ADP-ribosylation is a reversible post-translat...\n",
              "2  333a04fb2ab37297b4591e7d6179fd731f5c1bf3  ...  Canine distemper virus (CDV) is one of the mos...\n",
              "3  15c7e413de2e615378e1c0d4fa23d1f3425af285  ...  I. EXECUTIVE SUMMARY Important note: This manu...\n",
              "4  a600310d78ebe675d0d7bc5d9188a77d73e0e79a  ...  The SARS outbreak in 2003 provides a unique op...\n",
              "\n",
              "[5 rows x 3 columns]"
            ]
          },
          "metadata": {
            "tags": []
          },
          "execution_count": 13
        }
      ]
    },
    {
      "cell_type": "code",
      "metadata": {
        "id": "jQtPWofQFMJ4"
      },
      "source": [
        "import csv\r\n",
        "import pandas as pd"
      ],
      "execution_count": 14,
      "outputs": []
    },
    {
      "cell_type": "code",
      "metadata": {
        "id": "OxKiABSBMH2p"
      },
      "source": [
        "def preprocessing(text):\r\n",
        "    # remove mail\r\n",
        "    text = re.sub(r'[a-z0-9._%+-]+@[a-z0-9.-]+\\.[a-z]{2,}', 'MAIL', text)\r\n",
        "    # remove doi\r\n",
        "    text = re.sub(r'https\\:\\/\\/doi\\.org[^\\s]+', 'DOI', text)\r\n",
        "    # remove https\r\n",
        "    text = re.sub(r'(\\()?\\s?http(s)?\\:\\/\\/[^\\)]+(\\))?', '\\g<1>LINK\\g<3>', text)\r\n",
        "    # remove single characters repeated at least 3 times for spacing error (e.g. s u m m a r y)\r\n",
        "    text = re.sub(r'(\\w\\s+){3,}', ' ', text)\r\n",
        "    # replace tags (e.g. [3] [4] [5]) with whitespace\r\n",
        "    text = re.sub(r'(\\[\\d+\\]\\,?\\s?){3,}(\\.|\\,)?', ' \\g<2>', text)\r\n",
        "    # replace tags (e.g. [3, 4, 5]) with whitespace\r\n",
        "    text = re.sub(r'\\[[\\d\\,\\s]+\\]', ' ',text)\r\n",
        "     # replace tags (e.g. (NUM1) repeated at least 3 times with whitespace\r\n",
        "    text = re.sub(r'(\\(\\d+\\)\\s){3,}', ' ',text)\r\n",
        "    # replace '1.3' with '1,3' (we need it for split later)\r\n",
        "    text = re.sub(r'(\\d+)\\.(\\d+)', '\\g<1>,\\g<2>', text)\r\n",
        "    # remove all full stops as abbreviations (e.g. i.e. cit. and so on)\r\n",
        "    text = re.sub(r'\\.(\\s)?([^A-Z\\s])', ' \\g<1>\\g<2>', text)\r\n",
        "    # correctly spacing the tokens\r\n",
        "    text = re.sub(r' {2,}', ' ', text)\r\n",
        "    text = re.sub(r'\\.{2,}', '.', text)\r\n",
        "    text=re.sub(r\"[<>()(,)|&©ø\\[\\]\\'\\\";?~*!]\", ' ', text) #remove <>()|&©ø\"',;?~*!\r\n",
        "    text=re.sub(\"(\\\\t)\", ' ', text) #remove escape charecters\r\n",
        "    text=re.sub(\"(\\\\r)\", ' ', text) \r\n",
        "    text=re.sub(\"(\\\\n)\", ' ', text)\r\n",
        "    text= re.sub(\"(\\s+)\",' ',text) #remove multiple space\r\n",
        "    # return lowercase text\r\n",
        "    return text.lower()"
      ],
      "execution_count": 15,
      "outputs": []
    },
    {
      "cell_type": "code",
      "metadata": {
        "id": "cHVV8XEN4wjd"
      },
      "source": [
        "data['prepro_body_text'] = data['body_text'].apply(preprocessing)"
      ],
      "execution_count": 16,
      "outputs": []
    },
    {
      "cell_type": "code",
      "metadata": {
        "colab": {
          "base_uri": "https://localhost:8080/",
          "height": 289
        },
        "id": "WL8mTg0D_X_E",
        "outputId": "4f8cc005-babe-4a10-d70e-35c46b9b213c"
      },
      "source": [
        "data.head()"
      ],
      "execution_count": 17,
      "outputs": [
        {
          "output_type": "execute_result",
          "data": {
            "text/html": [
              "<div>\n",
              "<style scoped>\n",
              "    .dataframe tbody tr th:only-of-type {\n",
              "        vertical-align: middle;\n",
              "    }\n",
              "\n",
              "    .dataframe tbody tr th {\n",
              "        vertical-align: top;\n",
              "    }\n",
              "\n",
              "    .dataframe thead th {\n",
              "        text-align: right;\n",
              "    }\n",
              "</style>\n",
              "<table border=\"1\" class=\"dataframe\">\n",
              "  <thead>\n",
              "    <tr style=\"text-align: right;\">\n",
              "      <th></th>\n",
              "      <th>paper_id</th>\n",
              "      <th>abstract</th>\n",
              "      <th>body_text</th>\n",
              "      <th>prepro_body_text</th>\n",
              "    </tr>\n",
              "  </thead>\n",
              "  <tbody>\n",
              "    <tr>\n",
              "      <th>0</th>\n",
              "      <td>b7083e4986d73a83a90c0a30806dc4f4d5793592</td>\n",
              "      <td>Non-viral gene delivery to skeletal muscle was...</td>\n",
              "      <td>Skeletal muscle can act as an effective platfo...</td>\n",
              "      <td>skeletal muscle can act as an effective platfo...</td>\n",
              "    </tr>\n",
              "    <tr>\n",
              "      <th>1</th>\n",
              "      <td>b50fcaa1eb0cecd4cb22356af1da97ee5598ff04</td>\n",
              "      <td>ADP-ribosylation is a protein modification res...</td>\n",
              "      <td>ADP-ribosylation is a reversible post-translat...</td>\n",
              "      <td>adp-ribosylation is a reversible post-translat...</td>\n",
              "    </tr>\n",
              "    <tr>\n",
              "      <th>2</th>\n",
              "      <td>333a04fb2ab37297b4591e7d6179fd731f5c1bf3</td>\n",
              "      <td>Background: Canine distemper virus (CDV) is a ...</td>\n",
              "      <td>Canine distemper virus (CDV) is one of the mos...</td>\n",
              "      <td>canine distemper virus cdv is one of the most ...</td>\n",
              "    </tr>\n",
              "    <tr>\n",
              "      <th>3</th>\n",
              "      <td>15c7e413de2e615378e1c0d4fa23d1f3425af285</td>\n",
              "      <td>In the context of the ongoing Covid-19 pandemi...</td>\n",
              "      <td>I. EXECUTIVE SUMMARY Important note: This manu...</td>\n",
              "      <td>i. executive summary important note: this manu...</td>\n",
              "    </tr>\n",
              "    <tr>\n",
              "      <th>4</th>\n",
              "      <td>a600310d78ebe675d0d7bc5d9188a77d73e0e79a</td>\n",
              "      <td>The SARS outbreak in 2003 provides a unique op...</td>\n",
              "      <td>The SARS outbreak in 2003 provides a unique op...</td>\n",
              "      <td>the sars outbreak in 2003 provides a unique op...</td>\n",
              "    </tr>\n",
              "  </tbody>\n",
              "</table>\n",
              "</div>"
            ],
            "text/plain": [
              "                                   paper_id  ...                                   prepro_body_text\n",
              "0  b7083e4986d73a83a90c0a30806dc4f4d5793592  ...  skeletal muscle can act as an effective platfo...\n",
              "1  b50fcaa1eb0cecd4cb22356af1da97ee5598ff04  ...  adp-ribosylation is a reversible post-translat...\n",
              "2  333a04fb2ab37297b4591e7d6179fd731f5c1bf3  ...  canine distemper virus cdv is one of the most ...\n",
              "3  15c7e413de2e615378e1c0d4fa23d1f3425af285  ...  i. executive summary important note: this manu...\n",
              "4  a600310d78ebe675d0d7bc5d9188a77d73e0e79a  ...  the sars outbreak in 2003 provides a unique op...\n",
              "\n",
              "[5 rows x 4 columns]"
            ]
          },
          "metadata": {
            "tags": []
          },
          "execution_count": 17
        }
      ]
    },
    {
      "cell_type": "code",
      "metadata": {
        "id": "tle9VT35P1fU"
      },
      "source": [
        "from nltk.tokenize import sent_tokenize"
      ],
      "execution_count": 18,
      "outputs": []
    },
    {
      "cell_type": "code",
      "metadata": {
        "id": "2IBhAO-R1UCX"
      },
      "source": [
        "#sentences = []\r\n",
        "sent = []\r\n",
        "sent=sent_tokenize(data['prepro_body_text'][0])\r\n",
        "#for s in data['prepro_body_text'][0]:\r\n",
        "  #sent.append(sent_tokenize(s))\r\n",
        "  #sent = [y for x in sent for y in x] # flatten list\r\n",
        "  #sentences.append(sent)"
      ],
      "execution_count": 19,
      "outputs": []
    },
    {
      "cell_type": "code",
      "metadata": {
        "colab": {
          "base_uri": "https://localhost:8080/"
        },
        "id": "BC4BGk7IkacG",
        "outputId": "05f0272a-81a3-4a6e-a226-adbbdd0c033b"
      },
      "source": [
        "print(sent)"
      ],
      "execution_count": 20,
      "outputs": [
        {
          "output_type": "stream",
          "text": [
            "['skeletal muscle can act as an effective platform for the long-term production and secretion of therapeutic proteins with systemic distribution and for the introduction of dna vaccines eliciting strong humoral and cellular immune responses for review see .', 'conversely the treatment of hereditary neuromuscular diseases is particularly challenging for non-viral vectors.', 'among issues are as follows: 1 the size of the muscle tissue which represents half of the total mass of the organism 2 the poor accessibility of profound muscles or peripheral nerves and 3 the progressive tissue remodeling along the natural history of some muscle diseases with active processes of necrosis/regeneration and fibrosis/lipidosis.', 's. braun afm-telethon evry cedex france e-mail: mail on the other hand non-viral vectors do bear interesting advantages over recombinant viruses.', 'non-viral vectors are made of plasmid dna naked or complexed to a variety of versatile molecules such as cationic lipids or polymers.', 'they are 1 well characterized and their structure can be fine-tuned and 2 mostly nonimmunogenic provided they are not carrying protein motifs.', 'this allows repeated administrations for chronic diseases 3 comparatively easy to produce at a large scale 4 less limited by size constraints leaving the potential to deliver widetype genetic material as large as 100 kb this is far beyond the size of coding sequences such as the dystrophin cdna for duchenne muscular dystrophy and non-viral vectors 5 can remain functional for a long period of time in skeletal muscles .', 'episomal plasmid dna can persist for life in rodents and for many years in larger animals if they are delivered into low turnover tissues including the brain and spinal cord heart or muscle for review see .', 'synthetic vectors have been constructed as substitutes to viral vectors for delivering therapeutic genes and many other drugs in humans .', 'the principle is based on the self-assembly of supramolecular complexes often through electrostatic interactions between the positively charged vectors and the dna negatively charged phosphate residues .', 'in these complexes dna is condensed and compacted and is less exposed to nuclease degradation.', 'among these cationic lipid-and polymerbased systems have been the most extensively studied .', 'in early studies dna was encapsulated in neutral or anionic liposomes without changing the structures of the liposomes .', 'the ratio between the cationic charge of the liposome and the negative charge of the dna usually controls the size of complexes typically in the range of 200 nm to 2 μm quasi-spherical particles with an ordered often multilamellar organization.', 'their positive total charge enables them of efficiently interacting with the negative residues of the cell membranes and internalizing into the cell which occurs mainly through the endocytosis pathway .', 'systemic bio-distribution of non-viral vectors is dependent upon their capability of escaping from blood vessels in the target tissue.', 'vectors must be small enough less than 500 nm to cross through vascular endothelial cells and gain access to surrounding tissues .', 'furthermore they should also be designed so that they can be ignored in contrast to viral vectors non-viral gene transfer is not elicited to a large extent by active intake processes.', 'therefore a sophisticated vector may be needed to facilitate the cellular uptake and appropriate intracellular processing of the transgene.', 'significant developments in artificial complexes combined different functions for improved gene transfer.', 'many cationic liposomes are normally accompanied by a neutral lipid such as dioleoylphosphatidylethanolamine dope or cholesterol.', 'dope is frequently useful because it can fuse with other lipids when exposed to a low ph as in endosomes which triggers the release of the associated dna into the cytosol .', 'other popular modifications use ligand binding to peg.', 'various targeting approaches have been investigated including incorporation of peptides antibodies and sugar into the lipid vesicles to facilitate tissue targeting for review see .', 'however the association of all of these components results in complex structures that require thorough formulation and galenic studies.', 'after cell entry intracellular barriers may impair successful gene delivery.', 'vectors need to escape from the endosomal or lysosomal membrane to avoid degradation of the plasmid dna .', 'endosomal release of dna by cationic polyplexbased vectors may be based on the physical disruption of the negatively charged endosomal membrane after direct interaction with the cationic complex or a proton-sponge phenomenon resulting in osmotic swelling and endosomal membrane rupture followed by the release of the polyplexes into the cytoplasm.', 'addition of a fusogenic helper lipid such as dope facilitates the formation of a destabilizing hexagonal phase with the endosome membrane and enhances gene expression by promoting the release of dna from the endosomal compartment fig 9 1 and .', 'it should be mentioned the majority of cytoplasmic plasmids fail to reach the nucleus due to cytoplasmic nucleases.', 'in contrast to short nucleic acids such as oligonucleotides which diffuse freely the plasmid dna imports to nucleus by an active transport process via the nuclear pore complex and receptor proteins that include importin α β and ran .', 'nuclear localization signals or designed peptides can be linked to the plasmid dna to facilitate nuclear import for review see .', 'a number of therapeutic concepts have been explored in humans using more or less refined non-viral gene delivery systems in the view of therapies for genetic disorders and of immunologic disorders.', 'as of today despite a number of very sophisticated chemistries non-viral vectors were not completely satisfactory in transferring genes to muscle tissues following systemic administration.', 'many complexes show excellent transfection activity in cell culture but most do not perform well in the presence of serum and only a few are active in vivo .', 'they remain at least 3 logs of magnitude less effective than viral vectors.', 'therapeutic doses require high concentrations of complexes.', 'besides the relatively large size of many synthetic vectors often above 150 nm the main obstacles in the use of synthetic complexes via systemic delivery are their aggregation instability toxicity and including negatively charged naked plasmid dna or polynucleotides delivered either directly or combined with physical methods ultrasound electroporation or complexed with various chemical entities such as cationic lipids or polymers b uptake pathways involve either fusion with the muscle cell membrane- receptor- clathrin- caveolae- or pinocytosis-dependent endocytosis.', 'this is followed by endosome formation escape from endosome degradation nuclear import of the plasmid dna/polynucleotide and transgene expression propensity to be captured by the mononuclear phagocyte system leading to their rapid clearance by phagocytic cells in the liver spleen lungs and bone marrow.', 'these particles readily aggregate as their concentration increases.', 'toxicity is often linked to the colloidal instability of synthetic vectors resulting from interactions with molecules in biological fluids leading to large aggregates.', 'these aggregates which are generally ineffective gene delivery agents can be absorbed onto the surface of circulating red blood cells or embolized in microvasculatures preventing them from reaching the intended target cells.', 'this opsonization process can also activate the complement system one of the innate immune mechanisms against foreign particles within the bloodstream which in turn activates the phagocytosis and initiates an inflammatory response .', 'skeletal muscles possess poorly permeable tight endothelial maybe less in the case of chronically inflamed tissues layers and a highly regulated microcirculation .', 'the implication is that one would not expect particulate systems to be distributed easily from the blood circulation to skeletal muscles.', 'thus the prospects for non-viral particulate vector widespread distribution from the systemic circulation are limited at present.', 'only one systemic delivery attempt was initiated in a neuromuscular disease indication.', 'this was in hereditary inclusion body myopathy in a single patient intravenously perfused with a lipoplex in a compassionate trial.', 'the patient showed signs of increase of sialic acid-related proteins and stabilization in the decline of muscle strength .', 'the administration of vectors directly to the target tissue avoids most of the obstacles encountered by systemic delivery.', 'however this approach remains hampered by the diffusion limitations and immune cell clearance in the interstitial region of the target organ.', 'indeed transgene expression following direct intramuscular needle delivery of complexes is often localized in regions that are close to the injection site.', 'this implies that the dispersion of colloidal particles within muscle is a critical issue and there is a need for basic studies of the effect of formulation on dispersion within solid tissues such as skeletal muscle.', 'nevertheless this poor efficiency remains compatible with applications that require only low levels of the therapeutic proteins such as genetic vaccines cancer or peripheral limb ischemia table 9 1 .', 'interestingly retrograde transport seemed to be obtained as some gene expression was found in the peripheral and central nervous system following intramuscular administration .', 'delivery of therapeutic genes to peripheral neurons upon a peripheral and minimally invasive intramuscular administration of polymeric nanoparticles was shown to be feasible in animal models .', 'naked dna can be manufactured in a very cost-effective manner and is a very stable material that can be stored at room temperature for long periods of time following lyophilization.', 'it is composed of a bacterial plasmid that contains the cdna of the therapeutic gene under the transcriptional control of various eukaryotic continued regulatory elements and a bacterial origin of replication to allow production in bacteria.', 'a strong promoter may be required for optimal expression in mammalian cells.', 'for this some promoters derived from viruses such as cytomegalovirus cmv or simian virus 40 sv40 have been used.', 'however virally derived promoters such as the cmv promoter may not be suitable for applications to chronic diseases as illustrated by the negative impact of inflammatory cytokines interferon-γ or tumor necrosis factor-α .', 'thus muscle-specific alternatives to the cmv promoter have been proposed such as the desmin promoter/enhancer which controls expression of the cytoskeletal protein desmin or the creatine kinase promoter .', 'even in vaccines the vaccinating immune responses obtained were shown to be of a comparable magnitude to those in mice immunized with dna vaccines containing nonspecific promoters.', 'for clinical efficacy and safety of chronic disease applications it may be necessary to maintain appropriate levels of a gene product in order to prevent toxicity and to be able to modulate or resume transgene expression in response to disease evolution or immune problems.', 'artificial systems for the control of genes are based on two elements: a chimeric transcription factor responding to a small inducer or even electric field and an artificial promoter composed of multiple binding sites for the transcription factor followed by a minimal promoter.', 'inducible gene expression systems use endogenous elements that respond to exogenous signals or stress such as cytokines heat metal ions and hypoxia.', 'however neither muscle-specific nor inducible promoters in the absence of induction are devoid of leaky activity .', 'if hypomethylated bacterial cpg sequences are maintained on the plasmid dna backbone or promoter elements a t helper 1 th1 immune response but only for a short period and with no induction of anti-dna antibodies can be generated which may however be advantageous in view of genetic vaccination alone or in priming-boost regimens with viral vectors .', 'following the serendipitous demonstration of transgene expression in skeletal muscle injected with naked dna by wolff plasmid dna has been used extensively in a variety of indications .', 'uptake and expression of numerous transgenes have been demonstrated in various species following intramuscular administration of naked dna.', 'expression peaks at around 7 days followed by a slow decrease and a prolonged steady state years in case of non-immunogenic transgene.', 'the very long-term expression is probably linked to the postmitotic state of skeletal muscles and the persistence of administered genetic material as an extrachromosomal episomal elements .', 'the efficiency of plasmid gene transfer into skeletal muscle and other tissues by direct injection is low 1% of cell nuclei and remains confined at the injection site along the needle track across species and it further decreases with the plasmid size.', 'nevertheless naked plasmid dna administration was used in animal models to provide a systemic source of therapeutic protein for genetic vaccination against pathogens and tumor cells or for therapeutic angiogenesis.', 'in the later case local gene delivery to focal lesions in the peripheral vasculature for the production of highly active hormones is ideally suited to the use of intramuscular or percutaneous vector delivery.', 'in humans intramuscular injections of naked plasmid encoding angiogenic factors such as vegf165 or hgf were used in small numbers of patients with critical limb ischemia and did demonstrate promising clinical efficacy for the treatment of peripheral arterial disease.', 'ischemic pain and ischemic ulcers in the affected limb were relieved or markedly improved in further trials and table 9 1 .', 'importantly all those plasmid-based preclinical and clinical trials resulted in a very good safety record and table 9 1 .', 'a meta-analysis of 12 clinical trials 1494 patients total of local administration of pro-angiogenic growth factors vegf fgf hgf del-1 hif-1alpha using plasmid or viral gene transfer by intra-arterial or intramuscular injections showed that despite promising results in single studies no clear benefit could be identified in peripheral artery disease patients irrespective of disease severity .', 'locally injected naked dna is being evaluated in muscle regeneration approaches such as myostatin propeptide gene gun delivery and for genetic motoneuron disorders.', 'in the later case smn induction in a mouse spinal muscular atrophy model was observed following intramuscular injection of a tetanus toxin c fragment plasmid .', 'artificially or spontaneous regenerating muscle fibers display a higher but still limited efficiency of transfection .', 'physical methods electric or ultrasound pulses ballistic gene gun which either create transient pores in the cell membrane or increase passive diffusion were shown to improve up to 100-fold gene transfer to skeletal muscles .', 'the pulse parameters and the type of material used i e needle versus externally applied plate electrodes are of critical importance .', 'selective electro-sonoporation in a defined area using microbubble contrast agents showed increased plasmid-vegf165 delivery in skeletal muscle allowing therapeutic angiogenesis in chronically ischemic skeletal muscles with undetectable tissue damage .', 'a slightly higher risk of random integration of plasmid dna into genomic dna may also be seen .', 'still limited penetration of the genetic material in the tissue is obtained in the range of 1 cm .', 'widespread delivery to large or deep muscles remains challenging.', 'muscle damage and inflammation are induced by these methods which peak at around 7 days and resolve at 3 weeks postinjection with both th1 and th2 immune responses potentially occurring .', 'therefore this strategy may not be suitable in already inflamed tissue such as dmd muscles.', 'high levels of gene expression in the limb and diaphragm muscles have been achieved by the rapid injection of naked dna in large volumes via locoregional hydrodynamic intravascular delivery with both blood inflow and outflow blocked surgically or using external tourniquets .', 'the endothelium in muscle is continuous and non-fenestrated showing low permeability to macromolecules including plasmid dna.', 'the hydrodynamic pressure induces extravasation of the injected dna probably by expanding the endothelium and thereby making pores accessible for dna entry.', 'the mechanism of plasmid dna uptake by the muscle cells is still not clear and may involve both low-affinity receptor-mediated and nonspecific processes .', 'the procedure safety is supported by a large body of data collected in mice rats dogs and nonhuman primates.', 'the edema caused by the injected fluid is resolved within 24 h and even the minimal signs of observed muscle toxicity clear within 2 weeks postinjection .', 'the hind limb perfusion procedure is a rather quick and simple technique which may be applied to chronic diseased muscles or other chronic diseases such as anemia .', 'based on successful preclinical studies using the mdx mouse and golden retriever muscular dystrophy grmd dog models of duchenne muscular dystrophy and the positive expression -though very low- and safety outcome of a phase i trial of intramuscular injection of myodys ® a full-length dystrophin plasmid in duchenne patients the first completed gene transfer clinical trial in neuromuscular diseases the ground was set for a human clinical trial using myodys ® into the forearm of duchenne patients.', 'a dose escalation study of single-limb perfusion with 0 9% saline was carried out in nine adults with muscular dystrophies under intravenous analgesia.', 'the study led by fan et al demonstrated feasibility and safety up to 35% of limb volume in the upper extremities of the young adults with muscular dystrophy.', 'perfusion at 40% limb volume was associated with short-lived physiological changes in peripheral nerves without clinical correlates in one subject .', 'this study used lower cuff pressures than in our nonhuman primate studies 310-325 mm hg vs 450-700 mm hg in nonhuman primates .', 'from our studies in the mdx mouse and grmd dog models of duchenne dystrophy and in nonhuman primates the minimal volume needed for efficient naked dna limb perfusion is 40% of the limb volume .', 'whereas arterial limb perfusion did not turn out to be safe in grmd dogs personal data not shown up to ten consecutive naked dna limb perfusions every other day appeared very safe in both dystrophic mice and dogs.', 'even though head-to-head comparison would be necessary our studies suggested that gene transfer was higher in diseased muscles than in wild-type animals.', 'we also noticed that the highest transfection efficiencies were found in nonhuman primates up to 40% of limb muscles expressed reporter genes following a single-limb perfusion .', 'therefore limb perfusion of a naked dna remains a valid approach to treat limb dystrophic muscles as an alternative to viral vectors in seropositive patients or in indications that require large transgenes with regional gene transfer .', 'ex vivo approaches using gene-corrected stem cells with non-viral vectors are also being explored.', 'human artificial chromosome hac vectors have the capacity to carry large genomic loci and to replicate and segregate autonomously without integration into the host genome.', 'hac vectors containing the entire human dystrophin gene dys-hac with its native regulatory elements allow dystrophin expression at levels similar to native dystrophin isoform expression levels.', 'since they can be stably maintained as episomal elements in host cells the dys-hac could be introduced into several types of patient stem or progenitor cells for ex vivo therapy e g induced pluripotent stem cells mesoangioblasts ac133 and mesenchymal stem cells .', 'one of the main issues however is the translatability of stem cell therapy in muscle disorders .', 'the development of successful non-viral gene delivery systems to skeletal muscle is highly dependent on the proportion of muscle or their innervating motoneuron cells that need to be transfected.', 'more than 25 years of research and testing in animal models and in human trials gear us toward two types of muscle-directed non-viral gene transfer applications: 1. direct injection.', 'this represents a far simpler but poorly efficient approach.', 'provided highly active gene products are used non-viral gene therapy becomes increasingly amenable to infectious cancerous and peripheral ischemia diseases.', 'vectors could be both naked dna and synthetic complexes 2. intravascular delivery.', 'simple intravenous perfusion of non-viral vectors is as of today far less practicable.', 'regional hydrodynamic delivery of naked dna offers several advantages over viral vectors which hold potential for muscle diseases including limb-girdle muscular dystrophies and peripheral neuropathies.', 'nevertheless muscle gene therapy using systemic administration of non-viral vectors retains major hurdles that need to be overcome before any human applications.', 'disclosure author declares having no potential competing financial interests.']\n"
          ],
          "name": "stdout"
        }
      ]
    },
    {
      "cell_type": "code",
      "metadata": {
        "colab": {
          "base_uri": "https://localhost:8080/"
        },
        "id": "mRfqMz6qo7tq",
        "outputId": "0b03ba55-db74-4ae3-9339-1c1383fd766d"
      },
      "source": [
        "nltk.download('stopwords')"
      ],
      "execution_count": 21,
      "outputs": [
        {
          "output_type": "stream",
          "text": [
            "[nltk_data] Downloading package stopwords to /root/nltk_data...\n",
            "[nltk_data]   Unzipping corpora/stopwords.zip.\n"
          ],
          "name": "stdout"
        },
        {
          "output_type": "execute_result",
          "data": {
            "text/plain": [
              "True"
            ]
          },
          "metadata": {
            "tags": []
          },
          "execution_count": 21
        }
      ]
    },
    {
      "cell_type": "code",
      "metadata": {
        "id": "hE8GMFINo-gx"
      },
      "source": [
        "from nltk.corpus import stopwords\r\n",
        "stop_words = stopwords.words('english')"
      ],
      "execution_count": 22,
      "outputs": []
    },
    {
      "cell_type": "code",
      "metadata": {
        "id": "28XyadQNpBya"
      },
      "source": [
        "def remove_stopwords(sen):\r\n",
        "    sen_new = \" \".join([i for i in sen if i not in stop_words])\r\n",
        "    return sen_new"
      ],
      "execution_count": 23,
      "outputs": []
    },
    {
      "cell_type": "code",
      "metadata": {
        "id": "zAKrDyo9lEpj"
      },
      "source": [
        "clean_sent = [remove_stopwords(r.split()) for r in sent]"
      ],
      "execution_count": 24,
      "outputs": []
    },
    {
      "cell_type": "code",
      "metadata": {
        "colab": {
          "base_uri": "https://localhost:8080/"
        },
        "id": "M87STSN0lSHY",
        "outputId": "f80e8f16-49b4-4737-beda-2adb58a878a4"
      },
      "source": [
        "print(clean_sent)"
      ],
      "execution_count": 25,
      "outputs": [
        {
          "output_type": "stream",
          "text": [
            "['skeletal muscle act effective platform long-term production secretion therapeutic proteins systemic distribution introduction dna vaccines eliciting strong humoral cellular immune responses review see .', 'conversely treatment hereditary neuromuscular diseases particularly challenging non-viral vectors.', 'among issues follows: 1 size muscle tissue represents half total mass organism 2 poor accessibility profound muscles peripheral nerves 3 progressive tissue remodeling along natural history muscle diseases active processes necrosis/regeneration fibrosis/lipidosis.', 's. braun afm-telethon evry cedex france e-mail: mail hand non-viral vectors bear interesting advantages recombinant viruses.', 'non-viral vectors made plasmid dna naked complexed variety versatile molecules cationic lipids polymers.', '1 well characterized structure fine-tuned 2 mostly nonimmunogenic provided carrying protein motifs.', 'allows repeated administrations chronic diseases 3 comparatively easy produce large scale 4 less limited size constraints leaving potential deliver widetype genetic material large 100 kb far beyond size coding sequences dystrophin cdna duchenne muscular dystrophy non-viral vectors 5 remain functional long period time skeletal muscles .', 'episomal plasmid dna persist life rodents many years larger animals delivered low turnover tissues including brain spinal cord heart muscle review see .', 'synthetic vectors constructed substitutes viral vectors delivering therapeutic genes many drugs humans .', 'principle based self-assembly supramolecular complexes often electrostatic interactions positively charged vectors dna negatively charged phosphate residues .', 'complexes dna condensed compacted less exposed nuclease degradation.', 'among cationic lipid-and polymerbased systems extensively studied .', 'early studies dna encapsulated neutral anionic liposomes without changing structures liposomes .', 'ratio cationic charge liposome negative charge dna usually controls size complexes typically range 200 nm 2 μm quasi-spherical particles ordered often multilamellar organization.', 'positive total charge enables efficiently interacting negative residues cell membranes internalizing cell occurs mainly endocytosis pathway .', 'systemic bio-distribution non-viral vectors dependent upon capability escaping blood vessels target tissue.', 'vectors must small enough less 500 nm cross vascular endothelial cells gain access surrounding tissues .', 'furthermore also designed ignored contrast viral vectors non-viral gene transfer elicited large extent active intake processes.', 'therefore sophisticated vector may needed facilitate cellular uptake appropriate intracellular processing transgene.', 'significant developments artificial complexes combined different functions improved gene transfer.', 'many cationic liposomes normally accompanied neutral lipid dioleoylphosphatidylethanolamine dope cholesterol.', 'dope frequently useful fuse lipids exposed low ph endosomes triggers release associated dna cytosol .', 'popular modifications use ligand binding peg.', 'various targeting approaches investigated including incorporation peptides antibodies sugar lipid vesicles facilitate tissue targeting review see .', 'however association components results complex structures require thorough formulation galenic studies.', 'cell entry intracellular barriers may impair successful gene delivery.', 'vectors need escape endosomal lysosomal membrane avoid degradation plasmid dna .', 'endosomal release dna cationic polyplexbased vectors may based physical disruption negatively charged endosomal membrane direct interaction cationic complex proton-sponge phenomenon resulting osmotic swelling endosomal membrane rupture followed release polyplexes cytoplasm.', 'addition fusogenic helper lipid dope facilitates formation destabilizing hexagonal phase endosome membrane enhances gene expression promoting release dna endosomal compartment fig 9 1 .', 'mentioned majority cytoplasmic plasmids fail reach nucleus due cytoplasmic nucleases.', 'contrast short nucleic acids oligonucleotides diffuse freely plasmid dna imports nucleus active transport process via nuclear pore complex receptor proteins include importin α β ran .', 'nuclear localization signals designed peptides linked plasmid dna facilitate nuclear import review see .', 'number therapeutic concepts explored humans using less refined non-viral gene delivery systems view therapies genetic disorders immunologic disorders.', 'today despite number sophisticated chemistries non-viral vectors completely satisfactory transferring genes muscle tissues following systemic administration.', 'many complexes show excellent transfection activity cell culture perform well presence serum active vivo .', 'remain least 3 logs magnitude less effective viral vectors.', 'therapeutic doses require high concentrations complexes.', 'besides relatively large size many synthetic vectors often 150 nm main obstacles use synthetic complexes via systemic delivery aggregation instability toxicity including negatively charged naked plasmid dna polynucleotides delivered either directly combined physical methods ultrasound electroporation complexed various chemical entities cationic lipids polymers b uptake pathways involve either fusion muscle cell membrane- receptor- clathrin- caveolae- pinocytosis-dependent endocytosis.', 'followed endosome formation escape endosome degradation nuclear import plasmid dna/polynucleotide transgene expression propensity captured mononuclear phagocyte system leading rapid clearance phagocytic cells liver spleen lungs bone marrow.', 'particles readily aggregate concentration increases.', 'toxicity often linked colloidal instability synthetic vectors resulting interactions molecules biological fluids leading large aggregates.', 'aggregates generally ineffective gene delivery agents absorbed onto surface circulating red blood cells embolized microvasculatures preventing reaching intended target cells.', 'opsonization process also activate complement system one innate immune mechanisms foreign particles within bloodstream turn activates phagocytosis initiates inflammatory response .', 'skeletal muscles possess poorly permeable tight endothelial maybe less case chronically inflamed tissues layers highly regulated microcirculation .', 'implication one would expect particulate systems distributed easily blood circulation skeletal muscles.', 'thus prospects non-viral particulate vector widespread distribution systemic circulation limited present.', 'one systemic delivery attempt initiated neuromuscular disease indication.', 'hereditary inclusion body myopathy single patient intravenously perfused lipoplex compassionate trial.', 'patient showed signs increase sialic acid-related proteins stabilization decline muscle strength .', 'administration vectors directly target tissue avoids obstacles encountered systemic delivery.', 'however approach remains hampered diffusion limitations immune cell clearance interstitial region target organ.', 'indeed transgene expression following direct intramuscular needle delivery complexes often localized regions close injection site.', 'implies dispersion colloidal particles within muscle critical issue need basic studies effect formulation dispersion within solid tissues skeletal muscle.', 'nevertheless poor efficiency remains compatible applications require low levels therapeutic proteins genetic vaccines cancer peripheral limb ischemia table 9 1 .', 'interestingly retrograde transport seemed obtained gene expression found peripheral central nervous system following intramuscular administration .', 'delivery therapeutic genes peripheral neurons upon peripheral minimally invasive intramuscular administration polymeric nanoparticles shown feasible animal models .', 'naked dna manufactured cost-effective manner stable material stored room temperature long periods time following lyophilization.', 'composed bacterial plasmid contains cdna therapeutic gene transcriptional control various eukaryotic continued regulatory elements bacterial origin replication allow production bacteria.', 'strong promoter may required optimal expression mammalian cells.', 'promoters derived viruses cytomegalovirus cmv simian virus 40 sv40 used.', 'however virally derived promoters cmv promoter may suitable applications chronic diseases illustrated negative impact inflammatory cytokines interferon-γ tumor necrosis factor-α .', 'thus muscle-specific alternatives cmv promoter proposed desmin promoter/enhancer controls expression cytoskeletal protein desmin creatine kinase promoter .', 'even vaccines vaccinating immune responses obtained shown comparable magnitude mice immunized dna vaccines containing nonspecific promoters.', 'clinical efficacy safety chronic disease applications may necessary maintain appropriate levels gene product order prevent toxicity able modulate resume transgene expression response disease evolution immune problems.', 'artificial systems control genes based two elements: chimeric transcription factor responding small inducer even electric field artificial promoter composed multiple binding sites transcription factor followed minimal promoter.', 'inducible gene expression systems use endogenous elements respond exogenous signals stress cytokines heat metal ions hypoxia.', 'however neither muscle-specific inducible promoters absence induction devoid leaky activity .', 'hypomethylated bacterial cpg sequences maintained plasmid dna backbone promoter elements helper 1 th1 immune response short period induction anti-dna antibodies generated may however advantageous view genetic vaccination alone priming-boost regimens viral vectors .', 'following serendipitous demonstration transgene expression skeletal muscle injected naked dna wolff plasmid dna used extensively variety indications .', 'uptake expression numerous transgenes demonstrated various species following intramuscular administration naked dna.', 'expression peaks around 7 days followed slow decrease prolonged steady state years case non-immunogenic transgene.', 'long-term expression probably linked postmitotic state skeletal muscles persistence administered genetic material extrachromosomal episomal elements .', 'efficiency plasmid gene transfer skeletal muscle tissues direct injection low 1% cell nuclei remains confined injection site along needle track across species decreases plasmid size.', 'nevertheless naked plasmid dna administration used animal models provide systemic source therapeutic protein genetic vaccination pathogens tumor cells therapeutic angiogenesis.', 'later case local gene delivery focal lesions peripheral vasculature production highly active hormones ideally suited use intramuscular percutaneous vector delivery.', 'humans intramuscular injections naked plasmid encoding angiogenic factors vegf165 hgf used small numbers patients critical limb ischemia demonstrate promising clinical efficacy treatment peripheral arterial disease.', 'ischemic pain ischemic ulcers affected limb relieved markedly improved trials table 9 1 .', 'importantly plasmid-based preclinical clinical trials resulted good safety record table 9 1 .', 'meta-analysis 12 clinical trials 1494 patients total local administration pro-angiogenic growth factors vegf fgf hgf del-1 hif-1alpha using plasmid viral gene transfer intra-arterial intramuscular injections showed despite promising results single studies clear benefit could identified peripheral artery disease patients irrespective disease severity .', 'locally injected naked dna evaluated muscle regeneration approaches myostatin propeptide gene gun delivery genetic motoneuron disorders.', 'later case smn induction mouse spinal muscular atrophy model observed following intramuscular injection tetanus toxin c fragment plasmid .', 'artificially spontaneous regenerating muscle fibers display higher still limited efficiency transfection .', 'physical methods electric ultrasound pulses ballistic gene gun either create transient pores cell membrane increase passive diffusion shown improve 100-fold gene transfer skeletal muscles .', 'pulse parameters type material used e needle versus externally applied plate electrodes critical importance .', 'selective electro-sonoporation defined area using microbubble contrast agents showed increased plasmid-vegf165 delivery skeletal muscle allowing therapeutic angiogenesis chronically ischemic skeletal muscles undetectable tissue damage .', 'slightly higher risk random integration plasmid dna genomic dna may also seen .', 'still limited penetration genetic material tissue obtained range 1 cm .', 'widespread delivery large deep muscles remains challenging.', 'muscle damage inflammation induced methods peak around 7 days resolve 3 weeks postinjection th1 th2 immune responses potentially occurring .', 'therefore strategy may suitable already inflamed tissue dmd muscles.', 'high levels gene expression limb diaphragm muscles achieved rapid injection naked dna large volumes via locoregional hydrodynamic intravascular delivery blood inflow outflow blocked surgically using external tourniquets .', 'endothelium muscle continuous non-fenestrated showing low permeability macromolecules including plasmid dna.', 'hydrodynamic pressure induces extravasation injected dna probably expanding endothelium thereby making pores accessible dna entry.', 'mechanism plasmid dna uptake muscle cells still clear may involve low-affinity receptor-mediated nonspecific processes .', 'procedure safety supported large body data collected mice rats dogs nonhuman primates.', 'edema caused injected fluid resolved within 24 h even minimal signs observed muscle toxicity clear within 2 weeks postinjection .', 'hind limb perfusion procedure rather quick simple technique may applied chronic diseased muscles chronic diseases anemia .', 'based successful preclinical studies using mdx mouse golden retriever muscular dystrophy grmd dog models duchenne muscular dystrophy positive expression -though low- safety outcome phase trial intramuscular injection myodys ® full-length dystrophin plasmid duchenne patients first completed gene transfer clinical trial neuromuscular diseases ground set human clinical trial using myodys ® forearm duchenne patients.', 'dose escalation study single-limb perfusion 0 9% saline carried nine adults muscular dystrophies intravenous analgesia.', 'study led fan et al demonstrated feasibility safety 35% limb volume upper extremities young adults muscular dystrophy.', 'perfusion 40% limb volume associated short-lived physiological changes peripheral nerves without clinical correlates one subject .', 'study used lower cuff pressures nonhuman primate studies 310-325 mm hg vs 450-700 mm hg nonhuman primates .', 'studies mdx mouse grmd dog models duchenne dystrophy nonhuman primates minimal volume needed efficient naked dna limb perfusion 40% limb volume .', 'whereas arterial limb perfusion turn safe grmd dogs personal data shown ten consecutive naked dna limb perfusions every day appeared safe dystrophic mice dogs.', 'even though head-to-head comparison would necessary studies suggested gene transfer higher diseased muscles wild-type animals.', 'also noticed highest transfection efficiencies found nonhuman primates 40% limb muscles expressed reporter genes following single-limb perfusion .', 'therefore limb perfusion naked dna remains valid approach treat limb dystrophic muscles alternative viral vectors seropositive patients indications require large transgenes regional gene transfer .', 'ex vivo approaches using gene-corrected stem cells non-viral vectors also explored.', 'human artificial chromosome hac vectors capacity carry large genomic loci replicate segregate autonomously without integration host genome.', 'hac vectors containing entire human dystrophin gene dys-hac native regulatory elements allow dystrophin expression levels similar native dystrophin isoform expression levels.', 'since stably maintained episomal elements host cells dys-hac could introduced several types patient stem progenitor cells ex vivo therapy e g induced pluripotent stem cells mesoangioblasts ac133 mesenchymal stem cells .', 'one main issues however translatability stem cell therapy muscle disorders .', 'development successful non-viral gene delivery systems skeletal muscle highly dependent proportion muscle innervating motoneuron cells need transfected.', '25 years research testing animal models human trials gear us toward two types muscle-directed non-viral gene transfer applications: 1. direct injection.', 'represents far simpler poorly efficient approach.', 'provided highly active gene products used non-viral gene therapy becomes increasingly amenable infectious cancerous peripheral ischemia diseases.', 'vectors could naked dna synthetic complexes 2. intravascular delivery.', 'simple intravenous perfusion non-viral vectors today far less practicable.', 'regional hydrodynamic delivery naked dna offers several advantages viral vectors hold potential muscle diseases including limb-girdle muscular dystrophies peripheral neuropathies.', 'nevertheless muscle gene therapy using systemic administration non-viral vectors retains major hurdles need overcome human applications.', 'disclosure author declares potential competing financial interests.']\n"
          ],
          "name": "stdout"
        }
      ]
    },
    {
      "cell_type": "code",
      "metadata": {
        "colab": {
          "base_uri": "https://localhost:8080/"
        },
        "id": "zA3tZNju5ZKU",
        "outputId": "fd10f021-79ba-4c02-813f-228a6edc3ed0"
      },
      "source": [
        "#Download GloVe Word Embeddings\r\n",
        "!wget http://nlp.stanford.edu/data/glove.6B.zip\r\n",
        "!unzip glove*.zip"
      ],
      "execution_count": 26,
      "outputs": [
        {
          "output_type": "stream",
          "text": [
            "--2020-12-26 19:35:13--  http://nlp.stanford.edu/data/glove.6B.zip\n",
            "Resolving nlp.stanford.edu (nlp.stanford.edu)... 171.64.67.140\n",
            "Connecting to nlp.stanford.edu (nlp.stanford.edu)|171.64.67.140|:80... connected.\n",
            "HTTP request sent, awaiting response... 302 Found\n",
            "Location: https://nlp.stanford.edu/data/glove.6B.zip [following]\n",
            "--2020-12-26 19:35:13--  https://nlp.stanford.edu/data/glove.6B.zip\n",
            "Connecting to nlp.stanford.edu (nlp.stanford.edu)|171.64.67.140|:443... connected.\n",
            "HTTP request sent, awaiting response... 301 Moved Permanently\n",
            "Location: http://downloads.cs.stanford.edu/nlp/data/glove.6B.zip [following]\n",
            "--2020-12-26 19:35:14--  http://downloads.cs.stanford.edu/nlp/data/glove.6B.zip\n",
            "Resolving downloads.cs.stanford.edu (downloads.cs.stanford.edu)... 171.64.64.22\n",
            "Connecting to downloads.cs.stanford.edu (downloads.cs.stanford.edu)|171.64.64.22|:80... connected.\n",
            "HTTP request sent, awaiting response... 200 OK\n",
            "Length: 862182613 (822M) [application/zip]\n",
            "Saving to: ‘glove.6B.zip’\n",
            "\n",
            "glove.6B.zip        100%[===================>] 822.24M  2.20MB/s    in 6m 30s  \n",
            "\n",
            "2020-12-26 19:41:44 (2.11 MB/s) - ‘glove.6B.zip’ saved [862182613/862182613]\n",
            "\n",
            "Archive:  glove.6B.zip\n",
            "  inflating: glove.6B.50d.txt        \n",
            "  inflating: glove.6B.100d.txt       \n",
            "  inflating: glove.6B.200d.txt       \n",
            "  inflating: glove.6B.300d.txt       \n"
          ],
          "name": "stdout"
        }
      ]
    },
    {
      "cell_type": "code",
      "metadata": {
        "id": "qQxthbaU6QSA"
      },
      "source": [
        "# Extract word vectors\r\n",
        "word_embeddings = {}\r\n",
        "f = open('glove.6B.100d.txt', encoding='utf-8')\r\n",
        "for line in f:\r\n",
        "    values = line.split()\r\n",
        "    word = values[0]\r\n",
        "    coefs = np.asarray(values[1:], dtype='float32')\r\n",
        "    word_embeddings[word] = coefs\r\n",
        "f.close()"
      ],
      "execution_count": 27,
      "outputs": []
    },
    {
      "cell_type": "code",
      "metadata": {
        "id": "_AolouVm7pxS"
      },
      "source": [
        "sent_vectors = []\r\n",
        "for i in clean_sent:\r\n",
        "  if len(i) != 0:\r\n",
        "    v = sum([word_embeddings.get(w, np.zeros((100,))) for w in i.split()])/(len(i.split())+0.001)\r\n",
        "  else:\r\n",
        "    v = np.zeros((100,))\r\n",
        "  sent_vectors.append(v)"
      ],
      "execution_count": 28,
      "outputs": []
    },
    {
      "cell_type": "code",
      "metadata": {
        "id": "ZVMGTxpVlv4x"
      },
      "source": [
        "from nltk.cluster.util import cosine_distance\r\n",
        "import networkx as nx\r\n",
        "from sklearn.metrics.pairwise import cosine_similarity"
      ],
      "execution_count": 31,
      "outputs": []
    },
    {
      "cell_type": "code",
      "metadata": {
        "id": "v2IVY5I6mPOp"
      },
      "source": [
        "sim_mat = np.zeros([len(clean_sent), len(clean_sent)])\r\n",
        "for i in range(len(clean_sent)): \r\n",
        "      for j in range(len(clean_sent)): \r\n",
        "        if i != j: \r\n",
        "              sim_mat[i][j] = cosine_similarity (sent_vectors[i].reshape(1,100), sent_vectors[j].reshape(1,100))[0,0]"
      ],
      "execution_count": 32,
      "outputs": []
    },
    {
      "cell_type": "code",
      "metadata": {
        "colab": {
          "base_uri": "https://localhost:8080/"
        },
        "id": "3VK2gkBIm0LS",
        "outputId": "852bbf14-6fb3-4bd8-d547-02125eec81df"
      },
      "source": [
        "print( sim_mat)"
      ],
      "execution_count": 33,
      "outputs": [
        {
          "output_type": "stream",
          "text": [
            "[[0.         0.73532353 0.84382408 ... 0.87502355 0.86222625 0.64597001]\n",
            " [0.73532353 0.         0.71508312 ... 0.77627724 0.75654328 0.5265761 ]\n",
            " [0.84382408 0.71508312 0.         ... 0.87178745 0.85902152 0.64277553]\n",
            " ...\n",
            " [0.87502355 0.77627724 0.87178745 ... 0.         0.85805815 0.63963455]\n",
            " [0.86222625 0.75654328 0.85902152 ... 0.85805815 0.         0.72936708]\n",
            " [0.64597001 0.5265761  0.64277553 ... 0.63963455 0.72936708 0.        ]]\n"
          ],
          "name": "stdout"
        }
      ]
    },
    {
      "cell_type": "code",
      "metadata": {
        "id": "iu-zkrvXnZld"
      },
      "source": [
        "import networkx as nx \r\n",
        "nx_graph = nx.from_numpy_array(sim_mat) \r\n",
        "scores = nx.pagerank(nx_graph)"
      ],
      "execution_count": 36,
      "outputs": []
    },
    {
      "cell_type": "code",
      "metadata": {
        "colab": {
          "base_uri": "https://localhost:8080/"
        },
        "id": "71pDvMgIm-22",
        "outputId": "1e519a62-f717-4c75-c0b0-e2dc8d53a166"
      },
      "source": [
        "ranked_sentences = sorted(((scores[i],s) for i,s in \r\n",
        "                           enumerate(clean_sent)), reverse=True)\r\n",
        "# Extract top 10 sentences as the summary \r\n",
        "for i in range(10): \r\n",
        "      print(ranked_sentences[i][1])"
      ],
      "execution_count": 38,
      "outputs": [
        {
          "output_type": "stream",
          "text": [
            "besides relatively large size many synthetic vectors often 150 nm main obstacles use synthetic complexes via systemic delivery aggregation instability toxicity including negatively charged naked plasmid dna polynucleotides delivered either directly combined physical methods ultrasound electroporation complexed various chemical entities cationic lipids polymers b uptake pathways involve either fusion muscle cell membrane- receptor- clathrin- caveolae- pinocytosis-dependent endocytosis.\n",
            "furthermore also designed ignored contrast viral vectors non-viral gene transfer elicited large extent active intake processes.\n",
            "nevertheless poor efficiency remains compatible applications require low levels therapeutic proteins genetic vaccines cancer peripheral limb ischemia table 9 1 .\n",
            "therefore limb perfusion naked dna remains valid approach treat limb dystrophic muscles alternative viral vectors seropositive patients indications require large transgenes regional gene transfer .\n",
            "today despite number sophisticated chemistries non-viral vectors completely satisfactory transferring genes muscle tissues following systemic administration.\n",
            "allows repeated administrations chronic diseases 3 comparatively easy produce large scale 4 less limited size constraints leaving potential deliver widetype genetic material large 100 kb far beyond size coding sequences dystrophin cdna duchenne muscular dystrophy non-viral vectors 5 remain functional long period time skeletal muscles .\n",
            "long-term expression probably linked postmitotic state skeletal muscles persistence administered genetic material extrachromosomal episomal elements .\n",
            "later case local gene delivery focal lesions peripheral vasculature production highly active hormones ideally suited use intramuscular percutaneous vector delivery.\n",
            "mechanism plasmid dna uptake muscle cells still clear may involve low-affinity receptor-mediated nonspecific processes .\n",
            "episomal plasmid dna persist life rodents many years larger animals delivered low turnover tissues including brain spinal cord heart muscle review see .\n"
          ],
          "name": "stdout"
        }
      ]
    }
  ]
}