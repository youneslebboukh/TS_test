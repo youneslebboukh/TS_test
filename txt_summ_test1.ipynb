{
  "nbformat": 4,
  "nbformat_minor": 0,
  "metadata": {
    "colab": {
      "name": "txt_summ_test1.ipynb",
      "provenance": [],
      "authorship_tag": "ABX9TyMjiuRHW3CFO0bjFJv829NW",
      "include_colab_link": true
    },
    "kernelspec": {
      "name": "python3",
      "display_name": "Python 3"
    }
  },
  "cells": [
    {
      "cell_type": "markdown",
      "metadata": {
        "id": "view-in-github",
        "colab_type": "text"
      },
      "source": [
        "<a href=\"https://colab.research.google.com/github/youneslebboukh/text-summarization/blob/main/txt_summ_test1.ipynb\" target=\"_parent\"><img src=\"https://colab.research.google.com/assets/colab-badge.svg\" alt=\"Open In Colab\"/></a>"
      ]
    },
    {
      "cell_type": "code",
      "metadata": {
        "colab": {
          "base_uri": "https://localhost:8080/"
        },
        "id": "o47yrDdeeuwq",
        "outputId": "68e343aa-a258-4d5e-927a-ca85c917f713"
      },
      "source": [
        "!pip install kaggle"
      ],
      "execution_count": 1,
      "outputs": [
        {
          "output_type": "stream",
          "text": [
            "Requirement already satisfied: kaggle in /usr/local/lib/python3.6/dist-packages (1.5.9)\n",
            "Requirement already satisfied: requests in /usr/local/lib/python3.6/dist-packages (from kaggle) (2.23.0)\n",
            "Requirement already satisfied: urllib3 in /usr/local/lib/python3.6/dist-packages (from kaggle) (1.24.3)\n",
            "Requirement already satisfied: slugify in /usr/local/lib/python3.6/dist-packages (from kaggle) (0.0.1)\n",
            "Requirement already satisfied: python-dateutil in /usr/local/lib/python3.6/dist-packages (from kaggle) (2.8.1)\n",
            "Requirement already satisfied: certifi in /usr/local/lib/python3.6/dist-packages (from kaggle) (2020.11.8)\n",
            "Requirement already satisfied: tqdm in /usr/local/lib/python3.6/dist-packages (from kaggle) (4.41.1)\n",
            "Requirement already satisfied: python-slugify in /usr/local/lib/python3.6/dist-packages (from kaggle) (4.0.1)\n",
            "Requirement already satisfied: six>=1.10 in /usr/local/lib/python3.6/dist-packages (from kaggle) (1.15.0)\n",
            "Requirement already satisfied: chardet<4,>=3.0.2 in /usr/local/lib/python3.6/dist-packages (from requests->kaggle) (3.0.4)\n",
            "Requirement already satisfied: idna<3,>=2.5 in /usr/local/lib/python3.6/dist-packages (from requests->kaggle) (2.10)\n",
            "Requirement already satisfied: text-unidecode>=1.3 in /usr/local/lib/python3.6/dist-packages (from python-slugify->kaggle) (1.3)\n"
          ],
          "name": "stdout"
        }
      ]
    },
    {
      "cell_type": "code",
      "metadata": {
        "colab": {
          "resources": {
            "http://localhost:8080/nbextensions/google.colab/files.js": {
              "data": "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",
              "ok": true,
              "headers": [
                [
                  "content-type",
                  "application/javascript"
                ]
              ],
              "status": 200,
              "status_text": ""
            }
          },
          "base_uri": "https://localhost:8080/",
          "height": 89
        },
        "id": "b4C6_7Z3fIN3",
        "outputId": "2de26bdf-ef94-40d4-f4e8-ca28ca1a374a"
      },
      "source": [
        "from google.colab import files\n",
        "files.upload()"
      ],
      "execution_count": 2,
      "outputs": [
        {
          "output_type": "display_data",
          "data": {
            "text/html": [
              "\n",
              "     <input type=\"file\" id=\"files-a4789ac2-7937-4c43-b053-94eada46f614\" name=\"files[]\" multiple disabled\n",
              "        style=\"border:none\" />\n",
              "     <output id=\"result-a4789ac2-7937-4c43-b053-94eada46f614\">\n",
              "      Upload widget is only available when the cell has been executed in the\n",
              "      current browser session. Please rerun this cell to enable.\n",
              "      </output>\n",
              "      <script src=\"/nbextensions/google.colab/files.js\"></script> "
            ],
            "text/plain": [
              "<IPython.core.display.HTML object>"
            ]
          },
          "metadata": {
            "tags": []
          }
        },
        {
          "output_type": "stream",
          "text": [
            "Saving kaggle.json to kaggle.json\n"
          ],
          "name": "stdout"
        },
        {
          "output_type": "execute_result",
          "data": {
            "text/plain": [
              "{'kaggle.json': b'{\"username\":\"youneslbk\",\"key\":\"ff30355568a25aef64e5c064a14e36fc\"}'}"
            ]
          },
          "metadata": {
            "tags": []
          },
          "execution_count": 2
        }
      ]
    },
    {
      "cell_type": "code",
      "metadata": {
        "id": "RId33NszftMP"
      },
      "source": [
        " !mkdir -p ~/.kaggle\n",
        " !cp kaggle.json ~/.kaggle/"
      ],
      "execution_count": 3,
      "outputs": []
    },
    {
      "cell_type": "code",
      "metadata": {
        "id": "_mRQTOEkgZJ9"
      },
      "source": [
        "  !chmod 600 ~/.kaggle/kaggle.json"
      ],
      "execution_count": 4,
      "outputs": []
    },
    {
      "cell_type": "code",
      "metadata": {
        "colab": {
          "base_uri": "https://localhost:8080/"
        },
        "id": "QcvBdXSAg0Bv",
        "outputId": "a553ce7a-aa56-4e6f-bc95-bff51c180fa4"
      },
      "source": [
        "!kaggle datasets download -d allen-institute-for-ai/CORD-19-research-challenge"
      ],
      "execution_count": 5,
      "outputs": [
        {
          "output_type": "stream",
          "text": [
            "Downloading CORD-19-research-challenge.zip to /content\n",
            "100% 6.04G/6.04G [01:27<00:00, 68.5MB/s]\n",
            "100% 6.04G/6.04G [01:27<00:00, 73.9MB/s]\n"
          ],
          "name": "stdout"
        }
      ]
    },
    {
      "cell_type": "code",
      "metadata": {
        "colab": {
          "base_uri": "https://localhost:8080/"
        },
        "id": "ivtbsfgvhczW",
        "outputId": "bdcd5de2-bcbc-447a-f899-ee17f50f52ed"
      },
      "source": [
        "!pip install zip_files"
      ],
      "execution_count": 6,
      "outputs": [
        {
          "output_type": "stream",
          "text": [
            "Collecting zip_files\n",
            "  Downloading https://files.pythonhosted.org/packages/f3/99/fc7f65a052d30e62b946924ed6334f8f1ebf7c826646b9e17ab1dff2901c/zip_files-0.3.0-py2.py3-none-any.whl\n",
            "Requirement already satisfied: click in /usr/local/lib/python3.6/dist-packages (from zip_files) (7.1.2)\n",
            "Installing collected packages: zip-files\n",
            "Successfully installed zip-files-0.3.0\n"
          ],
          "name": "stdout"
        }
      ]
    },
    {
      "cell_type": "code",
      "metadata": {
        "colab": {
          "base_uri": "https://localhost:8080/"
        },
        "id": "s2QufpcThhCC",
        "outputId": "c6ae757d-1cbd-4032-da25-70aa5bf08698"
      },
      "source": [
        "from zipfile import ZipFile\n",
        "file_name=\"CORD-19-research-challenge.zip\"\n",
        "with ZipFile(file_name,'r') as zip:\n",
        "  zip.extractall()\n",
        "  print('Done')"
      ],
      "execution_count": 7,
      "outputs": [
        {
          "output_type": "stream",
          "text": [
            "Done\n"
          ],
          "name": "stdout"
        }
      ]
    },
    {
      "cell_type": "code",
      "metadata": {
        "colab": {
          "base_uri": "https://localhost:8080/"
        },
        "id": "q6wBDJin_0FI",
        "outputId": "e7c51ca4-851a-4c26-d17d-8c9fd3ac0a12"
      },
      "source": [
        "import numpy as np\n",
        "import pandas as pd\n",
        "import nltk\n",
        "nltk.download('punkt') # one time execution\n",
        "import re"
      ],
      "execution_count": 8,
      "outputs": [
        {
          "output_type": "stream",
          "text": [
            "[nltk_data] Downloading package punkt to /root/nltk_data...\n",
            "[nltk_data]   Unzipping tokenizers/punkt.zip.\n"
          ],
          "name": "stdout"
        }
      ]
    },
    {
      "cell_type": "code",
      "metadata": {
        "id": "QMDImhkrAAYm"
      },
      "source": [
        "df = pd.read_csv(\"/content/cord_19_embeddings/cord_19_embeddings_2020-11-29.csv\")"
      ],
      "execution_count": 9,
      "outputs": []
    },
    {
      "cell_type": "code",
      "metadata": {
        "colab": {
          "base_uri": "https://localhost:8080/",
          "height": 253
        },
        "id": "uDGFyO_uAwQf",
        "outputId": "f2dbcb3e-591a-4cfb-b4b0-f8e6cddb2f15"
      },
      "source": [
        "df.head()"
      ],
      "execution_count": 10,
      "outputs": [
        {
          "output_type": "execute_result",
          "data": {
            "text/html": [
              "<div>\n",
              "<style scoped>\n",
              "    .dataframe tbody tr th:only-of-type {\n",
              "        vertical-align: middle;\n",
              "    }\n",
              "\n",
              "    .dataframe tbody tr th {\n",
              "        vertical-align: top;\n",
              "    }\n",
              "\n",
              "    .dataframe thead th {\n",
              "        text-align: right;\n",
              "    }\n",
              "</style>\n",
              "<table border=\"1\" class=\"dataframe\">\n",
              "  <thead>\n",
              "    <tr style=\"text-align: right;\">\n",
              "      <th></th>\n",
              "      <th>ug7v899j</th>\n",
              "      <th>-2.939983606338501</th>\n",
              "      <th>-6.312200546264648</th>\n",
              "      <th>-1.0459030866622925</th>\n",
              "      <th>5.164162635803223</th>\n",
              "      <th>-0.32564637064933777</th>\n",
              "      <th>-2.507413387298584</th>\n",
              "      <th>1.735608696937561</th>\n",
              "      <th>1.9363566637039185</th>\n",
              "      <th>0.622501015663147</th>\n",
              "      <th>1.5613162517547607</th>\n",
              "      <th>2.7476913928985596</th>\n",
              "      <th>-0.693097710609436</th>\n",
              "      <th>-0.371040940284729</th>\n",
              "      <th>-5.885725021362305</th>\n",
              "      <th>-1.097484827041626</th>\n",
              "      <th>-4.654815673828125</th>\n",
              "      <th>-2.3164637088775635</th>\n",
              "      <th>2.8749594688415527</th>\n",
              "      <th>3.8757808208465576</th>\n",
              "      <th>-0.29598113894462585</th>\n",
              "      <th>1.7702548503875732</th>\n",
              "      <th>4.400593280792236</th>\n",
              "      <th>-0.40593475103378296</th>\n",
              "      <th>-1.7162439823150635</th>\n",
              "      <th>-0.47666341066360474</th>\n",
              "      <th>-2.570713758468628</th>\n",
              "      <th>4.599417686462402</th>\n",
              "      <th>0.16352784633636475</th>\n",
              "      <th>-1.8347313404083252</th>\n",
              "      <th>2.5578644275665283</th>\n",
              "      <th>-3.7916784286499023</th>\n",
              "      <th>-6.2248969078063965</th>\n",
              "      <th>-0.353383868932724</th>\n",
              "      <th>-1.083785057067871</th>\n",
              "      <th>-0.10440695285797119</th>\n",
              "      <th>-2.098464012145996</th>\n",
              "      <th>-1.631538987159729</th>\n",
              "      <th>-0.05292006582021713</th>\n",
              "      <th>-4.062861442565918</th>\n",
              "      <th>...</th>\n",
              "      <th>-4.448026657104492</th>\n",
              "      <th>0.6586090326309204</th>\n",
              "      <th>2.146946668624878</th>\n",
              "      <th>2.1082308292388916</th>\n",
              "      <th>1.6172025203704834</th>\n",
              "      <th>1.3320376873016357</th>\n",
              "      <th>2.582035541534424</th>\n",
              "      <th>0.38238826394081116</th>\n",
              "      <th>2.0623371601104736</th>\n",
              "      <th>-1.6251556873321533</th>\n",
              "      <th>-3.5131406784057617</th>\n",
              "      <th>5.951539993286133</th>\n",
              "      <th>-1.8060410022735596</th>\n",
              "      <th>4.870253086090088</th>\n",
              "      <th>2.026643991470337</th>\n",
              "      <th>-1.3290166854858398</th>\n",
              "      <th>3.488175868988037</th>\n",
              "      <th>-3.4803996086120605</th>\n",
              "      <th>-3.017104148864746</th>\n",
              "      <th>1.3051470518112183</th>\n",
              "      <th>4.799997329711914</th>\n",
              "      <th>2.0917749404907227</th>\n",
              "      <th>3.655892848968506</th>\n",
              "      <th>7.50132417678833</th>\n",
              "      <th>1.7296870946884155</th>\n",
              "      <th>-2.760751247406006</th>\n",
              "      <th>0.6788414716720581</th>\n",
              "      <th>9.059469223022461</th>\n",
              "      <th>-6.121626377105713</th>\n",
              "      <th>-0.28331542015075684</th>\n",
              "      <th>-0.7419174313545227</th>\n",
              "      <th>3.3947110176086426</th>\n",
              "      <th>3.163691282272339</th>\n",
              "      <th>1.3728902339935303</th>\n",
              "      <th>-4.107113361358643</th>\n",
              "      <th>-3.8174145221710205</th>\n",
              "      <th>1.8976187705993652</th>\n",
              "      <th>5.811529159545898</th>\n",
              "      <th>-2.9323840141296387</th>\n",
              "      <th>0.30520474910736084</th>\n",
              "    </tr>\n",
              "  </thead>\n",
              "  <tbody>\n",
              "    <tr>\n",
              "      <th>0</th>\n",
              "      <td>02tnwd4m</td>\n",
              "      <td>4.688466</td>\n",
              "      <td>-6.284460</td>\n",
              "      <td>1.228246</td>\n",
              "      <td>5.569900</td>\n",
              "      <td>5.224824</td>\n",
              "      <td>-0.406792</td>\n",
              "      <td>-2.296234</td>\n",
              "      <td>-4.276381</td>\n",
              "      <td>-0.781381</td>\n",
              "      <td>0.778805</td>\n",
              "      <td>1.883721</td>\n",
              "      <td>-1.492986</td>\n",
              "      <td>-0.766411</td>\n",
              "      <td>-3.738881</td>\n",
              "      <td>0.892268</td>\n",
              "      <td>-2.460252</td>\n",
              "      <td>0.449108</td>\n",
              "      <td>4.119120</td>\n",
              "      <td>1.678917</td>\n",
              "      <td>0.225149</td>\n",
              "      <td>1.099760</td>\n",
              "      <td>0.654176</td>\n",
              "      <td>-3.105709</td>\n",
              "      <td>-0.457166</td>\n",
              "      <td>0.850407</td>\n",
              "      <td>-2.163889</td>\n",
              "      <td>-2.616919</td>\n",
              "      <td>-0.778416</td>\n",
              "      <td>0.786512</td>\n",
              "      <td>2.694408</td>\n",
              "      <td>-6.082226</td>\n",
              "      <td>-2.366469</td>\n",
              "      <td>2.469729</td>\n",
              "      <td>1.363172</td>\n",
              "      <td>0.495820</td>\n",
              "      <td>-1.006055</td>\n",
              "      <td>1.013719</td>\n",
              "      <td>4.971004</td>\n",
              "      <td>-0.700808</td>\n",
              "      <td>...</td>\n",
              "      <td>-0.300452</td>\n",
              "      <td>0.828871</td>\n",
              "      <td>0.361593</td>\n",
              "      <td>-1.233532</td>\n",
              "      <td>-2.208234</td>\n",
              "      <td>2.794682</td>\n",
              "      <td>3.008275</td>\n",
              "      <td>-2.993815</td>\n",
              "      <td>2.649944</td>\n",
              "      <td>0.757477</td>\n",
              "      <td>2.821323</td>\n",
              "      <td>5.064476</td>\n",
              "      <td>0.562733</td>\n",
              "      <td>0.993464</td>\n",
              "      <td>-0.725214</td>\n",
              "      <td>-0.564294</td>\n",
              "      <td>1.143798</td>\n",
              "      <td>1.532649</td>\n",
              "      <td>0.148730</td>\n",
              "      <td>2.408614</td>\n",
              "      <td>-3.407928</td>\n",
              "      <td>2.006386</td>\n",
              "      <td>4.332988</td>\n",
              "      <td>7.439245</td>\n",
              "      <td>-1.320890</td>\n",
              "      <td>0.811119</td>\n",
              "      <td>0.015616</td>\n",
              "      <td>8.939779</td>\n",
              "      <td>-3.204904</td>\n",
              "      <td>0.567743</td>\n",
              "      <td>-0.850256</td>\n",
              "      <td>2.700679</td>\n",
              "      <td>-1.659213</td>\n",
              "      <td>-1.057281</td>\n",
              "      <td>-1.801275</td>\n",
              "      <td>0.276088</td>\n",
              "      <td>0.880289</td>\n",
              "      <td>4.176544</td>\n",
              "      <td>-5.686561</td>\n",
              "      <td>0.512474</td>\n",
              "    </tr>\n",
              "    <tr>\n",
              "      <th>1</th>\n",
              "      <td>ejv2xln0</td>\n",
              "      <td>0.559920</td>\n",
              "      <td>-6.754057</td>\n",
              "      <td>2.271945</td>\n",
              "      <td>7.644496</td>\n",
              "      <td>3.592816</td>\n",
              "      <td>-1.320622</td>\n",
              "      <td>-0.752549</td>\n",
              "      <td>1.384198</td>\n",
              "      <td>0.892751</td>\n",
              "      <td>0.258893</td>\n",
              "      <td>4.365513</td>\n",
              "      <td>-5.431875</td>\n",
              "      <td>0.195132</td>\n",
              "      <td>-4.260732</td>\n",
              "      <td>0.902808</td>\n",
              "      <td>-1.561913</td>\n",
              "      <td>-3.514779</td>\n",
              "      <td>4.644058</td>\n",
              "      <td>2.624561</td>\n",
              "      <td>0.162818</td>\n",
              "      <td>3.019039</td>\n",
              "      <td>5.075169</td>\n",
              "      <td>-4.245872</td>\n",
              "      <td>-3.055524</td>\n",
              "      <td>-2.970051</td>\n",
              "      <td>-1.838080</td>\n",
              "      <td>-1.324888</td>\n",
              "      <td>-3.368468</td>\n",
              "      <td>-0.102955</td>\n",
              "      <td>1.040391</td>\n",
              "      <td>0.662428</td>\n",
              "      <td>-5.342504</td>\n",
              "      <td>0.181083</td>\n",
              "      <td>2.842383</td>\n",
              "      <td>4.279537</td>\n",
              "      <td>-3.438615</td>\n",
              "      <td>3.753135</td>\n",
              "      <td>4.154160</td>\n",
              "      <td>2.475333</td>\n",
              "      <td>...</td>\n",
              "      <td>-2.672794</td>\n",
              "      <td>-1.908578</td>\n",
              "      <td>3.576236</td>\n",
              "      <td>6.076283</td>\n",
              "      <td>-1.858226</td>\n",
              "      <td>6.599521</td>\n",
              "      <td>-0.266792</td>\n",
              "      <td>-1.697168</td>\n",
              "      <td>5.583935</td>\n",
              "      <td>0.448468</td>\n",
              "      <td>2.604239</td>\n",
              "      <td>4.523938</td>\n",
              "      <td>-0.474635</td>\n",
              "      <td>4.019674</td>\n",
              "      <td>-2.271774</td>\n",
              "      <td>-1.787272</td>\n",
              "      <td>4.636471</td>\n",
              "      <td>3.868529</td>\n",
              "      <td>-2.309617</td>\n",
              "      <td>4.335872</td>\n",
              "      <td>0.041701</td>\n",
              "      <td>-2.263585</td>\n",
              "      <td>4.607135</td>\n",
              "      <td>6.787549</td>\n",
              "      <td>3.260960</td>\n",
              "      <td>-2.696694</td>\n",
              "      <td>1.067947</td>\n",
              "      <td>10.098267</td>\n",
              "      <td>-3.051283</td>\n",
              "      <td>-1.184698</td>\n",
              "      <td>2.043988</td>\n",
              "      <td>4.330732</td>\n",
              "      <td>-0.018087</td>\n",
              "      <td>4.812413</td>\n",
              "      <td>-2.565279</td>\n",
              "      <td>-2.131349</td>\n",
              "      <td>1.669153</td>\n",
              "      <td>4.521635</td>\n",
              "      <td>-2.847652</td>\n",
              "      <td>-1.536697</td>\n",
              "    </tr>\n",
              "    <tr>\n",
              "      <th>2</th>\n",
              "      <td>2b73a28n</td>\n",
              "      <td>2.352540</td>\n",
              "      <td>-3.997074</td>\n",
              "      <td>2.399774</td>\n",
              "      <td>4.594238</td>\n",
              "      <td>2.343638</td>\n",
              "      <td>1.867916</td>\n",
              "      <td>-3.466859</td>\n",
              "      <td>-3.148963</td>\n",
              "      <td>-0.073157</td>\n",
              "      <td>-1.253756</td>\n",
              "      <td>5.923308</td>\n",
              "      <td>-0.853207</td>\n",
              "      <td>-1.272449</td>\n",
              "      <td>-0.723905</td>\n",
              "      <td>-2.913522</td>\n",
              "      <td>-4.398122</td>\n",
              "      <td>-3.547138</td>\n",
              "      <td>2.770689</td>\n",
              "      <td>-1.804469</td>\n",
              "      <td>-1.278515</td>\n",
              "      <td>-0.490068</td>\n",
              "      <td>2.357586</td>\n",
              "      <td>-2.005800</td>\n",
              "      <td>-1.896575</td>\n",
              "      <td>-0.126651</td>\n",
              "      <td>0.340301</td>\n",
              "      <td>-0.666419</td>\n",
              "      <td>1.822885</td>\n",
              "      <td>4.243009</td>\n",
              "      <td>1.366591</td>\n",
              "      <td>-6.493538</td>\n",
              "      <td>-1.818040</td>\n",
              "      <td>0.247307</td>\n",
              "      <td>-1.397344</td>\n",
              "      <td>0.379261</td>\n",
              "      <td>-5.048644</td>\n",
              "      <td>-1.719356</td>\n",
              "      <td>4.597107</td>\n",
              "      <td>3.091490</td>\n",
              "      <td>...</td>\n",
              "      <td>-1.512580</td>\n",
              "      <td>-0.915845</td>\n",
              "      <td>7.282991</td>\n",
              "      <td>0.130109</td>\n",
              "      <td>-1.854515</td>\n",
              "      <td>2.557604</td>\n",
              "      <td>0.871803</td>\n",
              "      <td>-2.677596</td>\n",
              "      <td>5.315770</td>\n",
              "      <td>-1.036525</td>\n",
              "      <td>2.026804</td>\n",
              "      <td>1.740658</td>\n",
              "      <td>3.979416</td>\n",
              "      <td>3.923803</td>\n",
              "      <td>-1.702404</td>\n",
              "      <td>-2.374823</td>\n",
              "      <td>3.764085</td>\n",
              "      <td>2.599324</td>\n",
              "      <td>-2.169704</td>\n",
              "      <td>-0.454528</td>\n",
              "      <td>-3.777705</td>\n",
              "      <td>2.210529</td>\n",
              "      <td>4.895524</td>\n",
              "      <td>7.407794</td>\n",
              "      <td>2.584657</td>\n",
              "      <td>-3.626202</td>\n",
              "      <td>-0.079223</td>\n",
              "      <td>6.828236</td>\n",
              "      <td>-4.309456</td>\n",
              "      <td>-0.945353</td>\n",
              "      <td>0.109116</td>\n",
              "      <td>3.492890</td>\n",
              "      <td>-3.039974</td>\n",
              "      <td>1.304383</td>\n",
              "      <td>-1.309967</td>\n",
              "      <td>-2.441383</td>\n",
              "      <td>-1.254180</td>\n",
              "      <td>-0.573785</td>\n",
              "      <td>-1.402024</td>\n",
              "      <td>3.922583</td>\n",
              "    </tr>\n",
              "    <tr>\n",
              "      <th>3</th>\n",
              "      <td>9785vg6d</td>\n",
              "      <td>-1.290922</td>\n",
              "      <td>-5.849864</td>\n",
              "      <td>1.557572</td>\n",
              "      <td>7.989901</td>\n",
              "      <td>5.805941</td>\n",
              "      <td>-4.537519</td>\n",
              "      <td>1.914945</td>\n",
              "      <td>-1.324861</td>\n",
              "      <td>0.861168</td>\n",
              "      <td>0.476147</td>\n",
              "      <td>7.448187</td>\n",
              "      <td>-1.623727</td>\n",
              "      <td>-1.688577</td>\n",
              "      <td>-5.975988</td>\n",
              "      <td>-0.036665</td>\n",
              "      <td>-3.010451</td>\n",
              "      <td>1.511807</td>\n",
              "      <td>2.015985</td>\n",
              "      <td>-0.452989</td>\n",
              "      <td>0.049160</td>\n",
              "      <td>0.596571</td>\n",
              "      <td>0.176680</td>\n",
              "      <td>-4.109179</td>\n",
              "      <td>-3.573033</td>\n",
              "      <td>0.868677</td>\n",
              "      <td>-3.117820</td>\n",
              "      <td>1.164092</td>\n",
              "      <td>-1.275612</td>\n",
              "      <td>0.503927</td>\n",
              "      <td>0.614019</td>\n",
              "      <td>-0.702581</td>\n",
              "      <td>-0.004554</td>\n",
              "      <td>-2.376985</td>\n",
              "      <td>2.124615</td>\n",
              "      <td>2.024539</td>\n",
              "      <td>-0.676576</td>\n",
              "      <td>0.556432</td>\n",
              "      <td>0.719496</td>\n",
              "      <td>-2.543080</td>\n",
              "      <td>...</td>\n",
              "      <td>2.782180</td>\n",
              "      <td>-0.707023</td>\n",
              "      <td>7.413756</td>\n",
              "      <td>0.010987</td>\n",
              "      <td>-2.358779</td>\n",
              "      <td>1.974137</td>\n",
              "      <td>1.157088</td>\n",
              "      <td>-3.946716</td>\n",
              "      <td>5.257740</td>\n",
              "      <td>-0.164314</td>\n",
              "      <td>3.841604</td>\n",
              "      <td>5.843330</td>\n",
              "      <td>5.054233</td>\n",
              "      <td>2.900590</td>\n",
              "      <td>0.126414</td>\n",
              "      <td>-3.015790</td>\n",
              "      <td>6.461278</td>\n",
              "      <td>-1.706657</td>\n",
              "      <td>-3.369214</td>\n",
              "      <td>5.235333</td>\n",
              "      <td>0.387148</td>\n",
              "      <td>-2.841369</td>\n",
              "      <td>0.727675</td>\n",
              "      <td>7.676287</td>\n",
              "      <td>5.364464</td>\n",
              "      <td>-4.300441</td>\n",
              "      <td>3.402898</td>\n",
              "      <td>8.272678</td>\n",
              "      <td>-1.331833</td>\n",
              "      <td>-3.441276</td>\n",
              "      <td>1.049299</td>\n",
              "      <td>1.902446</td>\n",
              "      <td>2.644630</td>\n",
              "      <td>1.695888</td>\n",
              "      <td>-2.386420</td>\n",
              "      <td>-3.247509</td>\n",
              "      <td>2.203239</td>\n",
              "      <td>4.226255</td>\n",
              "      <td>1.244299</td>\n",
              "      <td>-4.117685</td>\n",
              "    </tr>\n",
              "    <tr>\n",
              "      <th>4</th>\n",
              "      <td>zjufx4fo</td>\n",
              "      <td>2.721076</td>\n",
              "      <td>-0.431015</td>\n",
              "      <td>2.179080</td>\n",
              "      <td>6.504300</td>\n",
              "      <td>-0.202242</td>\n",
              "      <td>-0.894725</td>\n",
              "      <td>2.972502</td>\n",
              "      <td>-3.347002</td>\n",
              "      <td>-0.064544</td>\n",
              "      <td>1.322008</td>\n",
              "      <td>3.980237</td>\n",
              "      <td>-5.639445</td>\n",
              "      <td>2.043739</td>\n",
              "      <td>-3.604694</td>\n",
              "      <td>-1.345328</td>\n",
              "      <td>-3.929137</td>\n",
              "      <td>4.101478</td>\n",
              "      <td>-2.399974</td>\n",
              "      <td>2.137731</td>\n",
              "      <td>1.675064</td>\n",
              "      <td>-0.143634</td>\n",
              "      <td>-0.092440</td>\n",
              "      <td>-2.700686</td>\n",
              "      <td>-6.603998</td>\n",
              "      <td>2.446843</td>\n",
              "      <td>-3.726915</td>\n",
              "      <td>1.012707</td>\n",
              "      <td>0.227775</td>\n",
              "      <td>-3.807333</td>\n",
              "      <td>-0.327097</td>\n",
              "      <td>0.568956</td>\n",
              "      <td>-3.572059</td>\n",
              "      <td>-2.282248</td>\n",
              "      <td>-2.515880</td>\n",
              "      <td>3.737952</td>\n",
              "      <td>-3.633472</td>\n",
              "      <td>-1.235678</td>\n",
              "      <td>2.154632</td>\n",
              "      <td>0.057236</td>\n",
              "      <td>...</td>\n",
              "      <td>1.267224</td>\n",
              "      <td>2.416099</td>\n",
              "      <td>0.538617</td>\n",
              "      <td>-0.124669</td>\n",
              "      <td>0.752563</td>\n",
              "      <td>3.241788</td>\n",
              "      <td>-1.466146</td>\n",
              "      <td>-0.760820</td>\n",
              "      <td>1.205832</td>\n",
              "      <td>0.380042</td>\n",
              "      <td>3.702507</td>\n",
              "      <td>-0.222757</td>\n",
              "      <td>-0.446687</td>\n",
              "      <td>-2.247987</td>\n",
              "      <td>-0.592047</td>\n",
              "      <td>-0.426522</td>\n",
              "      <td>6.708859</td>\n",
              "      <td>4.358128</td>\n",
              "      <td>-0.048565</td>\n",
              "      <td>1.796633</td>\n",
              "      <td>3.381335</td>\n",
              "      <td>-2.512413</td>\n",
              "      <td>1.576218</td>\n",
              "      <td>6.675735</td>\n",
              "      <td>4.708695</td>\n",
              "      <td>-0.665352</td>\n",
              "      <td>2.318181</td>\n",
              "      <td>13.279179</td>\n",
              "      <td>-1.817178</td>\n",
              "      <td>-5.704529</td>\n",
              "      <td>-2.130265</td>\n",
              "      <td>0.783100</td>\n",
              "      <td>4.464694</td>\n",
              "      <td>4.126187</td>\n",
              "      <td>0.616837</td>\n",
              "      <td>-5.794294</td>\n",
              "      <td>3.973725</td>\n",
              "      <td>9.372234</td>\n",
              "      <td>-0.950782</td>\n",
              "      <td>-3.712291</td>\n",
              "    </tr>\n",
              "  </tbody>\n",
              "</table>\n",
              "<p>5 rows × 769 columns</p>\n",
              "</div>"
            ],
            "text/plain": [
              "   ug7v899j  -2.939983606338501  ...  -2.9323840141296387  0.30520474910736084\n",
              "0  02tnwd4m            4.688466  ...            -5.686561             0.512474\n",
              "1  ejv2xln0            0.559920  ...            -2.847652            -1.536697\n",
              "2  2b73a28n            2.352540  ...            -1.402024             3.922583\n",
              "3  9785vg6d           -1.290922  ...             1.244299            -4.117685\n",
              "4  zjufx4fo            2.721076  ...            -0.950782            -3.712291\n",
              "\n",
              "[5 rows x 769 columns]"
            ]
          },
          "metadata": {
            "tags": []
          },
          "execution_count": 10
        }
      ]
    },
    {
      "cell_type": "code",
      "metadata": {
        "colab": {
          "base_uri": "https://localhost:8080/"
        },
        "id": "PFg83UK0BC77",
        "outputId": "2ac0cc49-c472-4c07-a1e4-c1c88bf43924"
      },
      "source": [
        "df = pd.read_csv(\"/content/metadata.csv\")"
      ],
      "execution_count": 11,
      "outputs": [
        {
          "output_type": "stream",
          "text": [
            "/usr/local/lib/python3.6/dist-packages/IPython/core/interactiveshell.py:2718: DtypeWarning: Columns (1,4,5,6,13,14,15,16) have mixed types.Specify dtype option on import or set low_memory=False.\n",
            "  interactivity=interactivity, compiler=compiler, result=result)\n"
          ],
          "name": "stderr"
        }
      ]
    },
    {
      "cell_type": "code",
      "metadata": {
        "colab": {
          "base_uri": "https://localhost:8080/",
          "height": 564
        },
        "id": "uV4DtP5-BTaA",
        "outputId": "2d1e8546-12c8-4800-c77a-e3be3ae1e935"
      },
      "source": [
        "df.head()"
      ],
      "execution_count": 12,
      "outputs": [
        {
          "output_type": "execute_result",
          "data": {
            "text/html": [
              "<div>\n",
              "<style scoped>\n",
              "    .dataframe tbody tr th:only-of-type {\n",
              "        vertical-align: middle;\n",
              "    }\n",
              "\n",
              "    .dataframe tbody tr th {\n",
              "        vertical-align: top;\n",
              "    }\n",
              "\n",
              "    .dataframe thead th {\n",
              "        text-align: right;\n",
              "    }\n",
              "</style>\n",
              "<table border=\"1\" class=\"dataframe\">\n",
              "  <thead>\n",
              "    <tr style=\"text-align: right;\">\n",
              "      <th></th>\n",
              "      <th>cord_uid</th>\n",
              "      <th>sha</th>\n",
              "      <th>source_x</th>\n",
              "      <th>title</th>\n",
              "      <th>doi</th>\n",
              "      <th>pmcid</th>\n",
              "      <th>pubmed_id</th>\n",
              "      <th>license</th>\n",
              "      <th>abstract</th>\n",
              "      <th>publish_time</th>\n",
              "      <th>authors</th>\n",
              "      <th>journal</th>\n",
              "      <th>mag_id</th>\n",
              "      <th>who_covidence_id</th>\n",
              "      <th>arxiv_id</th>\n",
              "      <th>pdf_json_files</th>\n",
              "      <th>pmc_json_files</th>\n",
              "      <th>url</th>\n",
              "      <th>s2_id</th>\n",
              "    </tr>\n",
              "  </thead>\n",
              "  <tbody>\n",
              "    <tr>\n",
              "      <th>0</th>\n",
              "      <td>ug7v899j</td>\n",
              "      <td>d1aafb70c066a2068b02786f8929fd9c900897fb</td>\n",
              "      <td>PMC</td>\n",
              "      <td>Clinical features of culture-proven Mycoplasma...</td>\n",
              "      <td>10.1186/1471-2334-1-6</td>\n",
              "      <td>PMC35282</td>\n",
              "      <td>11472636</td>\n",
              "      <td>no-cc</td>\n",
              "      <td>OBJECTIVE: This retrospective chart review des...</td>\n",
              "      <td>2001-07-04</td>\n",
              "      <td>Madani, Tariq A; Al-Ghamdi, Aisha A</td>\n",
              "      <td>BMC Infect Dis</td>\n",
              "      <td>NaN</td>\n",
              "      <td>NaN</td>\n",
              "      <td>NaN</td>\n",
              "      <td>document_parses/pdf_json/d1aafb70c066a2068b027...</td>\n",
              "      <td>document_parses/pmc_json/PMC35282.xml.json</td>\n",
              "      <td>https://www.ncbi.nlm.nih.gov/pmc/articles/PMC3...</td>\n",
              "      <td>NaN</td>\n",
              "    </tr>\n",
              "    <tr>\n",
              "      <th>1</th>\n",
              "      <td>02tnwd4m</td>\n",
              "      <td>6b0567729c2143a66d737eb0a2f63f2dce2e5a7d</td>\n",
              "      <td>PMC</td>\n",
              "      <td>Nitric oxide: a pro-inflammatory mediator in l...</td>\n",
              "      <td>10.1186/rr14</td>\n",
              "      <td>PMC59543</td>\n",
              "      <td>11667967</td>\n",
              "      <td>no-cc</td>\n",
              "      <td>Inflammatory diseases of the respiratory tract...</td>\n",
              "      <td>2000-08-15</td>\n",
              "      <td>Vliet, Albert van der; Eiserich, Jason P; Cros...</td>\n",
              "      <td>Respir Res</td>\n",
              "      <td>NaN</td>\n",
              "      <td>NaN</td>\n",
              "      <td>NaN</td>\n",
              "      <td>document_parses/pdf_json/6b0567729c2143a66d737...</td>\n",
              "      <td>document_parses/pmc_json/PMC59543.xml.json</td>\n",
              "      <td>https://www.ncbi.nlm.nih.gov/pmc/articles/PMC5...</td>\n",
              "      <td>NaN</td>\n",
              "    </tr>\n",
              "    <tr>\n",
              "      <th>2</th>\n",
              "      <td>ejv2xln0</td>\n",
              "      <td>06ced00a5fc04215949aa72528f2eeaae1d58927</td>\n",
              "      <td>PMC</td>\n",
              "      <td>Surfactant protein-D and pulmonary host defense</td>\n",
              "      <td>10.1186/rr19</td>\n",
              "      <td>PMC59549</td>\n",
              "      <td>11667972</td>\n",
              "      <td>no-cc</td>\n",
              "      <td>Surfactant protein-D (SP-D) participates in th...</td>\n",
              "      <td>2000-08-25</td>\n",
              "      <td>Crouch, Erika C</td>\n",
              "      <td>Respir Res</td>\n",
              "      <td>NaN</td>\n",
              "      <td>NaN</td>\n",
              "      <td>NaN</td>\n",
              "      <td>document_parses/pdf_json/06ced00a5fc04215949aa...</td>\n",
              "      <td>document_parses/pmc_json/PMC59549.xml.json</td>\n",
              "      <td>https://www.ncbi.nlm.nih.gov/pmc/articles/PMC5...</td>\n",
              "      <td>NaN</td>\n",
              "    </tr>\n",
              "    <tr>\n",
              "      <th>3</th>\n",
              "      <td>2b73a28n</td>\n",
              "      <td>348055649b6b8cf2b9a376498df9bf41f7123605</td>\n",
              "      <td>PMC</td>\n",
              "      <td>Role of endothelin-1 in lung disease</td>\n",
              "      <td>10.1186/rr44</td>\n",
              "      <td>PMC59574</td>\n",
              "      <td>11686871</td>\n",
              "      <td>no-cc</td>\n",
              "      <td>Endothelin-1 (ET-1) is a 21 amino acid peptide...</td>\n",
              "      <td>2001-02-22</td>\n",
              "      <td>Fagan, Karen A; McMurtry, Ivan F; Rodman, David M</td>\n",
              "      <td>Respir Res</td>\n",
              "      <td>NaN</td>\n",
              "      <td>NaN</td>\n",
              "      <td>NaN</td>\n",
              "      <td>document_parses/pdf_json/348055649b6b8cf2b9a37...</td>\n",
              "      <td>document_parses/pmc_json/PMC59574.xml.json</td>\n",
              "      <td>https://www.ncbi.nlm.nih.gov/pmc/articles/PMC5...</td>\n",
              "      <td>NaN</td>\n",
              "    </tr>\n",
              "    <tr>\n",
              "      <th>4</th>\n",
              "      <td>9785vg6d</td>\n",
              "      <td>5f48792a5fa08bed9f56016f4981ae2ca6031b32</td>\n",
              "      <td>PMC</td>\n",
              "      <td>Gene expression in epithelial cells in respons...</td>\n",
              "      <td>10.1186/rr61</td>\n",
              "      <td>PMC59580</td>\n",
              "      <td>11686888</td>\n",
              "      <td>no-cc</td>\n",
              "      <td>Respiratory syncytial virus (RSV) and pneumoni...</td>\n",
              "      <td>2001-05-11</td>\n",
              "      <td>Domachowske, Joseph B; Bonville, Cynthia A; Ro...</td>\n",
              "      <td>Respir Res</td>\n",
              "      <td>NaN</td>\n",
              "      <td>NaN</td>\n",
              "      <td>NaN</td>\n",
              "      <td>document_parses/pdf_json/5f48792a5fa08bed9f560...</td>\n",
              "      <td>document_parses/pmc_json/PMC59580.xml.json</td>\n",
              "      <td>https://www.ncbi.nlm.nih.gov/pmc/articles/PMC5...</td>\n",
              "      <td>NaN</td>\n",
              "    </tr>\n",
              "  </tbody>\n",
              "</table>\n",
              "</div>"
            ],
            "text/plain": [
              "   cord_uid  ... s2_id\n",
              "0  ug7v899j  ...   NaN\n",
              "1  02tnwd4m  ...   NaN\n",
              "2  ejv2xln0  ...   NaN\n",
              "3  2b73a28n  ...   NaN\n",
              "4  9785vg6d  ...   NaN\n",
              "\n",
              "[5 rows x 19 columns]"
            ]
          },
          "metadata": {
            "tags": []
          },
          "execution_count": 12
        }
      ]
    },
    {
      "cell_type": "code",
      "metadata": {
        "colab": {
          "base_uri": "https://localhost:8080/",
          "height": 35
        },
        "id": "ov_4SvvLBsw-",
        "outputId": "15b88717-8ea3-4582-ade7-983e592aad46"
      },
      "source": [
        "df['pdf_json_files'][0]"
      ],
      "execution_count": 16,
      "outputs": [
        {
          "output_type": "execute_result",
          "data": {
            "application/vnd.google.colaboratory.intrinsic+json": {
              "type": "string"
            },
            "text/plain": [
              "'document_parses/pdf_json/d1aafb70c066a2068b02786f8929fd9c900897fb.json'"
            ]
          },
          "metadata": {
            "tags": []
          },
          "execution_count": 16
        }
      ]
    }
  ]
}