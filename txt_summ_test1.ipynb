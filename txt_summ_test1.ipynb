{
  "nbformat": 4,
  "nbformat_minor": 0,
  "metadata": {
    "colab": {
      "name": "txt_summ_test1.ipynb",
      "provenance": [],
      "collapsed_sections": [],
      "authorship_tag": "ABX9TyNTKZ5fd2sPgRu06bOPfGVq",
      "include_colab_link": true
    },
    "kernelspec": {
      "display_name": "Python 3",
      "name": "python3"
    }
  },
  "cells": [
    {
      "cell_type": "markdown",
      "metadata": {
        "id": "view-in-github",
        "colab_type": "text"
      },
      "source": [
        "<a href=\"https://colab.research.google.com/github/youneslebboukh/text-summarization/blob/main/txt_summ_test1.ipynb\" target=\"_parent\"><img src=\"https://colab.research.google.com/assets/colab-badge.svg\" alt=\"Open In Colab\"/></a>"
      ]
    },
    {
      "cell_type": "code",
      "metadata": {
        "colab": {
          "base_uri": "https://localhost:8080/"
        },
        "id": "o47yrDdeeuwq",
        "outputId": "2bb66a88-4011-4893-b289-010cf797ff46"
      },
      "source": [
        "!pip install kaggle"
      ],
      "execution_count": 1,
      "outputs": [
        {
          "output_type": "stream",
          "text": [
            "Requirement already satisfied: kaggle in /usr/local/lib/python3.6/dist-packages (1.5.10)\n",
            "Requirement already satisfied: six>=1.10 in /usr/local/lib/python3.6/dist-packages (from kaggle) (1.15.0)\n",
            "Requirement already satisfied: urllib3 in /usr/local/lib/python3.6/dist-packages (from kaggle) (1.24.3)\n",
            "Requirement already satisfied: tqdm in /usr/local/lib/python3.6/dist-packages (from kaggle) (4.41.1)\n",
            "Requirement already satisfied: requests in /usr/local/lib/python3.6/dist-packages (from kaggle) (2.23.0)\n",
            "Requirement already satisfied: python-dateutil in /usr/local/lib/python3.6/dist-packages (from kaggle) (2.8.1)\n",
            "Requirement already satisfied: certifi in /usr/local/lib/python3.6/dist-packages (from kaggle) (2020.12.5)\n",
            "Requirement already satisfied: python-slugify in /usr/local/lib/python3.6/dist-packages (from kaggle) (4.0.1)\n",
            "Requirement already satisfied: chardet<4,>=3.0.2 in /usr/local/lib/python3.6/dist-packages (from requests->kaggle) (3.0.4)\n",
            "Requirement already satisfied: idna<3,>=2.5 in /usr/local/lib/python3.6/dist-packages (from requests->kaggle) (2.10)\n",
            "Requirement already satisfied: text-unidecode>=1.3 in /usr/local/lib/python3.6/dist-packages (from python-slugify->kaggle) (1.3)\n"
          ],
          "name": "stdout"
        }
      ]
    },
    {
      "cell_type": "code",
      "metadata": {
        "colab": {
          "resources": {
            "http://localhost:8080/nbextensions/google.colab/files.js": {
              "data": "Ly8gQ29weXJpZ2h0IDIwMTcgR29vZ2xlIExMQwovLwovLyBMaWNlbnNlZCB1bmRlciB0aGUgQXBhY2hlIExpY2Vuc2UsIFZlcnNpb24gMi4wICh0aGUgIkxpY2Vuc2UiKTsKLy8geW91IG1heSBub3QgdXNlIHRoaXMgZmlsZSBleGNlcHQgaW4gY29tcGxpYW5jZSB3aXRoIHRoZSBMaWNlbnNlLgovLyBZb3UgbWF5IG9idGFpbiBhIGNvcHkgb2YgdGhlIExpY2Vuc2UgYXQKLy8KLy8gICAgICBodHRwOi8vd3d3LmFwYWNoZS5vcmcvbGljZW5zZXMvTElDRU5TRS0yLjAKLy8KLy8gVW5sZXNzIHJlcXVpcmVkIGJ5IGFwcGxpY2FibGUgbGF3IG9yIGFncmVlZCB0byBpbiB3cml0aW5nLCBzb2Z0d2FyZQovLyBkaXN0cmlidXRlZCB1bmRlciB0aGUgTGljZW5zZSBpcyBkaXN0cmlidXRlZCBvbiBhbiAiQVMgSVMiIEJBU0lTLAovLyBXSVRIT1VUIFdBUlJBTlRJRVMgT1IgQ09ORElUSU9OUyBPRiBBTlkgS0lORCwgZWl0aGVyIGV4cHJlc3Mgb3IgaW1wbGllZC4KLy8gU2VlIHRoZSBMaWNlbnNlIGZvciB0aGUgc3BlY2lmaWMgbGFuZ3VhZ2UgZ292ZXJuaW5nIHBlcm1pc3Npb25zIGFuZAovLyBsaW1pdGF0aW9ucyB1bmRlciB0aGUgTGljZW5zZS4KCi8qKgogKiBAZmlsZW92ZXJ2aWV3IEhlbHBlcnMgZm9yIGdvb2dsZS5jb2xhYiBQeXRob24gbW9kdWxlLgogKi8KKGZ1bmN0aW9uKHNjb3BlKSB7CmZ1bmN0aW9uIHNwYW4odGV4dCwgc3R5bGVBdHRyaWJ1dGVzID0ge30pIHsKICBjb25zdCBlbGVtZW50ID0gZG9jdW1lbnQuY3JlYXRlRWxlbWVudCgnc3BhbicpOwogIGVsZW1lbnQudGV4dENvbnRlbnQgPSB0ZXh0OwogIGZvciAoY29uc3Qga2V5IG9mIE9iamVjdC5rZXlzKHN0eWxlQXR0cmlidXRlcykpIHsKICAgIGVsZW1lbnQuc3R5bGVba2V5XSA9IHN0eWxlQXR0cmlidXRlc1trZXldOwogIH0KICByZXR1cm4gZWxlbWVudDsKfQoKLy8gTWF4IG51bWJlciBvZiBieXRlcyB3aGljaCB3aWxsIGJlIHVwbG9hZGVkIGF0IGEgdGltZS4KY29uc3QgTUFYX1BBWUxPQURfU0laRSA9IDEwMCAqIDEwMjQ7CgpmdW5jdGlvbiBfdXBsb2FkRmlsZXMoaW5wdXRJZCwgb3V0cHV0SWQpIHsKICBjb25zdCBzdGVwcyA9IHVwbG9hZEZpbGVzU3RlcChpbnB1dElkLCBvdXRwdXRJZCk7CiAgY29uc3Qgb3V0cHV0RWxlbWVudCA9IGRvY3VtZW50LmdldEVsZW1lbnRCeUlkKG91dHB1dElkKTsKICAvLyBDYWNoZSBzdGVwcyBvbiB0aGUgb3V0cHV0RWxlbWVudCB0byBtYWtlIGl0IGF2YWlsYWJsZSBmb3IgdGhlIG5leHQgY2FsbAogIC8vIHRvIHVwbG9hZEZpbGVzQ29udGludWUgZnJvbSBQeXRob24uCiAgb3V0cHV0RWxlbWVudC5zdGVwcyA9IHN0ZXBzOwoKICByZXR1cm4gX3VwbG9hZEZpbGVzQ29udGludWUob3V0cHV0SWQpOwp9CgovLyBUaGlzIGlzIHJvdWdobHkgYW4gYXN5bmMgZ2VuZXJhdG9yIChub3Qgc3VwcG9ydGVkIGluIHRoZSBicm93c2VyIHlldCksCi8vIHdoZXJlIHRoZXJlIGFyZSBtdWx0aXBsZSBhc3luY2hyb25vdXMgc3RlcHMgYW5kIHRoZSBQeXRob24gc2lkZSBpcyBnb2luZwovLyB0byBwb2xsIGZvciBjb21wbGV0aW9uIG9mIGVhY2ggc3RlcC4KLy8gVGhpcyB1c2VzIGEgUHJvbWlzZSB0byBibG9jayB0aGUgcHl0aG9uIHNpZGUgb24gY29tcGxldGlvbiBvZiBlYWNoIHN0ZXAsCi8vIHRoZW4gcGFzc2VzIHRoZSByZXN1bHQgb2YgdGhlIHByZXZpb3VzIHN0ZXAgYXMgdGhlIGlucHV0IHRvIHRoZSBuZXh0IHN0ZXAuCmZ1bmN0aW9uIF91cGxvYWRGaWxlc0NvbnRpbnVlKG91dHB1dElkKSB7CiAgY29uc3Qgb3V0cHV0RWxlbWVudCA9IGRvY3VtZW50LmdldEVsZW1lbnRCeUlkKG91dHB1dElkKTsKICBjb25zdCBzdGVwcyA9IG91dHB1dEVsZW1lbnQuc3RlcHM7CgogIGNvbnN0IG5leHQgPSBzdGVwcy5uZXh0KG91dHB1dEVsZW1lbnQubGFzdFByb21pc2VWYWx1ZSk7CiAgcmV0dXJuIFByb21pc2UucmVzb2x2ZShuZXh0LnZhbHVlLnByb21pc2UpLnRoZW4oKHZhbHVlKSA9PiB7CiAgICAvLyBDYWNoZSB0aGUgbGFzdCBwcm9taXNlIHZhbHVlIHRvIG1ha2UgaXQgYXZhaWxhYmxlIHRvIHRoZSBuZXh0CiAgICAvLyBzdGVwIG9mIHRoZSBnZW5lcmF0b3IuCiAgICBvdXRwdXRFbGVtZW50Lmxhc3RQcm9taXNlVmFsdWUgPSB2YWx1ZTsKICAgIHJldHVybiBuZXh0LnZhbHVlLnJlc3BvbnNlOwogIH0pOwp9CgovKioKICogR2VuZXJhdG9yIGZ1bmN0aW9uIHdoaWNoIGlzIGNhbGxlZCBiZXR3ZWVuIGVhY2ggYXN5bmMgc3RlcCBvZiB0aGUgdXBsb2FkCiAqIHByb2Nlc3MuCiAqIEBwYXJhbSB7c3RyaW5nfSBpbnB1dElkIEVsZW1lbnQgSUQgb2YgdGhlIGlucHV0IGZpbGUgcGlja2VyIGVsZW1lbnQuCiAqIEBwYXJhbSB7c3RyaW5nfSBvdXRwdXRJZCBFbGVtZW50IElEIG9mIHRoZSBvdXRwdXQgZGlzcGxheS4KICogQHJldHVybiB7IUl0ZXJhYmxlPCFPYmplY3Q+fSBJdGVyYWJsZSBvZiBuZXh0IHN0ZXBzLgogKi8KZnVuY3Rpb24qIHVwbG9hZEZpbGVzU3RlcChpbnB1dElkLCBvdXRwdXRJZCkgewogIGNvbnN0IGlucHV0RWxlbWVudCA9IGRvY3VtZW50LmdldEVsZW1lbnRCeUlkKGlucHV0SWQpOwogIGlucHV0RWxlbWVudC5kaXNhYmxlZCA9IGZhbHNlOwoKICBjb25zdCBvdXRwdXRFbGVtZW50ID0gZG9jdW1lbnQuZ2V0RWxlbWVudEJ5SWQob3V0cHV0SWQpOwogIG91dHB1dEVsZW1lbnQuaW5uZXJIVE1MID0gJyc7CgogIGNvbnN0IHBpY2tlZFByb21pc2UgPSBuZXcgUHJvbWlzZSgocmVzb2x2ZSkgPT4gewogICAgaW5wdXRFbGVtZW50LmFkZEV2ZW50TGlzdGVuZXIoJ2NoYW5nZScsIChlKSA9PiB7CiAgICAgIHJlc29sdmUoZS50YXJnZXQuZmlsZXMpOwogICAgfSk7CiAgfSk7CgogIGNvbnN0IGNhbmNlbCA9IGRvY3VtZW50LmNyZWF0ZUVsZW1lbnQoJ2J1dHRvbicpOwogIGlucHV0RWxlbWVudC5wYXJlbnRFbGVtZW50LmFwcGVuZENoaWxkKGNhbmNlbCk7CiAgY2FuY2VsLnRleHRDb250ZW50ID0gJ0NhbmNlbCB1cGxvYWQnOwogIGNvbnN0IGNhbmNlbFByb21pc2UgPSBuZXcgUHJvbWlzZSgocmVzb2x2ZSkgPT4gewogICAgY2FuY2VsLm9uY2xpY2sgPSAoKSA9PiB7CiAgICAgIHJlc29sdmUobnVsbCk7CiAgICB9OwogIH0pOwoKICAvLyBXYWl0IGZvciB0aGUgdXNlciB0byBwaWNrIHRoZSBmaWxlcy4KICBjb25zdCBmaWxlcyA9IHlpZWxkIHsKICAgIHByb21pc2U6IFByb21pc2UucmFjZShbcGlja2VkUHJvbWlzZSwgY2FuY2VsUHJvbWlzZV0pLAogICAgcmVzcG9uc2U6IHsKICAgICAgYWN0aW9uOiAnc3RhcnRpbmcnLAogICAgfQogIH07CgogIGNhbmNlbC5yZW1vdmUoKTsKCiAgLy8gRGlzYWJsZSB0aGUgaW5wdXQgZWxlbWVudCBzaW5jZSBmdXJ0aGVyIHBpY2tzIGFyZSBub3QgYWxsb3dlZC4KICBpbnB1dEVsZW1lbnQuZGlzYWJsZWQgPSB0cnVlOwoKICBpZiAoIWZpbGVzKSB7CiAgICByZXR1cm4gewogICAgICByZXNwb25zZTogewogICAgICAgIGFjdGlvbjogJ2NvbXBsZXRlJywKICAgICAgfQogICAgfTsKICB9CgogIGZvciAoY29uc3QgZmlsZSBvZiBmaWxlcykgewogICAgY29uc3QgbGkgPSBkb2N1bWVudC5jcmVhdGVFbGVtZW50KCdsaScpOwogICAgbGkuYXBwZW5kKHNwYW4oZmlsZS5uYW1lLCB7Zm9udFdlaWdodDogJ2JvbGQnfSkpOwogICAgbGkuYXBwZW5kKHNwYW4oCiAgICAgICAgYCgke2ZpbGUudHlwZSB8fCAnbi9hJ30pIC0gJHtmaWxlLnNpemV9IGJ5dGVzLCBgICsKICAgICAgICBgbGFzdCBtb2RpZmllZDogJHsKICAgICAgICAgICAgZmlsZS5sYXN0TW9kaWZpZWREYXRlID8gZmlsZS5sYXN0TW9kaWZpZWREYXRlLnRvTG9jYWxlRGF0ZVN0cmluZygpIDoKICAgICAgICAgICAgICAgICAgICAgICAgICAgICAgICAgICAgJ24vYSd9IC0gYCkpOwogICAgY29uc3QgcGVyY2VudCA9IHNwYW4oJzAlIGRvbmUnKTsKICAgIGxpLmFwcGVuZENoaWxkKHBlcmNlbnQpOwoKICAgIG91dHB1dEVsZW1lbnQuYXBwZW5kQ2hpbGQobGkpOwoKICAgIGNvbnN0IGZpbGVEYXRhUHJvbWlzZSA9IG5ldyBQcm9taXNlKChyZXNvbHZlKSA9PiB7CiAgICAgIGNvbnN0IHJlYWRlciA9IG5ldyBGaWxlUmVhZGVyKCk7CiAgICAgIHJlYWRlci5vbmxvYWQgPSAoZSkgPT4gewogICAgICAgIHJlc29sdmUoZS50YXJnZXQucmVzdWx0KTsKICAgICAgfTsKICAgICAgcmVhZGVyLnJlYWRBc0FycmF5QnVmZmVyKGZpbGUpOwogICAgfSk7CiAgICAvLyBXYWl0IGZvciB0aGUgZGF0YSB0byBiZSByZWFkeS4KICAgIGxldCBmaWxlRGF0YSA9IHlpZWxkIHsKICAgICAgcHJvbWlzZTogZmlsZURhdGFQcm9taXNlLAogICAgICByZXNwb25zZTogewogICAgICAgIGFjdGlvbjogJ2NvbnRpbnVlJywKICAgICAgfQogICAgfTsKCiAgICAvLyBVc2UgYSBjaHVua2VkIHNlbmRpbmcgdG8gYXZvaWQgbWVzc2FnZSBzaXplIGxpbWl0cy4gU2VlIGIvNjIxMTU2NjAuCiAgICBsZXQgcG9zaXRpb24gPSAwOwogICAgd2hpbGUgKHBvc2l0aW9uIDwgZmlsZURhdGEuYnl0ZUxlbmd0aCkgewogICAgICBjb25zdCBsZW5ndGggPSBNYXRoLm1pbihmaWxlRGF0YS5ieXRlTGVuZ3RoIC0gcG9zaXRpb24sIE1BWF9QQVlMT0FEX1NJWkUpOwogICAgICBjb25zdCBjaHVuayA9IG5ldyBVaW50OEFycmF5KGZpbGVEYXRhLCBwb3NpdGlvbiwgbGVuZ3RoKTsKICAgICAgcG9zaXRpb24gKz0gbGVuZ3RoOwoKICAgICAgY29uc3QgYmFzZTY0ID0gYnRvYShTdHJpbmcuZnJvbUNoYXJDb2RlLmFwcGx5KG51bGwsIGNodW5rKSk7CiAgICAgIHlpZWxkIHsKICAgICAgICByZXNwb25zZTogewogICAgICAgICAgYWN0aW9uOiAnYXBwZW5kJywKICAgICAgICAgIGZpbGU6IGZpbGUubmFtZSwKICAgICAgICAgIGRhdGE6IGJhc2U2NCwKICAgICAgICB9LAogICAgICB9OwogICAgICBwZXJjZW50LnRleHRDb250ZW50ID0KICAgICAgICAgIGAke01hdGgucm91bmQoKHBvc2l0aW9uIC8gZmlsZURhdGEuYnl0ZUxlbmd0aCkgKiAxMDApfSUgZG9uZWA7CiAgICB9CiAgfQoKICAvLyBBbGwgZG9uZS4KICB5aWVsZCB7CiAgICByZXNwb25zZTogewogICAgICBhY3Rpb246ICdjb21wbGV0ZScsCiAgICB9CiAgfTsKfQoKc2NvcGUuZ29vZ2xlID0gc2NvcGUuZ29vZ2xlIHx8IHt9OwpzY29wZS5nb29nbGUuY29sYWIgPSBzY29wZS5nb29nbGUuY29sYWIgfHwge307CnNjb3BlLmdvb2dsZS5jb2xhYi5fZmlsZXMgPSB7CiAgX3VwbG9hZEZpbGVzLAogIF91cGxvYWRGaWxlc0NvbnRpbnVlLAp9Owp9KShzZWxmKTsK",
              "ok": true,
              "headers": [
                [
                  "content-type",
                  "application/javascript"
                ]
              ],
              "status": 200,
              "status_text": ""
            }
          },
          "base_uri": "https://localhost:8080/",
          "height": 89
        },
        "id": "b4C6_7Z3fIN3",
        "outputId": "a1f8aecf-99b9-4db0-81df-d7bd8c63ba93"
      },
      "source": [
        "from google.colab import files\n",
        "files.upload()"
      ],
      "execution_count": 2,
      "outputs": [
        {
          "output_type": "display_data",
          "data": {
            "text/html": [
              "\n",
              "     <input type=\"file\" id=\"files-1c6d095c-f19c-4e15-b60b-2d563a8065e8\" name=\"files[]\" multiple disabled\n",
              "        style=\"border:none\" />\n",
              "     <output id=\"result-1c6d095c-f19c-4e15-b60b-2d563a8065e8\">\n",
              "      Upload widget is only available when the cell has been executed in the\n",
              "      current browser session. Please rerun this cell to enable.\n",
              "      </output>\n",
              "      <script src=\"/nbextensions/google.colab/files.js\"></script> "
            ],
            "text/plain": [
              "<IPython.core.display.HTML object>"
            ]
          },
          "metadata": {
            "tags": []
          }
        },
        {
          "output_type": "stream",
          "text": [
            "Saving kaggle.json to kaggle (1).json\n"
          ],
          "name": "stdout"
        },
        {
          "output_type": "execute_result",
          "data": {
            "text/plain": [
              "{'kaggle.json': b'{\"username\":\"youneslbk\",\"key\":\"ff30355568a25aef64e5c064a14e36fc\"}'}"
            ]
          },
          "metadata": {
            "tags": []
          },
          "execution_count": 2
        }
      ]
    },
    {
      "cell_type": "code",
      "metadata": {
        "id": "RId33NszftMP"
      },
      "source": [
        " !mkdir -p ~/.kaggle\n",
        " !cp kaggle.json ~/.kaggle/"
      ],
      "execution_count": 3,
      "outputs": []
    },
    {
      "cell_type": "code",
      "metadata": {
        "id": "_mRQTOEkgZJ9"
      },
      "source": [
        "  !chmod 600 ~/.kaggle/kaggle.json"
      ],
      "execution_count": 6,
      "outputs": []
    },
    {
      "cell_type": "code",
      "metadata": {
        "colab": {
          "base_uri": "https://localhost:8080/"
        },
        "id": "QcvBdXSAg0Bv",
        "outputId": "8df09a3f-4cae-4ff2-ec1a-5f94636fdc44"
      },
      "source": [
        "!kaggle datasets download -d allen-institute-for-ai/CORD-19-research-challenge"
      ],
      "execution_count": 7,
      "outputs": [
        {
          "output_type": "stream",
          "text": [
            "CORD-19-research-challenge.zip: Skipping, found more recently modified local copy (use --force to force download)\n"
          ],
          "name": "stdout"
        }
      ]
    },
    {
      "cell_type": "code",
      "metadata": {
        "colab": {
          "base_uri": "https://localhost:8080/"
        },
        "id": "ivtbsfgvhczW",
        "outputId": "ee124233-048a-43ed-d8eb-af4f447c193f"
      },
      "source": [
        "!pip install zip_files"
      ],
      "execution_count": 8,
      "outputs": [
        {
          "output_type": "stream",
          "text": [
            "Requirement already satisfied: zip_files in /usr/local/lib/python3.6/dist-packages (0.3.0)\n",
            "Requirement already satisfied: click in /usr/local/lib/python3.6/dist-packages (from zip_files) (7.1.2)\n"
          ],
          "name": "stdout"
        }
      ]
    },
    {
      "cell_type": "code",
      "metadata": {
        "colab": {
          "base_uri": "https://localhost:8080/"
        },
        "id": "s2QufpcThhCC",
        "outputId": "76f6a660-a5c3-48fc-eeea-dac44026f38b"
      },
      "source": [
        "from zipfile import ZipFile\n",
        "file_name=\"CORD-19-research-challenge.zip\"\n",
        "with ZipFile(file_name,'r') as zip:\n",
        "  zip.extractall()\n",
        "  print('Done')"
      ],
      "execution_count": null,
      "outputs": [
        {
          "output_type": "stream",
          "text": [
            "ERROR:root:Internal Python error in the inspect module.\n",
            "Below is the traceback from this internal error.\n",
            "\n",
            "ERROR:root:Internal Python error in the inspect module.\n",
            "Below is the traceback from this internal error.\n",
            "\n"
          ],
          "name": "stderr"
        },
        {
          "output_type": "stream",
          "text": [
            "Traceback (most recent call last):\n",
            "  File \"/usr/lib/python3.6/zipfile.py\", line 1579, in _extract_member\n",
            "    shutil.copyfileobj(source, target)\n",
            "  File \"/usr/lib/python3.6/shutil.py\", line 79, in copyfileobj\n",
            "    buf = fsrc.read(length)\n",
            "  File \"/usr/lib/python3.6/zipfile.py\", line 872, in read\n",
            "    data = self._read1(n)\n",
            "  File \"/usr/lib/python3.6/zipfile.py\", line 948, in _read1\n",
            "    data = self._decompressor.decompress(data, n)\n",
            "KeyboardInterrupt\n",
            "\n",
            "During handling of the above exception, another exception occurred:\n",
            "\n",
            "Traceback (most recent call last):\n",
            "  File \"/usr/local/lib/python3.6/dist-packages/IPython/core/interactiveshell.py\", line 2882, in run_code\n",
            "    exec(code_obj, self.user_global_ns, self.user_ns)\n",
            "  File \"<ipython-input-9-b029c635ba4c>\", line 4, in <module>\n",
            "    zip.extractall()\n",
            "  File \"/usr/lib/python3.6/zipfile.py\", line 1524, in extractall\n",
            "    self._extract_member(zipinfo, path, pwd)\n",
            "  File \"/usr/lib/python3.6/zipfile.py\", line 1579, in _extract_member\n",
            "    shutil.copyfileobj(source, target)\n",
            "KeyboardInterrupt\n",
            "\n",
            "During handling of the above exception, another exception occurred:\n",
            "\n",
            "Traceback (most recent call last):\n",
            "  File \"/usr/local/lib/python3.6/dist-packages/IPython/core/interactiveshell.py\", line 1823, in showtraceback\n",
            "    stb = value._render_traceback_()\n",
            "AttributeError: 'KeyboardInterrupt' object has no attribute '_render_traceback_'\n",
            "\n",
            "During handling of the above exception, another exception occurred:\n",
            "\n",
            "Traceback (most recent call last):\n",
            "  File \"/usr/local/lib/python3.6/dist-packages/IPython/core/ultratb.py\", line 1132, in get_records\n",
            "    return _fixed_getinnerframes(etb, number_of_lines_of_context, tb_offset)\n",
            "  File \"/usr/local/lib/python3.6/dist-packages/IPython/core/ultratb.py\", line 313, in wrapped\n",
            "    return f(*args, **kwargs)\n",
            "  File \"/usr/local/lib/python3.6/dist-packages/IPython/core/ultratb.py\", line 358, in _fixed_getinnerframes\n",
            "    records = fix_frame_records_filenames(inspect.getinnerframes(etb, context))\n",
            "  File \"/usr/lib/python3.6/inspect.py\", line 1490, in getinnerframes\n",
            "    frameinfo = (tb.tb_frame,) + getframeinfo(tb, context)\n",
            "  File \"/usr/lib/python3.6/inspect.py\", line 1452, in getframeinfo\n",
            "    lines, lnum = findsource(frame)\n",
            "  File \"/usr/local/lib/python3.6/dist-packages/IPython/core/ultratb.py\", line 182, in findsource\n",
            "    lines = linecache.getlines(file, globals_dict)\n",
            "  File \"/usr/lib/python3.6/linecache.py\", line 47, in getlines\n",
            "    return updatecache(filename, module_globals)\n",
            "  File \"/usr/lib/python3.6/linecache.py\", line 136, in updatecache\n",
            "    with tokenize.open(fullname) as fp:\n",
            "  File \"/usr/lib/python3.6/tokenize.py\", line 454, in open\n",
            "    encoding, lines = detect_encoding(buffer.readline)\n",
            "  File \"/usr/lib/python3.6/tokenize.py\", line 423, in detect_encoding\n",
            "    first = read_or_stop()\n",
            "  File \"/usr/lib/python3.6/tokenize.py\", line 381, in read_or_stop\n",
            "    return readline()\n",
            "KeyboardInterrupt\n",
            "\n",
            "During handling of the above exception, another exception occurred:\n",
            "\n",
            "Traceback (most recent call last):\n",
            "  File \"/usr/local/lib/python3.6/dist-packages/IPython/core/interactiveshell.py\", line 1826, in showtraceback\n",
            "    value, tb, tb_offset=tb_offset)\n",
            "  File \"/usr/local/lib/python3.6/dist-packages/IPython/core/ultratb.py\", line 1411, in structured_traceback\n",
            "    self, etype, value, tb, tb_offset, number_of_lines_of_context)\n",
            "  File \"/usr/local/lib/python3.6/dist-packages/IPython/core/ultratb.py\", line 1319, in structured_traceback\n",
            "    self, etype, value, tb, tb_offset, number_of_lines_of_context\n",
            "  File \"/usr/local/lib/python3.6/dist-packages/IPython/core/ultratb.py\", line 1170, in structured_traceback\n",
            "    tb_offset)\n",
            "  File \"/usr/local/lib/python3.6/dist-packages/IPython/core/ultratb.py\", line 1108, in format_exception_as_a_whole\n",
            "    records = self.get_records(etb, number_of_lines_of_context, tb_offset)\n",
            "  File \"/usr/local/lib/python3.6/dist-packages/IPython/core/ultratb.py\", line 1147, in get_records\n",
            "    traceback.print_exc(file=self.ostream)\n",
            "  File \"/usr/lib/python3.6/traceback.py\", line 163, in print_exc\n",
            "    print_exception(*sys.exc_info(), limit=limit, file=file, chain=chain)\n",
            "  File \"/usr/lib/python3.6/traceback.py\", line 104, in print_exception\n",
            "    type(value), value, tb, limit=limit).format(chain=chain):\n",
            "  File \"/usr/lib/python3.6/traceback.py\", line 498, in __init__\n",
            "    _seen=_seen)\n",
            "  File \"/usr/lib/python3.6/traceback.py\", line 498, in __init__\n",
            "    _seen=_seen)\n",
            "  File \"/usr/lib/python3.6/traceback.py\", line 498, in __init__\n",
            "    _seen=_seen)\n",
            "  File \"/usr/lib/python3.6/traceback.py\", line 509, in __init__\n",
            "    capture_locals=capture_locals)\n",
            "  File \"/usr/lib/python3.6/traceback.py\", line 358, in extract\n",
            "    filename, lineno, name, lookup_line=False, locals=f_locals))\n",
            "  File \"/usr/lib/python3.6/traceback.py\", line 243, in __init__\n",
            "    def __init__(self, filename, lineno, name, *, lookup_line=True,\n",
            "KeyboardInterrupt\n",
            "\n",
            "During handling of the above exception, another exception occurred:\n",
            "\n",
            "Traceback (most recent call last):\n",
            "  File \"/usr/local/lib/python3.6/dist-packages/IPython/core/interactiveshell.py\", line 2822, in run_ast_nodes\n",
            "    if self.run_code(code, result):\n",
            "  File \"/usr/local/lib/python3.6/dist-packages/IPython/core/interactiveshell.py\", line 2899, in run_code\n",
            "    self.showtraceback()\n",
            "  File \"/usr/local/lib/python3.6/dist-packages/IPython/core/interactiveshell.py\", line 1838, in showtraceback\n",
            "    print('\\n' + self.get_exception_only(), file=sys.stderr)\n",
            "  File \"/usr/local/lib/python3.6/dist-packages/IPython/core/interactiveshell.py\", line 1783, in get_exception_only\n",
            "    msg = traceback.format_exception_only(etype, value)\n",
            "  File \"/usr/lib/python3.6/traceback.py\", line 140, in format_exception_only\n",
            "    return list(TracebackException(etype, value, None).format_exception_only())\n",
            "  File \"/usr/lib/python3.6/traceback.py\", line 522, in __init__\n",
            "    self._load_lines()\n",
            "  File \"/usr/lib/python3.6/traceback.py\", line 534, in _load_lines\n",
            "    self.__context__._load_lines()\n",
            "  File \"/usr/lib/python3.6/traceback.py\", line 532, in _load_lines\n",
            "    frame.line\n",
            "  File \"/usr/lib/python3.6/traceback.py\", line 286, in line\n",
            "    self._line = linecache.getline(self.filename, self.lineno).strip()\n",
            "  File \"/usr/lib/python3.6/linecache.py\", line 16, in getline\n",
            "    lines = getlines(filename, module_globals)\n",
            "  File \"/usr/lib/python3.6/linecache.py\", line 47, in getlines\n",
            "    return updatecache(filename, module_globals)\n",
            "  File \"/usr/lib/python3.6/linecache.py\", line 136, in updatecache\n",
            "    with tokenize.open(fullname) as fp:\n",
            "  File \"/usr/lib/python3.6/tokenize.py\", line 454, in open\n",
            "    encoding, lines = detect_encoding(buffer.readline)\n",
            "  File \"/usr/lib/python3.6/tokenize.py\", line 423, in detect_encoding\n",
            "    first = read_or_stop()\n",
            "  File \"/usr/lib/python3.6/tokenize.py\", line 381, in read_or_stop\n",
            "    return readline()\n",
            "KeyboardInterrupt\n",
            "\n",
            "During handling of the above exception, another exception occurred:\n",
            "\n",
            "Traceback (most recent call last):\n",
            "  File \"/usr/local/lib/python3.6/dist-packages/IPython/core/interactiveshell.py\", line 1823, in showtraceback\n",
            "    stb = value._render_traceback_()\n",
            "AttributeError: 'KeyboardInterrupt' object has no attribute '_render_traceback_'\n",
            "\n",
            "During handling of the above exception, another exception occurred:\n",
            "\n",
            "Traceback (most recent call last):\n",
            "  File \"/usr/local/lib/python3.6/dist-packages/IPython/core/ultratb.py\", line 1132, in get_records\n",
            "    return _fixed_getinnerframes(etb, number_of_lines_of_context, tb_offset)\n",
            "  File \"/usr/local/lib/python3.6/dist-packages/IPython/core/ultratb.py\", line 313, in wrapped\n",
            "    return f(*args, **kwargs)\n",
            "  File \"/usr/local/lib/python3.6/dist-packages/IPython/core/ultratb.py\", line 358, in _fixed_getinnerframes\n",
            "    records = fix_frame_records_filenames(inspect.getinnerframes(etb, context))\n",
            "  File \"/usr/lib/python3.6/inspect.py\", line 1490, in getinnerframes\n",
            "    frameinfo = (tb.tb_frame,) + getframeinfo(tb, context)\n",
            "  File \"/usr/lib/python3.6/inspect.py\", line 1452, in getframeinfo\n",
            "    lines, lnum = findsource(frame)\n",
            "  File \"/usr/local/lib/python3.6/dist-packages/IPython/core/ultratb.py\", line 182, in findsource\n",
            "    lines = linecache.getlines(file, globals_dict)\n",
            "  File \"/usr/lib/python3.6/linecache.py\", line 47, in getlines\n",
            "    return updatecache(filename, module_globals)\n",
            "  File \"/usr/lib/python3.6/linecache.py\", line 137, in updatecache\n",
            "    lines = fp.readlines()\n",
            "  File \"/usr/lib/python3.6/codecs.py\", line 318, in decode\n",
            "    def decode(self, input, final=False):\n",
            "KeyboardInterrupt\n"
          ],
          "name": "stdout"
        }
      ]
    },
    {
      "cell_type": "code",
      "metadata": {
        "colab": {
          "base_uri": "https://localhost:8080/"
        },
        "id": "q6wBDJin_0FI",
        "outputId": "d4c0c99b-b8ac-4b20-ecaa-2511789e72b4"
      },
      "source": [
        "import numpy as np\n",
        "import pandas as pd\n",
        "import nltk\n",
        "nltk.download('punkt') # one time execution\n",
        "import re"
      ],
      "execution_count": 1,
      "outputs": [
        {
          "output_type": "stream",
          "text": [
            "[nltk_data] Downloading package punkt to /root/nltk_data...\n",
            "[nltk_data]   Package punkt is already up-to-date!\n"
          ],
          "name": "stdout"
        }
      ]
    },
    {
      "cell_type": "code",
      "metadata": {
        "colab": {
          "base_uri": "https://localhost:8080/"
        },
        "id": "PFg83UK0BC77",
        "outputId": "f1d6ee9e-0e33-478f-8a8b-5d9c86c0bd41"
      },
      "source": [
        "metadata = pd.read_csv(\"/content/metadata.csv\")"
      ],
      "execution_count": 2,
      "outputs": [
        {
          "output_type": "stream",
          "text": [
            "/usr/local/lib/python3.6/dist-packages/IPython/core/interactiveshell.py:2718: DtypeWarning: Columns (1,4,5,6,13,14,15,16) have mixed types.Specify dtype option on import or set low_memory=False.\n",
            "  interactivity=interactivity, compiler=compiler, result=result)\n"
          ],
          "name": "stderr"
        }
      ]
    },
    {
      "cell_type": "code",
      "metadata": {
        "colab": {
          "base_uri": "https://localhost:8080/",
          "height": 564
        },
        "id": "uV4DtP5-BTaA",
        "outputId": "25844a6f-05aa-441c-e2e0-12539364bc42"
      },
      "source": [
        "metadata.head()"
      ],
      "execution_count": 3,
      "outputs": [
        {
          "output_type": "execute_result",
          "data": {
            "text/html": [
              "<div>\n",
              "<style scoped>\n",
              "    .dataframe tbody tr th:only-of-type {\n",
              "        vertical-align: middle;\n",
              "    }\n",
              "\n",
              "    .dataframe tbody tr th {\n",
              "        vertical-align: top;\n",
              "    }\n",
              "\n",
              "    .dataframe thead th {\n",
              "        text-align: right;\n",
              "    }\n",
              "</style>\n",
              "<table border=\"1\" class=\"dataframe\">\n",
              "  <thead>\n",
              "    <tr style=\"text-align: right;\">\n",
              "      <th></th>\n",
              "      <th>cord_uid</th>\n",
              "      <th>sha</th>\n",
              "      <th>source_x</th>\n",
              "      <th>title</th>\n",
              "      <th>doi</th>\n",
              "      <th>pmcid</th>\n",
              "      <th>pubmed_id</th>\n",
              "      <th>license</th>\n",
              "      <th>abstract</th>\n",
              "      <th>publish_time</th>\n",
              "      <th>authors</th>\n",
              "      <th>journal</th>\n",
              "      <th>mag_id</th>\n",
              "      <th>who_covidence_id</th>\n",
              "      <th>arxiv_id</th>\n",
              "      <th>pdf_json_files</th>\n",
              "      <th>pmc_json_files</th>\n",
              "      <th>url</th>\n",
              "      <th>s2_id</th>\n",
              "    </tr>\n",
              "  </thead>\n",
              "  <tbody>\n",
              "    <tr>\n",
              "      <th>0</th>\n",
              "      <td>ug7v899j</td>\n",
              "      <td>d1aafb70c066a2068b02786f8929fd9c900897fb</td>\n",
              "      <td>PMC</td>\n",
              "      <td>Clinical features of culture-proven Mycoplasma...</td>\n",
              "      <td>10.1186/1471-2334-1-6</td>\n",
              "      <td>PMC35282</td>\n",
              "      <td>11472636</td>\n",
              "      <td>no-cc</td>\n",
              "      <td>OBJECTIVE: This retrospective chart review des...</td>\n",
              "      <td>2001-07-04</td>\n",
              "      <td>Madani, Tariq A; Al-Ghamdi, Aisha A</td>\n",
              "      <td>BMC Infect Dis</td>\n",
              "      <td>NaN</td>\n",
              "      <td>NaN</td>\n",
              "      <td>NaN</td>\n",
              "      <td>document_parses/pdf_json/d1aafb70c066a2068b027...</td>\n",
              "      <td>document_parses/pmc_json/PMC35282.xml.json</td>\n",
              "      <td>https://www.ncbi.nlm.nih.gov/pmc/articles/PMC3...</td>\n",
              "      <td>NaN</td>\n",
              "    </tr>\n",
              "    <tr>\n",
              "      <th>1</th>\n",
              "      <td>02tnwd4m</td>\n",
              "      <td>6b0567729c2143a66d737eb0a2f63f2dce2e5a7d</td>\n",
              "      <td>PMC</td>\n",
              "      <td>Nitric oxide: a pro-inflammatory mediator in l...</td>\n",
              "      <td>10.1186/rr14</td>\n",
              "      <td>PMC59543</td>\n",
              "      <td>11667967</td>\n",
              "      <td>no-cc</td>\n",
              "      <td>Inflammatory diseases of the respiratory tract...</td>\n",
              "      <td>2000-08-15</td>\n",
              "      <td>Vliet, Albert van der; Eiserich, Jason P; Cros...</td>\n",
              "      <td>Respir Res</td>\n",
              "      <td>NaN</td>\n",
              "      <td>NaN</td>\n",
              "      <td>NaN</td>\n",
              "      <td>document_parses/pdf_json/6b0567729c2143a66d737...</td>\n",
              "      <td>document_parses/pmc_json/PMC59543.xml.json</td>\n",
              "      <td>https://www.ncbi.nlm.nih.gov/pmc/articles/PMC5...</td>\n",
              "      <td>NaN</td>\n",
              "    </tr>\n",
              "    <tr>\n",
              "      <th>2</th>\n",
              "      <td>ejv2xln0</td>\n",
              "      <td>06ced00a5fc04215949aa72528f2eeaae1d58927</td>\n",
              "      <td>PMC</td>\n",
              "      <td>Surfactant protein-D and pulmonary host defense</td>\n",
              "      <td>10.1186/rr19</td>\n",
              "      <td>PMC59549</td>\n",
              "      <td>11667972</td>\n",
              "      <td>no-cc</td>\n",
              "      <td>Surfactant protein-D (SP-D) participates in th...</td>\n",
              "      <td>2000-08-25</td>\n",
              "      <td>Crouch, Erika C</td>\n",
              "      <td>Respir Res</td>\n",
              "      <td>NaN</td>\n",
              "      <td>NaN</td>\n",
              "      <td>NaN</td>\n",
              "      <td>document_parses/pdf_json/06ced00a5fc04215949aa...</td>\n",
              "      <td>document_parses/pmc_json/PMC59549.xml.json</td>\n",
              "      <td>https://www.ncbi.nlm.nih.gov/pmc/articles/PMC5...</td>\n",
              "      <td>NaN</td>\n",
              "    </tr>\n",
              "    <tr>\n",
              "      <th>3</th>\n",
              "      <td>2b73a28n</td>\n",
              "      <td>348055649b6b8cf2b9a376498df9bf41f7123605</td>\n",
              "      <td>PMC</td>\n",
              "      <td>Role of endothelin-1 in lung disease</td>\n",
              "      <td>10.1186/rr44</td>\n",
              "      <td>PMC59574</td>\n",
              "      <td>11686871</td>\n",
              "      <td>no-cc</td>\n",
              "      <td>Endothelin-1 (ET-1) is a 21 amino acid peptide...</td>\n",
              "      <td>2001-02-22</td>\n",
              "      <td>Fagan, Karen A; McMurtry, Ivan F; Rodman, David M</td>\n",
              "      <td>Respir Res</td>\n",
              "      <td>NaN</td>\n",
              "      <td>NaN</td>\n",
              "      <td>NaN</td>\n",
              "      <td>document_parses/pdf_json/348055649b6b8cf2b9a37...</td>\n",
              "      <td>document_parses/pmc_json/PMC59574.xml.json</td>\n",
              "      <td>https://www.ncbi.nlm.nih.gov/pmc/articles/PMC5...</td>\n",
              "      <td>NaN</td>\n",
              "    </tr>\n",
              "    <tr>\n",
              "      <th>4</th>\n",
              "      <td>9785vg6d</td>\n",
              "      <td>5f48792a5fa08bed9f56016f4981ae2ca6031b32</td>\n",
              "      <td>PMC</td>\n",
              "      <td>Gene expression in epithelial cells in respons...</td>\n",
              "      <td>10.1186/rr61</td>\n",
              "      <td>PMC59580</td>\n",
              "      <td>11686888</td>\n",
              "      <td>no-cc</td>\n",
              "      <td>Respiratory syncytial virus (RSV) and pneumoni...</td>\n",
              "      <td>2001-05-11</td>\n",
              "      <td>Domachowske, Joseph B; Bonville, Cynthia A; Ro...</td>\n",
              "      <td>Respir Res</td>\n",
              "      <td>NaN</td>\n",
              "      <td>NaN</td>\n",
              "      <td>NaN</td>\n",
              "      <td>document_parses/pdf_json/5f48792a5fa08bed9f560...</td>\n",
              "      <td>document_parses/pmc_json/PMC59580.xml.json</td>\n",
              "      <td>https://www.ncbi.nlm.nih.gov/pmc/articles/PMC5...</td>\n",
              "      <td>NaN</td>\n",
              "    </tr>\n",
              "  </tbody>\n",
              "</table>\n",
              "</div>"
            ],
            "text/plain": [
              "   cord_uid  ... s2_id\n",
              "0  ug7v899j  ...   NaN\n",
              "1  02tnwd4m  ...   NaN\n",
              "2  ejv2xln0  ...   NaN\n",
              "3  2b73a28n  ...   NaN\n",
              "4  9785vg6d  ...   NaN\n",
              "\n",
              "[5 rows x 19 columns]"
            ]
          },
          "metadata": {
            "tags": []
          },
          "execution_count": 3
        }
      ]
    },
    {
      "cell_type": "code",
      "metadata": {
        "id": "_Ek4HYZ-KsZ1"
      },
      "source": [
        "import json\r\n",
        "import glob"
      ],
      "execution_count": 4,
      "outputs": []
    },
    {
      "cell_type": "code",
      "metadata": {
        "colab": {
          "base_uri": "https://localhost:8080/"
        },
        "id": "NUAv4K8eKGQl",
        "outputId": "5ecafd9e-b1bf-40e7-98f1-0e6138a8e3ab"
      },
      "source": [
        "p=\"/content/document_parses\"\r\n",
        "all_json = glob.glob(f'{p}/**/*.json', recursive=True)\r\n",
        "len(all_json)"
      ],
      "execution_count": 5,
      "outputs": [
        {
          "output_type": "execute_result",
          "data": {
            "text/plain": [
              "240409"
            ]
          },
          "metadata": {
            "tags": []
          },
          "execution_count": 5
        }
      ]
    },
    {
      "cell_type": "code",
      "metadata": {
        "id": "UTL0cVpCGPX0"
      },
      "source": [
        "full_body_text=[]\r\n",
        "#for i in range(5) :\r\n",
        "  #with open(all_json[i]) as file :\r\n",
        "with open(all_json[0]) as file :\r\n",
        "    content = json.load(file)\r\n",
        "    abstract = []\r\n",
        "    body_text = []\r\n",
        "    # Body text\r\n",
        "    for entry in content['body_text']:\r\n",
        "      body_text.append(entry['text'])\r\n",
        "    full_body_text.append(body_text)\r\n",
        "    body_text = '\\n'.join(body_text)\r\n",
        "    # Abstract\r\n",
        "    #for entry in content['abstract']:\r\n",
        "     # abstract.append(entry['text'])\r\n",
        "    #abstract = '\\n'.join(abstract)"
      ],
      "execution_count": 6,
      "outputs": []
    },
    {
      "cell_type": "code",
      "metadata": {
        "colab": {
          "base_uri": "https://localhost:8080/"
        },
        "id": "5XHvqu4r9Bj8",
        "outputId": "99290d4f-3992-48a5-a38c-a1247db2b61e"
      },
      "source": [
        "for i in full_body_text :\r\n",
        "  print(i)"
      ],
      "execution_count": 7,
      "outputs": [
        {
          "output_type": "stream",
          "text": [
            "['Low level laser therapy (LLLT) is also known as cold laser therapy or photobiomodulation therapy. LLLT utilizes visible light and infrared laser beams in the range of 450–1000 nm. Single wavelength or monochromatic light is emitted from a low-intensity laser diode (<500 mW). The light source is placed in contact with the skin, allowing the photon energy to penetrate tissue, where it interacts with various intracellular biomolecules to restore normal cell function and enhance the body’s healing processes [1]. This contrasts with the thermal effects produced by the high-power lasers that are used in cosmetic and surgical procedures to destroy tissue [1], as mentioned in the PubMed Medical Subject Heading (MeSH) subheading for LLLT.', 'LLLT effects are not due to heat but rather to a photochemical reaction that occurs when a photoacceptor molecule within the cell absorbs a photon of light, becomes activated, and changes the cell’s membrane permeability and metabolism. Presently, cytochrome c oxidase, opsins and their associated calcium channels, and water molecules have been identified as the main mediators of the photochemical mechanisms [2]. This leads to increased mRNA synthesis and cell proliferation. LLLT produces reactive oxygen species (ROS) in normal cells, but ROS levels are lowered when it is used in oxidatively stressed cells, like in animal models of disease. LLLT up-regulates antioxidant defenses and decreases oxidative stress [2].', 'Low-level lasers are a safe, noninvasive technology approved by both the US Food and Drug Administration and Health Canada for several chronic and degenerative conditions, temporary pain relief, cellulite treatment, body contouring, lymphedema reduction, hair growth, and chronic musculoskeletal injuries. LLLT increases microcirculation, lymphatic drainage, and cellular metabolism, thereby relieving many acute and chronic conditions.', 'The MeSH database in PubMed contains more than 7000 articles on LLLT. The effects of LLLT have been confirmed through several meta--analysis studies and include anti-inflammatory [3] and analgesic effects [4], tissue healing [5], treating tendinopathy [6], and improving lymphedema [7]. Recent lab and animal studies suggest LLLT is ready for clinical trials over myocardial infarction [5]. In 2010, a meta-analysis concluded that there was strong evidence of an anti-inflammatory effect of LLLT [3].', 'To date, published reports indicate that LLLT up-regulates antioxidant defenses and decreases ROS in oxidatively stressed cells and animal models of disease. The anti-inflammatory effect of LLLT directly addresses the main pathology of disorders such as musculoskeletal, lungs, wounds, brain, trauma, etc. LLLT reduces NF-kB, a protein complex that controls transcription of DNA, in pathological conditions. Reports have shown reductions in reactive nitrogen species and prostaglandins in various animal models [2].', 'LLLT has diverse effects [8]:', 'LLLT has been used in respiratory tract diseases since 1978. Empirical practice on over 1000 patients produced data pertaining to chronic pneumonia, acute pneumonia, asthma, and chronic bronchitis in children, adults, and elderly. Common findings include reduced chest pain and heaviness; normalization of respiratory function; improved blood, immunological, and radiological parameters; and shortened recovery times. In community-acquired pneumonia, intravenous LLLT of blood added to conventional treatment significantly promoted the bactericidal activity of neutrophils. In asthma, the addition of LLLT was more effective than medical treatment alone and it shortened the duration of treatment and recovered bronchial sensitivity to sympathomimetics [9–11]. In newborns with pneumonia, LLLT combined with conventional medical regimens optimized the treatment infectious and inflammatory diseases, reduced the incidence of complications, and shortened recovery periods [12].', 'LLLT is a well-known treatment modality in veterinary medicine. Upper and lower respiratory conditions in dogs and cats are common, and viral and bacterial infections are often highly contagious. Regardless of etiology, inflammation is the major pathology of these conditions. The addition of LLLT to conventional treatment alleviates symptoms and stimulates the healing process in tissues. General guidelines for the use of laser therapy in animals and protocols for specific conditions are published [13].', 'Coronaviruses are a large group of viruses that affect animals. In humans, they produce diseases such as the common cold, severe acute respiratory syndrome (SARS) and Middle East respiratory syndrome. The disease caused by the novel coronavirus, SARS-CoV-2, has been named COVID-19 and the clinical manifestations range from asymptomatic to severe acute respiratory distress syndrome (ARDS) to death [14].', 'Respiratory viruses infect either the upper or lower airways. Typical upper-respiratory infections are milder, more contagious, and spread easily, whereas lower-respiratory infections spread much less frequently but are more severe and dangerous. SARS-CoV-2 appears to infect both upper and lower airways. It spreads while still limited to the upper airways, before traveling into the deeper respiratory tract and leading to severe symptoms [15].', 'SARS-CoV-2 attaches to a protein called angiotensin converting enzyme (ACE2), on the surface of cells in the respiratory tract. As SARS-CoV-2 attacks the cells, dead cells flow down and block the airways with debris while the virus moves deeper into the lungs. Breathing becomes difficult because the lungs become clogged with dead cells and fluid. The immune system attacks the virus causing inflammation and fever. In severe cases, the immune system goes wild, causing more damage to the lungs than the actual virus. Blood vessels dilate to increase blood flow and become more permeable to maximize transport of chemical and cellular mediators the infection site. Inevitably, the lungs get filled with fluid. This exaggerated immune response is called cytokine storm and it leads to ARDS, fever, multiorgan failure, and death [15, 16].', 'During cytokine storm, the immune system attacks indiscriminately without clearing the specific targets. Cytokine storm also affects other organs, especially if people already have chronic diseases [15]. The severity of cytokine storm determines who is hospitalized and who will be treated in the intensive care unit (ICU). The classification of COVID-19 is summarized in Table 1 [17].', 'The morbidity and mortality of COVID-19 are due to excessive inflammatory cytokine production and immune hyperactivity. Alveolar macrophage activation and cytokine storm are the main pathogenesis of severe COVID-19. The pathological features include exudation and hemorrhage, epithelial injuries, infiltration of macrophages into the lungs, and fibrosis of lung tissue. The mucous plug with fibrinous exudate in the alveoli and the activation of alveolar macrophage are characteristic abnormalities [18, 19]. Chemical and genetic studies have shown that the pulmonary endothelium is a key component of the cytokine storm. Therefore, modulation of the involved cellular signaling pathways may have therapeutic effects [20, 21].', 'COVID-19 begins when SARS-CoV-2 uses ACE2 as the entry receptor for infection [22]. This induces ACE2 downregulation and shedding. Loss of ACE2 from the endothelium causes dysfunction of the renin-angiotensin system, and it enhances inflammation and vascular permeability. Shedding of ACE2 from the endothelium releases enzymatically active soluble ACE2 (sACE2), which is tightly linked to tumor necrosis factor alpha (TNF-α) production in cell culture [23].', 'Multiple signaling pathways are activated during an immune response and cytokine storm. The P2X purinoceptor 7 (P2X7r) is major factor involved in activation of the cytokine storm and lung pathology in response to viruses [24, 25], infection, inflammation, hypoxia, or trauma [26]. P2X7r is an adenosine triphosphate (ATP) gated, nonselective cation channel, allowing Ca2+ and Na+ influx and K+ efflux. Extracellular ATP plays a central role in apoptotic cell death [27], the induction of inflammation [28], and mitochondrial failure in monocytes [29]. P2X7r mediates ATP-induced cell death in different cells and it promotes assembly and release of proinflammatory interleukins (IL-1β and IL-18) from immune cells after exposure to lipopolysaccharide and ATP [27]. P2X7r is constitutively expressed in many cells, including respiratory epithelial cells and most immune cells like neutrophils, monocytes, macrophages, dendritic, natural killer, B and T lymphocytes [27].', 'Studies stratified COVID-19 patients as: (i) severe symptoms and ICU admission and (ii) mild and moderate symptoms requiring hospitalization but not ICU [17, 19]. The severe patients have significantly higher levels of plasma pro-inflammatory factors (IL-2, IL-7, IL-10, GSCF, IP-10, MCP-1, MIP1A, TNF-α) [19] and (IL-2, IL-6, IL-10, TNF-α) [18] than non-ICU patients, and they were likely in cytokine storm [17, 19]. These findings justify the use of IL-6 receptor antagonists [18, 19]; however, a therapy to reduce inflammation at multiple levels, such as LLLT, could be more successful in controlling the unbalanced immune response (Figure 1).', 'LLLT is effective against cytokine storm and ARDS while promoting healing and tissue regeneration. Experimental and animal models of pulmonary disease and infection have revealed multiple cellular and molecular effects, which are both local and systemic. LLLT reduces inflammation without impairing lung function in acute lung injuries and is a promising therapeutic approach for lung inflammatory diseases such as Chronic obstructive pulmonary disease [26].', 'In murine models of acute inflammation of the airways and lungs, transcutaneous LLLT delivered over the trachea decreases pulmonary microvascular leakage [30, 31], IL-1b levels [26, 30], IL-6 [26, 32], MIP-2 mRNA expression [30], and intracellular ROS production [24]. LLLT produces anti-inflammatory effects on tracheal hyperactivity, and reduces neutrophil influx [26, 30, 32–34] by inhibiting COX-2-derived metabolites [33]. In ARDS, LLLT elevates cyclic adenosine monophosphate [32, 34], a signaling molecule that stimulates IL-10 and G-CSF expression and blocks TNF-a and MIP-1. LLLT also reduces TNF-a levels in bronchoalveolar lavage fluid and alveolar macrophages [26, 31–34]. In hemorrhagic lesions of the lungs, LLLT significantly reduces the hemorrhagic index and myeloperoxidase activity, to levels comparable to Celecoxib [35].', 'LLLT contributes to the resolution of inflammation by upregulating IL-10 and downregulating P2X7r. LLLT changes the profile of inflammatory cytokines and elevates IL-10 [26, 31, 36], known as human cytokine synthesis inhibitory factor, in the lung and abolishes lung inflammation via a reduction of inflammatory cytokines and mast cell degranulation [31]. LLLT decreases collagen deposition as well as the expression of the P2X7r [26].', 'LLLT contributes to healing by promoting apoptosis of inflammatory cells while suppressing apoptotic pathways in lung tissue. In a model of acute lung injury, LLLT reduced DNA fragmentation and apoptotic pathways via increased B-cell-lymphoma-2 (Bcl-2), the key regulator of the intrinsic or mitochondrial pathway for apoptosis, in alveolar epithelial cells while promoting DNA fragmentation in inflammatory cells [37]. In pulmonary idiopathic fibrosis, LLLT inhibits pro-inflammatory cytokines and increases expression of proliferating cell nuclear antigen [38], attenuates airway remodeling by balancing pro- and anti-inflammatory cytokines in lung tissue, and inhibiting fibroblast secretion of the pro-fibrotic cytokines [36].', 'LLLT provides synergy in combination with medical treatment. It has a synergic anti-inflammatory action over alveolar macrophages pretreated with N-acetyl cysteine, an effective oral medicine for coughs and some lung conditions [39]. The synergic effects of LLLT combined with conventional treatments were reported on over 1000 patients in Russian studies [9–11].', 'Extended time on ventilators causes lung injury but LLLT minimizes this side effect. In experimental models of ventilator-induced lung injury (VILI), LLLT following VILI resulted in lower injury scores, decreased total cell count and neutrophil count in bronchoalveolar lavage, and reduced alveolar neutrophil infiltration. LLLT in an experimental model of VILI in rats demonstrated the anti-inflammatory effect via decreased lung injury scores and lower counts of neutrophils in alveolar, interstitial, and bronchial lavage [39] (Figure 2).', 'Evidence from the literature supports the use of LLLT for the treatment of COVID-19.', 'Based on this information, LLLT will accelerate recovery from COVID-19 and will get patients off ventilator support and out of the ICU more rapidly. This could significantly decompress our severely overburdened health care systems.', 'Laser dose is the amount of energy delivered per second per cm2. The effect of laser therapy is related to the amount of laser energy per cm2. The Arndt-Schultz Law is considered the standard to describe the dose dependent effects of LLLT [42]. The minimum therapeutic dose for a bio-stimulatory effect for red and infrared laser is 0.01 J/cm2 while for ultraviolet, blue, green laser it is 0.001 J/cm2. LLLT has a noticeable biphasic dose response. The effective stimulation dose is 1 J/cm2 on the target tissue. Doses greater than 10 J/cm2 produces inhibitory effects. The inhibitory effects are used in conditions requiring inhibition and suppression [2].', 'Laser parameters:', 'Laser probe positions:', 'Laser parameters:', 'Laser Probe Positions:', 'Although LLLT is safe and noninvasive and there are no reports of mutagenicity, genotoxicity, or carcinogenicity of LLLT after 60 years of its use. However, there are some contraindications:', 'Precautions [42]', 'Because of the high intensity of lasers and the absorption of its wavelengths by different parts of ocular system, there is a possibility of damage to the eyes. It is important to use protective glasses that can absorb the specific wavelength. Protective glasses for each wavelength are different; therefore, choose the protective goggles specified for each wavelength. Both therapists and clients should wear protective goggles [42].', 'The analgesic effect of laser manifests earlier than its healing effect, and the patients feel better because of this, but the actual tissue damage has not yet healed. Patients feel relaxed and more energetic because the pain is gone. However, they must allow enough time for recovery [42].', 'Fatigue is the most common symptom following LLLT. This is due to hormonal and metabolite changes after laser therapy that increase expression natural pain killers like endorphins and enkephalins. These metabolites induce relaxation and sleepiness [42].', 'Very rarely, when the treated area is close to large blood vessels, a patient may experience a temporary drop in the blood pressure and orthostasis. This is due to vasodilatation and increased circulation to the limbs. To avoid dizziness, it is recommended that patients drink fluids before LLLT, and then wait for a few minutes before getting up from the supine position [42].', 'Soheila Mokmeli and Mariana Vetrici contributed to the conception and design of the work.', 'All authors have completed the ICMJE uniform disclosure form at www.icmje.org/coi_disclosure.pdf and declare: no financial relationships with any organizations that might have an interest in the submitted work in the previous 3 years; no other relationships or activities that could appear to have influenced the submitted work.', 'Informed consent was obtained from all participants.']\n"
          ],
          "name": "stdout"
        }
      ]
    },
    {
      "cell_type": "code",
      "metadata": {
        "id": "OxKiABSBMH2p"
      },
      "source": [
        "def preprocessing(text):\r\n",
        "    # remove mail\r\n",
        "    text = re.sub(r'[a-z0-9._%+-]+@[a-z0-9.-]+\\.[a-z]{2,}', 'MAIL', text)\r\n",
        "    # remove doi\r\n",
        "    text = re.sub(r'https\\:\\/\\/doi\\.org[^\\s]+', 'DOI', text)\r\n",
        "    # remove https\r\n",
        "    text = re.sub(r'(\\()?\\s?http(s)?\\:\\/\\/[^\\)]+(\\))?', '\\g<1>LINK\\g<3>', text)\r\n",
        "    # remove single characters repeated at least 3 times for spacing error (e.g. s u m m a r y)\r\n",
        "    text = re.sub(r'(\\w\\s+){3,}', ' ', text)\r\n",
        "    # replace tags (e.g. [3] [4] [5]) with whitespace\r\n",
        "    text = re.sub(r'(\\[\\d+\\]\\,?\\s?){3,}(\\.|\\,)?', ' \\g<2>', text)\r\n",
        "    # replace tags (e.g. [3, 4, 5]) with whitespace\r\n",
        "    text = re.sub(r'\\[[\\d\\,\\s]+\\]', ' ',text)\r\n",
        "     # replace tags (e.g. (NUM1) repeated at least 3 times with whitespace\r\n",
        "    text = re.sub(r'(\\(\\d+\\)\\s){3,}', ' ',text)\r\n",
        "    # replace '1.3' with '1,3' (we need it for split later)\r\n",
        "    text = re.sub(r'(\\d+)\\.(\\d+)', '\\g<1>,\\g<2>', text)\r\n",
        "    # remove all full stops as abbreviations (e.g. i.e. cit. and so on)\r\n",
        "    text = re.sub(r'\\.(\\s)?([^A-Z\\s])', ' \\g<1>\\g<2>', text)\r\n",
        "    # correctly spacing the tokens\r\n",
        "    text = re.sub(r' {2,}', ' ', text)\r\n",
        "    text = re.sub(r'\\.{2,}', '.', text)\r\n",
        "    text=re.sub(r\"[<>()(,)|&©ø\\[\\]\\'\\\";?~*!]\", ' ', text) #remove <>()|&©ø\"',;?~*!\r\n",
        "    text=re.sub(\"(\\\\t)\", ' ', text) #remove escape charecters\r\n",
        "    text=re.sub(\"(\\\\r)\", ' ', text) \r\n",
        "    text=re.sub(\"(\\\\n)\", ' ', text)\r\n",
        "    text= re.sub(\"(\\s+)\",' ',text) #remove multiple space\r\n",
        "    # return lowercase text\r\n",
        "    return text.lower()"
      ],
      "execution_count": 8,
      "outputs": []
    },
    {
      "cell_type": "code",
      "metadata": {
        "id": "tle9VT35P1fU"
      },
      "source": [
        "from nltk.tokenize import sent_tokenize\r\n",
        "full_body_text2=[]"
      ],
      "execution_count": 9,
      "outputs": []
    },
    {
      "cell_type": "code",
      "metadata": {
        "id": "56NVitVlMtKJ"
      },
      "source": [
        "for i in full_body_text :\r\n",
        "  txt = preprocessing(i[0])\r\n",
        "  t=sent_tokenize(txt)\r\n",
        "  full_body_text2.append(t)"
      ],
      "execution_count": 10,
      "outputs": []
    },
    {
      "cell_type": "code",
      "metadata": {
        "colab": {
          "base_uri": "https://localhost:8080/"
        },
        "id": "1aDfBtX9QOq4",
        "outputId": "b7df752d-1861-4be0-f8ba-2ddef30647cf"
      },
      "source": [
        "for s in full_body_text2 :\r\n",
        "  print(s)"
      ],
      "execution_count": 11,
      "outputs": [
        {
          "output_type": "stream",
          "text": [
            "['low level laser therapy lllt is also known as cold laser therapy or photobiomodulation therapy.', 'lllt utilizes visible light and infrared laser beams in the range of 450–1000 nm.', 'single wavelength or monochromatic light is emitted from a low-intensity laser diode 500 mw .', 'the light source is placed in contact with the skin allowing the photon energy to penetrate tissue where it interacts with various intracellular biomolecules to restore normal cell function and enhance the body’s healing processes .', 'this contrasts with the thermal effects produced by the high-power lasers that are used in cosmetic and surgical procedures to destroy tissue as mentioned in the pubmed medical subject heading mesh subheading for lllt.']\n"
          ],
          "name": "stdout"
        }
      ]
    },
    {
      "cell_type": "code",
      "metadata": {
        "colab": {
          "base_uri": "https://localhost:8080/"
        },
        "id": "mRfqMz6qo7tq",
        "outputId": "2e03cbe7-8d0b-4afa-cb94-0b06f95a7463"
      },
      "source": [
        "nltk.download('stopwords')"
      ],
      "execution_count": 12,
      "outputs": [
        {
          "output_type": "stream",
          "text": [
            "[nltk_data] Downloading package stopwords to /root/nltk_data...\n",
            "[nltk_data]   Package stopwords is already up-to-date!\n"
          ],
          "name": "stdout"
        },
        {
          "output_type": "execute_result",
          "data": {
            "text/plain": [
              "True"
            ]
          },
          "metadata": {
            "tags": []
          },
          "execution_count": 12
        }
      ]
    },
    {
      "cell_type": "code",
      "metadata": {
        "id": "hE8GMFINo-gx"
      },
      "source": [
        "from nltk.corpus import stopwords\r\n",
        "stop_words = stopwords.words('english')"
      ],
      "execution_count": 13,
      "outputs": []
    },
    {
      "cell_type": "code",
      "metadata": {
        "id": "28XyadQNpBya"
      },
      "source": [
        "def remove_stopwords(sen):\r\n",
        "    sen_new = \" \".join([i for i in sen if i not in stop_words])\r\n",
        "    return sen_new"
      ],
      "execution_count": 14,
      "outputs": []
    },
    {
      "cell_type": "code",
      "metadata": {
        "colab": {
          "base_uri": "https://localhost:8080/"
        },
        "id": "1jg3GqEzpYFK",
        "outputId": "5fec1f7c-3c61-4b2c-ac27-8dd4e48417b4"
      },
      "source": [
        "clean_body_text = []\r\n",
        "for r in full_body_text2 :\r\n",
        "  c_body_text = []\r\n",
        "  for rr in r :\r\n",
        "    c_body_text.append(remove_stopwords(rr.split()))\r\n",
        "  clean_body_text.append(c_body_text)\r\n",
        "\r\n",
        "\r\n",
        "for s in clean_body_text :\r\n",
        "  print(s)"
      ],
      "execution_count": 15,
      "outputs": [
        {
          "output_type": "stream",
          "text": [
            "['low level laser therapy lllt also known cold laser therapy photobiomodulation therapy.', 'lllt utilizes visible light infrared laser beams range 450–1000 nm.', 'single wavelength monochromatic light emitted low-intensity laser diode 500 mw .', 'light source placed contact skin allowing photon energy penetrate tissue interacts various intracellular biomolecules restore normal cell function enhance body’s healing processes .', 'contrasts thermal effects produced high-power lasers used cosmetic surgical procedures destroy tissue mentioned pubmed medical subject heading mesh subheading lllt.']\n"
          ],
          "name": "stdout"
        }
      ]
    },
    {
      "cell_type": "code",
      "metadata": {
        "id": "5AI8pXhHRggA"
      },
      "source": [
        "from nltk.cluster.util import cosine_distance\r\n",
        "import networkx as nx"
      ],
      "execution_count": 16,
      "outputs": []
    },
    {
      "cell_type": "code",
      "metadata": {
        "id": "rzN4Eh2XSGE3"
      },
      "source": [
        "def sentence_similarity(sent1,sent2,stopwords=None):\r\n",
        "  if stopwords is None :\r\n",
        "    stopwords = []\r\n",
        "  sent1=[w.lower() for w in sent1]\r\n",
        "  sent2=[w.lower() for w in sent2]\r\n",
        "  all_words=list(set(sent1+sent2))\r\n",
        "  vector1=[0]*len(all_words)\r\n",
        "  vector2=[0]*len(all_words)\r\n",
        "  for w in sent1 :\r\n",
        "    if w in stopwords :\r\n",
        "      continue\r\n",
        "    vector1[all_words.index(w)] += 1\r\n",
        "  for w in sent2 :\r\n",
        "    if w in stopwords :\r\n",
        "      continue\r\n",
        "    vector2[all_words.index(w)] += 1\r\n",
        "  return 1-cosine_distance(vector1,vector2)"
      ],
      "execution_count": 18,
      "outputs": []
    },
    {
      "cell_type": "code",
      "metadata": {
        "id": "hxysC--UVzAz"
      },
      "source": [
        "def gen_sim_matrix(sentences,stop_words):\r\n",
        "  similarity_matrix=np.zeros(len(sentences),len(sentences))\r\n",
        "  for idx1 in range(len(sentences)) :\r\n",
        "    for idx2 in range(len(sentences)) :\r\n",
        "      if idx1 == idx2 :\r\n",
        "        continue\r\n",
        "      similarity_matrix[idx1][idx2]=sentence_similarity(sentences[idx1],sentences[idx2],stop_words)\r\n",
        "  return similarity_matrix"
      ],
      "execution_count": 24,
      "outputs": []
    },
    {
      "cell_type": "code",
      "metadata": {
        "id": "3R6tTxHYbgfu"
      },
      "source": [
        "def generate_summary(filename,top_n=5) :\r\n",
        "  stop_words=stopwords.words('english')\r\n",
        "  summarize_text=[]\r\n",
        "  s=clean_body_text[0]\r\n",
        "  sentences=s_new = \" \".join([i for i in clean_body_text[0]])\r\n",
        "  sentence_similarity_matrix=gen_sim_matrix(sentences,stop_words)\r\n",
        "  sentence_similarity_graph=nx.from_numpy_array(sentence_similarity_matrix)\r\n",
        "  scores=nx.pagerank(sentence_similarity_graph)\r\n",
        "  ranked_sentence=sorted(((scores[i],s) for i,s in enumerate(sentences)),reverse=True)\r\n",
        "  for i in range(top_n):\r\n",
        "    summarize_text.append(\" \".join(ranked_sentence[i][1]))\r\n",
        "  print(\"summary \\n\",\". \".join(summarize_text))\r\n"
      ],
      "execution_count": 34,
      "outputs": []
    },
    {
      "cell_type": "code",
      "metadata": {
        "id": "akOTHnsHgZPJ"
      },
      "source": [
        "s_new = \" \".join([i for i in clean_body_text[0]])"
      ],
      "execution_count": 33,
      "outputs": []
    },
    {
      "cell_type": "code",
      "metadata": {
        "colab": {
          "base_uri": "https://localhost:8080/",
          "height": 306
        },
        "id": "kN7FCOolf2m4",
        "outputId": "f87a1ef7-02a5-4fdf-ab46-abda577fb946"
      },
      "source": [
        "generate_summary(s_new)"
      ],
      "execution_count": 35,
      "outputs": [
        {
          "output_type": "error",
          "ename": "TypeError",
          "evalue": "ignored",
          "traceback": [
            "\u001b[0;31m---------------------------------------------------------------------------\u001b[0m",
            "\u001b[0;31mTypeError\u001b[0m                                 Traceback (most recent call last)",
            "\u001b[0;32m<ipython-input-35-7d6335874c1e>\u001b[0m in \u001b[0;36m<module>\u001b[0;34m()\u001b[0m\n\u001b[0;32m----> 1\u001b[0;31m \u001b[0mgenerate_summary\u001b[0m\u001b[0;34m(\u001b[0m\u001b[0ms_new\u001b[0m\u001b[0;34m)\u001b[0m\u001b[0;34m\u001b[0m\u001b[0;34m\u001b[0m\u001b[0m\n\u001b[0m",
            "\u001b[0;32m<ipython-input-34-455657ef4f7f>\u001b[0m in \u001b[0;36mgenerate_summary\u001b[0;34m(filename, top_n)\u001b[0m\n\u001b[1;32m      4\u001b[0m   \u001b[0ms\u001b[0m\u001b[0;34m=\u001b[0m\u001b[0mclean_body_text\u001b[0m\u001b[0;34m[\u001b[0m\u001b[0;36m0\u001b[0m\u001b[0;34m]\u001b[0m\u001b[0;34m\u001b[0m\u001b[0;34m\u001b[0m\u001b[0m\n\u001b[1;32m      5\u001b[0m   \u001b[0msentences\u001b[0m\u001b[0;34m=\u001b[0m\u001b[0ms_new\u001b[0m \u001b[0;34m=\u001b[0m \u001b[0;34m\" \"\u001b[0m\u001b[0;34m.\u001b[0m\u001b[0mjoin\u001b[0m\u001b[0;34m(\u001b[0m\u001b[0;34m[\u001b[0m\u001b[0mi\u001b[0m \u001b[0;32mfor\u001b[0m \u001b[0mi\u001b[0m \u001b[0;32min\u001b[0m \u001b[0mclean_body_text\u001b[0m\u001b[0;34m[\u001b[0m\u001b[0;36m0\u001b[0m\u001b[0;34m]\u001b[0m\u001b[0;34m]\u001b[0m\u001b[0;34m)\u001b[0m\u001b[0;34m\u001b[0m\u001b[0;34m\u001b[0m\u001b[0m\n\u001b[0;32m----> 6\u001b[0;31m   \u001b[0msentence_similarity_matrix\u001b[0m\u001b[0;34m=\u001b[0m\u001b[0mgen_sim_matrix\u001b[0m\u001b[0;34m(\u001b[0m\u001b[0msentences\u001b[0m\u001b[0;34m,\u001b[0m\u001b[0mstop_words\u001b[0m\u001b[0;34m)\u001b[0m\u001b[0;34m\u001b[0m\u001b[0;34m\u001b[0m\u001b[0m\n\u001b[0m\u001b[1;32m      7\u001b[0m   \u001b[0msentence_similarity_graph\u001b[0m\u001b[0;34m=\u001b[0m\u001b[0mnx\u001b[0m\u001b[0;34m.\u001b[0m\u001b[0mfrom_numpy_array\u001b[0m\u001b[0;34m(\u001b[0m\u001b[0msentence_similarity_matrix\u001b[0m\u001b[0;34m)\u001b[0m\u001b[0;34m\u001b[0m\u001b[0;34m\u001b[0m\u001b[0m\n\u001b[1;32m      8\u001b[0m   \u001b[0mscores\u001b[0m\u001b[0;34m=\u001b[0m\u001b[0mnx\u001b[0m\u001b[0;34m.\u001b[0m\u001b[0mpagerank\u001b[0m\u001b[0;34m(\u001b[0m\u001b[0msentence_similarity_graph\u001b[0m\u001b[0;34m)\u001b[0m\u001b[0;34m\u001b[0m\u001b[0;34m\u001b[0m\u001b[0m\n",
            "\u001b[0;32m<ipython-input-24-fe3f307781ec>\u001b[0m in \u001b[0;36mgen_sim_matrix\u001b[0;34m(sentences, stop_words)\u001b[0m\n\u001b[1;32m      1\u001b[0m \u001b[0;32mdef\u001b[0m \u001b[0mgen_sim_matrix\u001b[0m\u001b[0;34m(\u001b[0m\u001b[0msentences\u001b[0m\u001b[0;34m,\u001b[0m\u001b[0mstop_words\u001b[0m\u001b[0;34m)\u001b[0m\u001b[0;34m:\u001b[0m\u001b[0;34m\u001b[0m\u001b[0;34m\u001b[0m\u001b[0m\n\u001b[0;32m----> 2\u001b[0;31m   \u001b[0msimilarity_matrix\u001b[0m\u001b[0;34m=\u001b[0m\u001b[0mnp\u001b[0m\u001b[0;34m.\u001b[0m\u001b[0mzeros\u001b[0m\u001b[0;34m(\u001b[0m\u001b[0mlen\u001b[0m\u001b[0;34m(\u001b[0m\u001b[0msentences\u001b[0m\u001b[0;34m)\u001b[0m\u001b[0;34m,\u001b[0m\u001b[0mlen\u001b[0m\u001b[0;34m(\u001b[0m\u001b[0msentences\u001b[0m\u001b[0;34m)\u001b[0m\u001b[0;34m)\u001b[0m\u001b[0;34m\u001b[0m\u001b[0;34m\u001b[0m\u001b[0m\n\u001b[0m\u001b[1;32m      3\u001b[0m   \u001b[0;32mfor\u001b[0m \u001b[0midx1\u001b[0m \u001b[0;32min\u001b[0m \u001b[0mrange\u001b[0m\u001b[0;34m(\u001b[0m\u001b[0mlen\u001b[0m\u001b[0;34m(\u001b[0m\u001b[0msentences\u001b[0m\u001b[0;34m)\u001b[0m\u001b[0;34m)\u001b[0m \u001b[0;34m:\u001b[0m\u001b[0;34m\u001b[0m\u001b[0;34m\u001b[0m\u001b[0m\n\u001b[1;32m      4\u001b[0m     \u001b[0;32mfor\u001b[0m \u001b[0midx2\u001b[0m \u001b[0;32min\u001b[0m \u001b[0mrange\u001b[0m\u001b[0;34m(\u001b[0m\u001b[0mlen\u001b[0m\u001b[0;34m(\u001b[0m\u001b[0msentences\u001b[0m\u001b[0;34m)\u001b[0m\u001b[0;34m)\u001b[0m \u001b[0;34m:\u001b[0m\u001b[0;34m\u001b[0m\u001b[0;34m\u001b[0m\u001b[0m\n\u001b[1;32m      5\u001b[0m       \u001b[0;32mif\u001b[0m \u001b[0midx1\u001b[0m \u001b[0;34m==\u001b[0m \u001b[0midx2\u001b[0m \u001b[0;34m:\u001b[0m\u001b[0;34m\u001b[0m\u001b[0;34m\u001b[0m\u001b[0m\n",
            "\u001b[0;31mTypeError\u001b[0m: data type not understood"
          ]
        }
      ]
    }
  ]
}