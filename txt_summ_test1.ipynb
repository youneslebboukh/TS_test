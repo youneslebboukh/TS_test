{
  "nbformat": 4,
  "nbformat_minor": 0,
  "metadata": {
    "colab": {
      "name": "txt_summ_test1.ipynb",
      "provenance": [],
      "collapsed_sections": [],
      "authorship_tag": "ABX9TyO4DgODcqihPS7YycYoTCJF",
      "include_colab_link": true
    },
    "kernelspec": {
      "display_name": "Python 3",
      "name": "python3"
    }
  },
  "cells": [
    {
      "cell_type": "markdown",
      "metadata": {
        "id": "view-in-github",
        "colab_type": "text"
      },
      "source": [
        "<a href=\"https://colab.research.google.com/github/youneslebboukh/text-summarization/blob/main/txt_summ_test1.ipynb\" target=\"_parent\"><img src=\"https://colab.research.google.com/assets/colab-badge.svg\" alt=\"Open In Colab\"/></a>"
      ]
    },
    {
      "cell_type": "code",
      "metadata": {
        "colab": {
          "base_uri": "https://localhost:8080/"
        },
        "id": "o47yrDdeeuwq",
        "outputId": "ebc5555a-6d70-4c02-96e0-b6ee20d0049e"
      },
      "source": [
        "!pip install kaggle"
      ],
      "execution_count": 1,
      "outputs": [
        {
          "output_type": "stream",
          "text": [
            "Requirement already satisfied: kaggle in /usr/local/lib/python3.6/dist-packages (1.5.10)\n",
            "Requirement already satisfied: python-dateutil in /usr/local/lib/python3.6/dist-packages (from kaggle) (2.8.1)\n",
            "Requirement already satisfied: certifi in /usr/local/lib/python3.6/dist-packages (from kaggle) (2020.12.5)\n",
            "Requirement already satisfied: python-slugify in /usr/local/lib/python3.6/dist-packages (from kaggle) (4.0.1)\n",
            "Requirement already satisfied: six>=1.10 in /usr/local/lib/python3.6/dist-packages (from kaggle) (1.15.0)\n",
            "Requirement already satisfied: requests in /usr/local/lib/python3.6/dist-packages (from kaggle) (2.23.0)\n",
            "Requirement already satisfied: urllib3 in /usr/local/lib/python3.6/dist-packages (from kaggle) (1.24.3)\n",
            "Requirement already satisfied: tqdm in /usr/local/lib/python3.6/dist-packages (from kaggle) (4.41.1)\n",
            "Requirement already satisfied: text-unidecode>=1.3 in /usr/local/lib/python3.6/dist-packages (from python-slugify->kaggle) (1.3)\n",
            "Requirement already satisfied: idna<3,>=2.5 in /usr/local/lib/python3.6/dist-packages (from requests->kaggle) (2.10)\n",
            "Requirement already satisfied: chardet<4,>=3.0.2 in /usr/local/lib/python3.6/dist-packages (from requests->kaggle) (3.0.4)\n"
          ],
          "name": "stdout"
        }
      ]
    },
    {
      "cell_type": "code",
      "metadata": {
        "colab": {
          "resources": {
            "http://localhost:8080/nbextensions/google.colab/files.js": {
              "data": "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",
              "ok": true,
              "headers": [
                [
                  "content-type",
                  "application/javascript"
                ]
              ],
              "status": 200,
              "status_text": ""
            }
          },
          "base_uri": "https://localhost:8080/",
          "height": 89
        },
        "id": "b4C6_7Z3fIN3",
        "outputId": "191c8833-8838-44ff-aaeb-6c8ce12b02f9"
      },
      "source": [
        "from google.colab import files\n",
        "files.upload()"
      ],
      "execution_count": 2,
      "outputs": [
        {
          "output_type": "display_data",
          "data": {
            "text/html": [
              "\n",
              "     <input type=\"file\" id=\"files-2712a49d-5682-4007-9e77-55f449fb0e92\" name=\"files[]\" multiple disabled\n",
              "        style=\"border:none\" />\n",
              "     <output id=\"result-2712a49d-5682-4007-9e77-55f449fb0e92\">\n",
              "      Upload widget is only available when the cell has been executed in the\n",
              "      current browser session. Please rerun this cell to enable.\n",
              "      </output>\n",
              "      <script src=\"/nbextensions/google.colab/files.js\"></script> "
            ],
            "text/plain": [
              "<IPython.core.display.HTML object>"
            ]
          },
          "metadata": {
            "tags": []
          }
        },
        {
          "output_type": "stream",
          "text": [
            "Saving kaggle.json to kaggle.json\n"
          ],
          "name": "stdout"
        },
        {
          "output_type": "execute_result",
          "data": {
            "text/plain": [
              "{'kaggle.json': b'{\"username\":\"youneslbk\",\"key\":\"ff30355568a25aef64e5c064a14e36fc\"}'}"
            ]
          },
          "metadata": {
            "tags": []
          },
          "execution_count": 2
        }
      ]
    },
    {
      "cell_type": "code",
      "metadata": {
        "id": "RId33NszftMP"
      },
      "source": [
        " !mkdir -p ~/.kaggle\n",
        " !cp kaggle.json ~/.kaggle/"
      ],
      "execution_count": 3,
      "outputs": []
    },
    {
      "cell_type": "code",
      "metadata": {
        "id": "_mRQTOEkgZJ9"
      },
      "source": [
        "  !chmod 600 ~/.kaggle/kaggle.json"
      ],
      "execution_count": 4,
      "outputs": []
    },
    {
      "cell_type": "code",
      "metadata": {
        "colab": {
          "base_uri": "https://localhost:8080/"
        },
        "id": "QcvBdXSAg0Bv",
        "outputId": "3c025430-542d-43d3-f44b-180396c5af1e"
      },
      "source": [
        "!kaggle datasets download -d allen-institute-for-ai/CORD-19-research-challenge"
      ],
      "execution_count": 5,
      "outputs": [
        {
          "output_type": "stream",
          "text": [
            "Downloading CORD-19-research-challenge.zip to /content\n",
            "100% 6.21G/6.22G [01:30<00:00, 63.9MB/s]\n",
            "100% 6.22G/6.22G [01:31<00:00, 73.3MB/s]\n"
          ],
          "name": "stdout"
        }
      ]
    },
    {
      "cell_type": "code",
      "metadata": {
        "colab": {
          "base_uri": "https://localhost:8080/"
        },
        "id": "ivtbsfgvhczW",
        "outputId": "2cce1931-00ef-4137-cf56-570a181de26b"
      },
      "source": [
        "!pip install zip_files"
      ],
      "execution_count": 6,
      "outputs": [
        {
          "output_type": "stream",
          "text": [
            "Collecting zip_files\n",
            "  Downloading https://files.pythonhosted.org/packages/f3/99/fc7f65a052d30e62b946924ed6334f8f1ebf7c826646b9e17ab1dff2901c/zip_files-0.3.0-py2.py3-none-any.whl\n",
            "Requirement already satisfied: click in /usr/local/lib/python3.6/dist-packages (from zip_files) (7.1.2)\n",
            "Installing collected packages: zip-files\n",
            "Successfully installed zip-files-0.3.0\n"
          ],
          "name": "stdout"
        }
      ]
    },
    {
      "cell_type": "code",
      "metadata": {
        "colab": {
          "base_uri": "https://localhost:8080/"
        },
        "id": "s2QufpcThhCC",
        "outputId": "2421c012-245b-4f62-9fd2-203ae4024556"
      },
      "source": [
        "from zipfile import ZipFile\n",
        "file_name=\"CORD-19-research-challenge.zip\"\n",
        "with ZipFile(file_name,'r') as zip:\n",
        "  zip.extractall()\n",
        "  print('Done')"
      ],
      "execution_count": 7,
      "outputs": [
        {
          "output_type": "stream",
          "text": [
            "Done\n"
          ],
          "name": "stdout"
        }
      ]
    },
    {
      "cell_type": "code",
      "metadata": {
        "colab": {
          "base_uri": "https://localhost:8080/"
        },
        "id": "q6wBDJin_0FI",
        "outputId": "006070f2-bfea-4519-de29-ff31f357686d"
      },
      "source": [
        "import numpy as np\n",
        "import pandas as pd\n",
        "import nltk\n",
        "nltk.download('punkt') # one time execution\n",
        "import re"
      ],
      "execution_count": 8,
      "outputs": [
        {
          "output_type": "stream",
          "text": [
            "[nltk_data] Downloading package punkt to /root/nltk_data...\n",
            "[nltk_data]   Unzipping tokenizers/punkt.zip.\n"
          ],
          "name": "stdout"
        }
      ]
    },
    {
      "cell_type": "code",
      "metadata": {
        "colab": {
          "base_uri": "https://localhost:8080/"
        },
        "id": "PFg83UK0BC77",
        "outputId": "10c074b0-4351-4cd4-886d-eea3c169f2eb"
      },
      "source": [
        "metadata = pd.read_csv(\"/content/metadata.csv\")"
      ],
      "execution_count": 9,
      "outputs": [
        {
          "output_type": "stream",
          "text": [
            "/usr/local/lib/python3.6/dist-packages/IPython/core/interactiveshell.py:2718: DtypeWarning: Columns (1,4,5,6,13,14,15,16) have mixed types.Specify dtype option on import or set low_memory=False.\n",
            "  interactivity=interactivity, compiler=compiler, result=result)\n"
          ],
          "name": "stderr"
        }
      ]
    },
    {
      "cell_type": "code",
      "metadata": {
        "colab": {
          "base_uri": "https://localhost:8080/",
          "height": 564
        },
        "id": "uV4DtP5-BTaA",
        "outputId": "372adc29-3b58-45e3-fc07-10c5daa3500c"
      },
      "source": [
        "metadata.head()"
      ],
      "execution_count": 10,
      "outputs": [
        {
          "output_type": "execute_result",
          "data": {
            "text/html": [
              "<div>\n",
              "<style scoped>\n",
              "    .dataframe tbody tr th:only-of-type {\n",
              "        vertical-align: middle;\n",
              "    }\n",
              "\n",
              "    .dataframe tbody tr th {\n",
              "        vertical-align: top;\n",
              "    }\n",
              "\n",
              "    .dataframe thead th {\n",
              "        text-align: right;\n",
              "    }\n",
              "</style>\n",
              "<table border=\"1\" class=\"dataframe\">\n",
              "  <thead>\n",
              "    <tr style=\"text-align: right;\">\n",
              "      <th></th>\n",
              "      <th>cord_uid</th>\n",
              "      <th>sha</th>\n",
              "      <th>source_x</th>\n",
              "      <th>title</th>\n",
              "      <th>doi</th>\n",
              "      <th>pmcid</th>\n",
              "      <th>pubmed_id</th>\n",
              "      <th>license</th>\n",
              "      <th>abstract</th>\n",
              "      <th>publish_time</th>\n",
              "      <th>authors</th>\n",
              "      <th>journal</th>\n",
              "      <th>mag_id</th>\n",
              "      <th>who_covidence_id</th>\n",
              "      <th>arxiv_id</th>\n",
              "      <th>pdf_json_files</th>\n",
              "      <th>pmc_json_files</th>\n",
              "      <th>url</th>\n",
              "      <th>s2_id</th>\n",
              "    </tr>\n",
              "  </thead>\n",
              "  <tbody>\n",
              "    <tr>\n",
              "      <th>0</th>\n",
              "      <td>ug7v899j</td>\n",
              "      <td>d1aafb70c066a2068b02786f8929fd9c900897fb</td>\n",
              "      <td>PMC</td>\n",
              "      <td>Clinical features of culture-proven Mycoplasma...</td>\n",
              "      <td>10.1186/1471-2334-1-6</td>\n",
              "      <td>PMC35282</td>\n",
              "      <td>11472636</td>\n",
              "      <td>no-cc</td>\n",
              "      <td>OBJECTIVE: This retrospective chart review des...</td>\n",
              "      <td>2001-07-04</td>\n",
              "      <td>Madani, Tariq A; Al-Ghamdi, Aisha A</td>\n",
              "      <td>BMC Infect Dis</td>\n",
              "      <td>NaN</td>\n",
              "      <td>NaN</td>\n",
              "      <td>NaN</td>\n",
              "      <td>document_parses/pdf_json/d1aafb70c066a2068b027...</td>\n",
              "      <td>document_parses/pmc_json/PMC35282.xml.json</td>\n",
              "      <td>https://www.ncbi.nlm.nih.gov/pmc/articles/PMC3...</td>\n",
              "      <td>NaN</td>\n",
              "    </tr>\n",
              "    <tr>\n",
              "      <th>1</th>\n",
              "      <td>02tnwd4m</td>\n",
              "      <td>6b0567729c2143a66d737eb0a2f63f2dce2e5a7d</td>\n",
              "      <td>PMC</td>\n",
              "      <td>Nitric oxide: a pro-inflammatory mediator in l...</td>\n",
              "      <td>10.1186/rr14</td>\n",
              "      <td>PMC59543</td>\n",
              "      <td>11667967</td>\n",
              "      <td>no-cc</td>\n",
              "      <td>Inflammatory diseases of the respiratory tract...</td>\n",
              "      <td>2000-08-15</td>\n",
              "      <td>Vliet, Albert van der; Eiserich, Jason P; Cros...</td>\n",
              "      <td>Respir Res</td>\n",
              "      <td>NaN</td>\n",
              "      <td>NaN</td>\n",
              "      <td>NaN</td>\n",
              "      <td>document_parses/pdf_json/6b0567729c2143a66d737...</td>\n",
              "      <td>document_parses/pmc_json/PMC59543.xml.json</td>\n",
              "      <td>https://www.ncbi.nlm.nih.gov/pmc/articles/PMC5...</td>\n",
              "      <td>NaN</td>\n",
              "    </tr>\n",
              "    <tr>\n",
              "      <th>2</th>\n",
              "      <td>ejv2xln0</td>\n",
              "      <td>06ced00a5fc04215949aa72528f2eeaae1d58927</td>\n",
              "      <td>PMC</td>\n",
              "      <td>Surfactant protein-D and pulmonary host defense</td>\n",
              "      <td>10.1186/rr19</td>\n",
              "      <td>PMC59549</td>\n",
              "      <td>11667972</td>\n",
              "      <td>no-cc</td>\n",
              "      <td>Surfactant protein-D (SP-D) participates in th...</td>\n",
              "      <td>2000-08-25</td>\n",
              "      <td>Crouch, Erika C</td>\n",
              "      <td>Respir Res</td>\n",
              "      <td>NaN</td>\n",
              "      <td>NaN</td>\n",
              "      <td>NaN</td>\n",
              "      <td>document_parses/pdf_json/06ced00a5fc04215949aa...</td>\n",
              "      <td>document_parses/pmc_json/PMC59549.xml.json</td>\n",
              "      <td>https://www.ncbi.nlm.nih.gov/pmc/articles/PMC5...</td>\n",
              "      <td>NaN</td>\n",
              "    </tr>\n",
              "    <tr>\n",
              "      <th>3</th>\n",
              "      <td>2b73a28n</td>\n",
              "      <td>348055649b6b8cf2b9a376498df9bf41f7123605</td>\n",
              "      <td>PMC</td>\n",
              "      <td>Role of endothelin-1 in lung disease</td>\n",
              "      <td>10.1186/rr44</td>\n",
              "      <td>PMC59574</td>\n",
              "      <td>11686871</td>\n",
              "      <td>no-cc</td>\n",
              "      <td>Endothelin-1 (ET-1) is a 21 amino acid peptide...</td>\n",
              "      <td>2001-02-22</td>\n",
              "      <td>Fagan, Karen A; McMurtry, Ivan F; Rodman, David M</td>\n",
              "      <td>Respir Res</td>\n",
              "      <td>NaN</td>\n",
              "      <td>NaN</td>\n",
              "      <td>NaN</td>\n",
              "      <td>document_parses/pdf_json/348055649b6b8cf2b9a37...</td>\n",
              "      <td>document_parses/pmc_json/PMC59574.xml.json</td>\n",
              "      <td>https://www.ncbi.nlm.nih.gov/pmc/articles/PMC5...</td>\n",
              "      <td>NaN</td>\n",
              "    </tr>\n",
              "    <tr>\n",
              "      <th>4</th>\n",
              "      <td>9785vg6d</td>\n",
              "      <td>5f48792a5fa08bed9f56016f4981ae2ca6031b32</td>\n",
              "      <td>PMC</td>\n",
              "      <td>Gene expression in epithelial cells in respons...</td>\n",
              "      <td>10.1186/rr61</td>\n",
              "      <td>PMC59580</td>\n",
              "      <td>11686888</td>\n",
              "      <td>no-cc</td>\n",
              "      <td>Respiratory syncytial virus (RSV) and pneumoni...</td>\n",
              "      <td>2001-05-11</td>\n",
              "      <td>Domachowske, Joseph B; Bonville, Cynthia A; Ro...</td>\n",
              "      <td>Respir Res</td>\n",
              "      <td>NaN</td>\n",
              "      <td>NaN</td>\n",
              "      <td>NaN</td>\n",
              "      <td>document_parses/pdf_json/5f48792a5fa08bed9f560...</td>\n",
              "      <td>document_parses/pmc_json/PMC59580.xml.json</td>\n",
              "      <td>https://www.ncbi.nlm.nih.gov/pmc/articles/PMC5...</td>\n",
              "      <td>NaN</td>\n",
              "    </tr>\n",
              "  </tbody>\n",
              "</table>\n",
              "</div>"
            ],
            "text/plain": [
              "   cord_uid  ... s2_id\n",
              "0  ug7v899j  ...   NaN\n",
              "1  02tnwd4m  ...   NaN\n",
              "2  ejv2xln0  ...   NaN\n",
              "3  2b73a28n  ...   NaN\n",
              "4  9785vg6d  ...   NaN\n",
              "\n",
              "[5 rows x 19 columns]"
            ]
          },
          "metadata": {
            "tags": []
          },
          "execution_count": 10
        }
      ]
    },
    {
      "cell_type": "code",
      "metadata": {
        "id": "_Ek4HYZ-KsZ1"
      },
      "source": [
        "import json\r\n",
        "import glob"
      ],
      "execution_count": 11,
      "outputs": []
    },
    {
      "cell_type": "code",
      "metadata": {
        "colab": {
          "base_uri": "https://localhost:8080/"
        },
        "id": "NUAv4K8eKGQl",
        "outputId": "0e5f00f3-4688-46a6-885c-38e2b3bd8d99"
      },
      "source": [
        "p=\"/content/document_parses\"\r\n",
        "all_json = glob.glob(f'{p}/**/*.json', recursive=True)\r\n",
        "len(all_json)"
      ],
      "execution_count": 12,
      "outputs": [
        {
          "output_type": "execute_result",
          "data": {
            "text/plain": [
              "241502"
            ]
          },
          "metadata": {
            "tags": []
          },
          "execution_count": 12
        }
      ]
    },
    {
      "cell_type": "code",
      "metadata": {
        "id": "UTL0cVpCGPX0"
      },
      "source": [
        "full_body_text=[]\r\n",
        "#for i in range(5) :\r\n",
        "  #with open(all_json[i]) as file :\r\n",
        "with open(all_json[0]) as file :\r\n",
        "    content = json.load(file)\r\n",
        "    abstract = []\r\n",
        "    body_text = []\r\n",
        "    # Body text\r\n",
        "    for entry in content['body_text']:\r\n",
        "      body_text.append(entry['text'])\r\n",
        "    body_text = '\\n'.join(body_text)\r\n",
        "    full_body_text.append(body_text)\r\n",
        "    # Abstract\r\n",
        "    if 'abstract' in content:\r\n",
        "      for entry in content['abstract']:\r\n",
        "        abstract.append(entry['text'])\r\n",
        "      abstract = '\\n'.join(abstract)\r\n",
        "    "
      ],
      "execution_count": 54,
      "outputs": []
    },
    {
      "cell_type": "code",
      "metadata": {
        "colab": {
          "base_uri": "https://localhost:8080/"
        },
        "id": "5XHvqu4r9Bj8",
        "outputId": "809f1025-3558-452d-90a0-7fd43527c92b"
      },
      "source": [
        "for i in full_body_text :\r\n",
        "  print(i)"
      ],
      "execution_count": 55,
      "outputs": [
        {
          "output_type": "stream",
          "text": [
            "Low level laser therapy (LLLT) is also known as cold laser therapy or photobiomodulation therapy. LLLT utilizes visible light and infrared laser beams in the range of 450–1000 nm. Single wavelength or monochromatic light is emitted from a low-intensity laser diode (<500 mW). The light source is placed in contact with the skin, allowing the photon energy to penetrate tissue, where it interacts with various intracellular biomolecules to restore normal cell function and enhance the body’s healing processes [1]. This contrasts with the thermal effects produced by the high-power lasers that are used in cosmetic and surgical procedures to destroy tissue [1], as mentioned in the PubMed Medical Subject Heading (MeSH) subheading for LLLT.\n",
            "LLLT effects are not due to heat but rather to a photochemical reaction that occurs when a photoacceptor molecule within the cell absorbs a photon of light, becomes activated, and changes the cell’s membrane permeability and metabolism. Presently, cytochrome c oxidase, opsins and their associated calcium channels, and water molecules have been identified as the main mediators of the photochemical mechanisms [2]. This leads to increased mRNA synthesis and cell proliferation. LLLT produces reactive oxygen species (ROS) in normal cells, but ROS levels are lowered when it is used in oxidatively stressed cells, like in animal models of disease. LLLT up-regulates antioxidant defenses and decreases oxidative stress [2].\n",
            "Low-level lasers are a safe, noninvasive technology approved by both the US Food and Drug Administration and Health Canada for several chronic and degenerative conditions, temporary pain relief, cellulite treatment, body contouring, lymphedema reduction, hair growth, and chronic musculoskeletal injuries. LLLT increases microcirculation, lymphatic drainage, and cellular metabolism, thereby relieving many acute and chronic conditions.\n",
            "The MeSH database in PubMed contains more than 7000 articles on LLLT. The effects of LLLT have been confirmed through several meta--analysis studies and include anti-inflammatory [3] and analgesic effects [4], tissue healing [5], treating tendinopathy [6], and improving lymphedema [7]. Recent lab and animal studies suggest LLLT is ready for clinical trials over myocardial infarction [5]. In 2010, a meta-analysis concluded that there was strong evidence of an anti-inflammatory effect of LLLT [3].\n",
            "To date, published reports indicate that LLLT up-regulates antioxidant defenses and decreases ROS in oxidatively stressed cells and animal models of disease. The anti-inflammatory effect of LLLT directly addresses the main pathology of disorders such as musculoskeletal, lungs, wounds, brain, trauma, etc. LLLT reduces NF-kB, a protein complex that controls transcription of DNA, in pathological conditions. Reports have shown reductions in reactive nitrogen species and prostaglandins in various animal models [2].\n",
            "LLLT has diverse effects [8]:\n",
            "LLLT has been used in respiratory tract diseases since 1978. Empirical practice on over 1000 patients produced data pertaining to chronic pneumonia, acute pneumonia, asthma, and chronic bronchitis in children, adults, and elderly. Common findings include reduced chest pain and heaviness; normalization of respiratory function; improved blood, immunological, and radiological parameters; and shortened recovery times. In community-acquired pneumonia, intravenous LLLT of blood added to conventional treatment significantly promoted the bactericidal activity of neutrophils. In asthma, the addition of LLLT was more effective than medical treatment alone and it shortened the duration of treatment and recovered bronchial sensitivity to sympathomimetics [9–11]. In newborns with pneumonia, LLLT combined with conventional medical regimens optimized the treatment infectious and inflammatory diseases, reduced the incidence of complications, and shortened recovery periods [12].\n",
            "LLLT is a well-known treatment modality in veterinary medicine. Upper and lower respiratory conditions in dogs and cats are common, and viral and bacterial infections are often highly contagious. Regardless of etiology, inflammation is the major pathology of these conditions. The addition of LLLT to conventional treatment alleviates symptoms and stimulates the healing process in tissues. General guidelines for the use of laser therapy in animals and protocols for specific conditions are published [13].\n",
            "Coronaviruses are a large group of viruses that affect animals. In humans, they produce diseases such as the common cold, severe acute respiratory syndrome (SARS) and Middle East respiratory syndrome. The disease caused by the novel coronavirus, SARS-CoV-2, has been named COVID-19 and the clinical manifestations range from asymptomatic to severe acute respiratory distress syndrome (ARDS) to death [14].\n",
            "Respiratory viruses infect either the upper or lower airways. Typical upper-respiratory infections are milder, more contagious, and spread easily, whereas lower-respiratory infections spread much less frequently but are more severe and dangerous. SARS-CoV-2 appears to infect both upper and lower airways. It spreads while still limited to the upper airways, before traveling into the deeper respiratory tract and leading to severe symptoms [15].\n",
            "SARS-CoV-2 attaches to a protein called angiotensin converting enzyme (ACE2), on the surface of cells in the respiratory tract. As SARS-CoV-2 attacks the cells, dead cells flow down and block the airways with debris while the virus moves deeper into the lungs. Breathing becomes difficult because the lungs become clogged with dead cells and fluid. The immune system attacks the virus causing inflammation and fever. In severe cases, the immune system goes wild, causing more damage to the lungs than the actual virus. Blood vessels dilate to increase blood flow and become more permeable to maximize transport of chemical and cellular mediators the infection site. Inevitably, the lungs get filled with fluid. This exaggerated immune response is called cytokine storm and it leads to ARDS, fever, multiorgan failure, and death [15, 16].\n",
            "During cytokine storm, the immune system attacks indiscriminately without clearing the specific targets. Cytokine storm also affects other organs, especially if people already have chronic diseases [15]. The severity of cytokine storm determines who is hospitalized and who will be treated in the intensive care unit (ICU). The classification of COVID-19 is summarized in Table 1 [17].\n",
            "The morbidity and mortality of COVID-19 are due to excessive inflammatory cytokine production and immune hyperactivity. Alveolar macrophage activation and cytokine storm are the main pathogenesis of severe COVID-19. The pathological features include exudation and hemorrhage, epithelial injuries, infiltration of macrophages into the lungs, and fibrosis of lung tissue. The mucous plug with fibrinous exudate in the alveoli and the activation of alveolar macrophage are characteristic abnormalities [18, 19]. Chemical and genetic studies have shown that the pulmonary endothelium is a key component of the cytokine storm. Therefore, modulation of the involved cellular signaling pathways may have therapeutic effects [20, 21].\n",
            "COVID-19 begins when SARS-CoV-2 uses ACE2 as the entry receptor for infection [22]. This induces ACE2 downregulation and shedding. Loss of ACE2 from the endothelium causes dysfunction of the renin-angiotensin system, and it enhances inflammation and vascular permeability. Shedding of ACE2 from the endothelium releases enzymatically active soluble ACE2 (sACE2), which is tightly linked to tumor necrosis factor alpha (TNF-α) production in cell culture [23].\n",
            "Multiple signaling pathways are activated during an immune response and cytokine storm. The P2X purinoceptor 7 (P2X7r) is major factor involved in activation of the cytokine storm and lung pathology in response to viruses [24, 25], infection, inflammation, hypoxia, or trauma [26]. P2X7r is an adenosine triphosphate (ATP) gated, nonselective cation channel, allowing Ca2+ and Na+ influx and K+ efflux. Extracellular ATP plays a central role in apoptotic cell death [27], the induction of inflammation [28], and mitochondrial failure in monocytes [29]. P2X7r mediates ATP-induced cell death in different cells and it promotes assembly and release of proinflammatory interleukins (IL-1β and IL-18) from immune cells after exposure to lipopolysaccharide and ATP [27]. P2X7r is constitutively expressed in many cells, including respiratory epithelial cells and most immune cells like neutrophils, monocytes, macrophages, dendritic, natural killer, B and T lymphocytes [27].\n",
            "Studies stratified COVID-19 patients as: (i) severe symptoms and ICU admission and (ii) mild and moderate symptoms requiring hospitalization but not ICU [17, 19]. The severe patients have significantly higher levels of plasma pro-inflammatory factors (IL-2, IL-7, IL-10, GSCF, IP-10, MCP-1, MIP1A, TNF-α) [19] and (IL-2, IL-6, IL-10, TNF-α) [18] than non-ICU patients, and they were likely in cytokine storm [17, 19]. These findings justify the use of IL-6 receptor antagonists [18, 19]; however, a therapy to reduce inflammation at multiple levels, such as LLLT, could be more successful in controlling the unbalanced immune response (Figure 1).\n",
            "LLLT is effective against cytokine storm and ARDS while promoting healing and tissue regeneration. Experimental and animal models of pulmonary disease and infection have revealed multiple cellular and molecular effects, which are both local and systemic. LLLT reduces inflammation without impairing lung function in acute lung injuries and is a promising therapeutic approach for lung inflammatory diseases such as Chronic obstructive pulmonary disease [26].\n",
            "In murine models of acute inflammation of the airways and lungs, transcutaneous LLLT delivered over the trachea decreases pulmonary microvascular leakage [30, 31], IL-1b levels [26, 30], IL-6 [26, 32], MIP-2 mRNA expression [30], and intracellular ROS production [24]. LLLT produces anti-inflammatory effects on tracheal hyperactivity, and reduces neutrophil influx [26, 30, 32–34] by inhibiting COX-2-derived metabolites [33]. In ARDS, LLLT elevates cyclic adenosine monophosphate [32, 34], a signaling molecule that stimulates IL-10 and G-CSF expression and blocks TNF-a and MIP-1. LLLT also reduces TNF-a levels in bronchoalveolar lavage fluid and alveolar macrophages [26, 31–34]. In hemorrhagic lesions of the lungs, LLLT significantly reduces the hemorrhagic index and myeloperoxidase activity, to levels comparable to Celecoxib [35].\n",
            "LLLT contributes to the resolution of inflammation by upregulating IL-10 and downregulating P2X7r. LLLT changes the profile of inflammatory cytokines and elevates IL-10 [26, 31, 36], known as human cytokine synthesis inhibitory factor, in the lung and abolishes lung inflammation via a reduction of inflammatory cytokines and mast cell degranulation [31]. LLLT decreases collagen deposition as well as the expression of the P2X7r [26].\n",
            "LLLT contributes to healing by promoting apoptosis of inflammatory cells while suppressing apoptotic pathways in lung tissue. In a model of acute lung injury, LLLT reduced DNA fragmentation and apoptotic pathways via increased B-cell-lymphoma-2 (Bcl-2), the key regulator of the intrinsic or mitochondrial pathway for apoptosis, in alveolar epithelial cells while promoting DNA fragmentation in inflammatory cells [37]. In pulmonary idiopathic fibrosis, LLLT inhibits pro-inflammatory cytokines and increases expression of proliferating cell nuclear antigen [38], attenuates airway remodeling by balancing pro- and anti-inflammatory cytokines in lung tissue, and inhibiting fibroblast secretion of the pro-fibrotic cytokines [36].\n",
            "LLLT provides synergy in combination with medical treatment. It has a synergic anti-inflammatory action over alveolar macrophages pretreated with N-acetyl cysteine, an effective oral medicine for coughs and some lung conditions [39]. The synergic effects of LLLT combined with conventional treatments were reported on over 1000 patients in Russian studies [9–11].\n",
            "Extended time on ventilators causes lung injury but LLLT minimizes this side effect. In experimental models of ventilator-induced lung injury (VILI), LLLT following VILI resulted in lower injury scores, decreased total cell count and neutrophil count in bronchoalveolar lavage, and reduced alveolar neutrophil infiltration. LLLT in an experimental model of VILI in rats demonstrated the anti-inflammatory effect via decreased lung injury scores and lower counts of neutrophils in alveolar, interstitial, and bronchial lavage [39] (Figure 2).\n",
            "Evidence from the literature supports the use of LLLT for the treatment of COVID-19.\n",
            "Based on this information, LLLT will accelerate recovery from COVID-19 and will get patients off ventilator support and out of the ICU more rapidly. This could significantly decompress our severely overburdened health care systems.\n",
            "Laser dose is the amount of energy delivered per second per cm2. The effect of laser therapy is related to the amount of laser energy per cm2. The Arndt-Schultz Law is considered the standard to describe the dose dependent effects of LLLT [42]. The minimum therapeutic dose for a bio-stimulatory effect for red and infrared laser is 0.01 J/cm2 while for ultraviolet, blue, green laser it is 0.001 J/cm2. LLLT has a noticeable biphasic dose response. The effective stimulation dose is 1 J/cm2 on the target tissue. Doses greater than 10 J/cm2 produces inhibitory effects. The inhibitory effects are used in conditions requiring inhibition and suppression [2].\n",
            "Laser parameters:\n",
            "Laser probe positions:\n",
            "Laser parameters:\n",
            "Laser Probe Positions:\n",
            "Although LLLT is safe and noninvasive and there are no reports of mutagenicity, genotoxicity, or carcinogenicity of LLLT after 60 years of its use. However, there are some contraindications:\n",
            "Precautions [42]\n",
            "Because of the high intensity of lasers and the absorption of its wavelengths by different parts of ocular system, there is a possibility of damage to the eyes. It is important to use protective glasses that can absorb the specific wavelength. Protective glasses for each wavelength are different; therefore, choose the protective goggles specified for each wavelength. Both therapists and clients should wear protective goggles [42].\n",
            "The analgesic effect of laser manifests earlier than its healing effect, and the patients feel better because of this, but the actual tissue damage has not yet healed. Patients feel relaxed and more energetic because the pain is gone. However, they must allow enough time for recovery [42].\n",
            "Fatigue is the most common symptom following LLLT. This is due to hormonal and metabolite changes after laser therapy that increase expression natural pain killers like endorphins and enkephalins. These metabolites induce relaxation and sleepiness [42].\n",
            "Very rarely, when the treated area is close to large blood vessels, a patient may experience a temporary drop in the blood pressure and orthostasis. This is due to vasodilatation and increased circulation to the limbs. To avoid dizziness, it is recommended that patients drink fluids before LLLT, and then wait for a few minutes before getting up from the supine position [42].\n",
            "Soheila Mokmeli and Mariana Vetrici contributed to the conception and design of the work.\n",
            "All authors have completed the ICMJE uniform disclosure form at www.icmje.org/coi_disclosure.pdf and declare: no financial relationships with any organizations that might have an interest in the submitted work in the previous 3 years; no other relationships or activities that could appear to have influenced the submitted work.\n",
            "Informed consent was obtained from all participants.\n"
          ],
          "name": "stdout"
        }
      ]
    },
    {
      "cell_type": "code",
      "metadata": {
        "id": "OxKiABSBMH2p"
      },
      "source": [
        "def preprocessing(text):\r\n",
        "    # remove mail\r\n",
        "    text = re.sub(r'[a-z0-9._%+-]+@[a-z0-9.-]+\\.[a-z]{2,}', 'MAIL', text)\r\n",
        "    # remove doi\r\n",
        "    text = re.sub(r'https\\:\\/\\/doi\\.org[^\\s]+', 'DOI', text)\r\n",
        "    # remove https\r\n",
        "    text = re.sub(r'(\\()?\\s?http(s)?\\:\\/\\/[^\\)]+(\\))?', '\\g<1>LINK\\g<3>', text)\r\n",
        "    # remove single characters repeated at least 3 times for spacing error (e.g. s u m m a r y)\r\n",
        "    text = re.sub(r'(\\w\\s+){3,}', ' ', text)\r\n",
        "    # replace tags (e.g. [3] [4] [5]) with whitespace\r\n",
        "    text = re.sub(r'(\\[\\d+\\]\\,?\\s?){3,}(\\.|\\,)?', ' \\g<2>', text)\r\n",
        "    # replace tags (e.g. [3, 4, 5]) with whitespace\r\n",
        "    text = re.sub(r'\\[[\\d\\,\\s]+\\]', ' ',text)\r\n",
        "     # replace tags (e.g. (NUM1) repeated at least 3 times with whitespace\r\n",
        "    text = re.sub(r'(\\(\\d+\\)\\s){3,}', ' ',text)\r\n",
        "    # replace '1.3' with '1,3' (we need it for split later)\r\n",
        "    text = re.sub(r'(\\d+)\\.(\\d+)', '\\g<1>,\\g<2>', text)\r\n",
        "    # remove all full stops as abbreviations (e.g. i.e. cit. and so on)\r\n",
        "    text = re.sub(r'\\.(\\s)?([^A-Z\\s])', ' \\g<1>\\g<2>', text)\r\n",
        "    # correctly spacing the tokens\r\n",
        "    text = re.sub(r' {2,}', ' ', text)\r\n",
        "    text = re.sub(r'\\.{2,}', '.', text)\r\n",
        "    text=re.sub(r\"[<>()(,)|&©ø\\[\\]\\'\\\";?~*!]\", ' ', text) #remove <>()|&©ø\"',;?~*!\r\n",
        "    text=re.sub(\"(\\\\t)\", ' ', text) #remove escape charecters\r\n",
        "    text=re.sub(\"(\\\\r)\", ' ', text) \r\n",
        "    text=re.sub(\"(\\\\n)\", ' ', text)\r\n",
        "    text= re.sub(\"(\\s+)\",' ',text) #remove multiple space\r\n",
        "    # return lowercase text\r\n",
        "    return text.lower()"
      ],
      "execution_count": 56,
      "outputs": []
    },
    {
      "cell_type": "code",
      "metadata": {
        "id": "tle9VT35P1fU"
      },
      "source": [
        "from nltk.tokenize import sent_tokenize\r\n",
        "full_body_text2=[]"
      ],
      "execution_count": 57,
      "outputs": []
    },
    {
      "cell_type": "code",
      "metadata": {
        "id": "56NVitVlMtKJ"
      },
      "source": [
        "for i in full_body_text :\r\n",
        "  txt = preprocessing(i)\r\n",
        "  t=sent_tokenize(txt)\r\n",
        "  full_body_text2.append(t)"
      ],
      "execution_count": 58,
      "outputs": []
    },
    {
      "cell_type": "code",
      "metadata": {
        "colab": {
          "base_uri": "https://localhost:8080/"
        },
        "id": "1aDfBtX9QOq4",
        "outputId": "ae8e85cc-5453-46a1-e678-c40731737c23"
      },
      "source": [
        "for s in full_body_text2 :\r\n",
        "  print(s)"
      ],
      "execution_count": 59,
      "outputs": [
        {
          "output_type": "stream",
          "text": [
            "['low level laser therapy lllt is also known as cold laser therapy or photobiomodulation therapy.', 'lllt utilizes visible light and infrared laser beams in the range of 450–1000 nm.', 'single wavelength or monochromatic light is emitted from a low-intensity laser diode 500 mw .', 'the light source is placed in contact with the skin allowing the photon energy to penetrate tissue where it interacts with various intracellular biomolecules to restore normal cell function and enhance the body’s healing processes .', 'this contrasts with the thermal effects produced by the high-power lasers that are used in cosmetic and surgical procedures to destroy tissue as mentioned in the pubmed medical subject heading mesh subheading for lllt.', 'lllt effects are not due to heat but rather to a photochemical reaction that occurs when a photoacceptor molecule within the cell absorbs a photon of light becomes activated and changes the cell’s membrane permeability and metabolism.', 'presently cytochrome c oxidase opsins and their associated calcium channels and water molecules have been identified as the main mediators of the photochemical mechanisms .', 'this leads to increased mrna synthesis and cell proliferation.', 'lllt produces reactive oxygen species ros in normal cells but ros levels are lowered when it is used in oxidatively stressed cells like in animal models of disease.', 'lllt up-regulates antioxidant defenses and decreases oxidative stress .', 'low-level lasers are a safe noninvasive technology approved by both the us food and drug administration and health canada for several chronic and degenerative conditions temporary pain relief cellulite treatment body contouring lymphedema reduction hair growth and chronic musculoskeletal injuries.', 'lllt increases microcirculation lymphatic drainage and cellular metabolism thereby relieving many acute and chronic conditions.', 'the mesh database in pubmed contains more than 7000 articles on lllt.', 'the effects of lllt have been confirmed through several meta--analysis studies and include anti-inflammatory and analgesic effects tissue healing treating tendinopathy and improving lymphedema .', 'recent lab and animal studies suggest lllt is ready for clinical trials over myocardial infarction .', 'in 2010 a meta-analysis concluded that there was strong evidence of an anti-inflammatory effect of lllt .', 'to date published reports indicate that lllt up-regulates antioxidant defenses and decreases ros in oxidatively stressed cells and animal models of disease.', 'the anti-inflammatory effect of lllt directly addresses the main pathology of disorders such as musculoskeletal lungs wounds brain trauma etc.', 'lllt reduces nf-kb a protein complex that controls transcription of dna in pathological conditions.', 'reports have shown reductions in reactive nitrogen species and prostaglandins in various animal models .', 'lllt has diverse effects : lllt has been used in respiratory tract diseases since 1978. empirical practice on over 1000 patients produced data pertaining to chronic pneumonia acute pneumonia asthma and chronic bronchitis in children adults and elderly.', 'common findings include reduced chest pain and heaviness normalization of respiratory function improved blood immunological and radiological parameters and shortened recovery times.', 'in community-acquired pneumonia intravenous lllt of blood added to conventional treatment significantly promoted the bactericidal activity of neutrophils.', 'in asthma the addition of lllt was more effective than medical treatment alone and it shortened the duration of treatment and recovered bronchial sensitivity to sympathomimetics 9–11 .', 'in newborns with pneumonia lllt combined with conventional medical regimens optimized the treatment infectious and inflammatory diseases reduced the incidence of complications and shortened recovery periods .', 'lllt is a well-known treatment modality in veterinary medicine.', 'upper and lower respiratory conditions in dogs and cats are common and viral and bacterial infections are often highly contagious.', 'regardless of etiology inflammation is the major pathology of these conditions.', 'the addition of lllt to conventional treatment alleviates symptoms and stimulates the healing process in tissues.', 'general guidelines for the use of laser therapy in animals and protocols for specific conditions are published .', 'coronaviruses are a large group of viruses that affect animals.', 'in humans they produce diseases such as the common cold severe acute respiratory syndrome sars and middle east respiratory syndrome.', 'the disease caused by the novel coronavirus sars-cov-2 has been named covid-19 and the clinical manifestations range from asymptomatic to severe acute respiratory distress syndrome ards to death .', 'respiratory viruses infect either the upper or lower airways.', 'typical upper-respiratory infections are milder more contagious and spread easily whereas lower-respiratory infections spread much less frequently but are more severe and dangerous.', 'sars-cov-2 appears to infect both upper and lower airways.', 'it spreads while still limited to the upper airways before traveling into the deeper respiratory tract and leading to severe symptoms .', 'sars-cov-2 attaches to a protein called angiotensin converting enzyme ace2 on the surface of cells in the respiratory tract.', 'as sars-cov-2 attacks the cells dead cells flow down and block the airways with debris while the virus moves deeper into the lungs.', 'breathing becomes difficult because the lungs become clogged with dead cells and fluid.', 'the immune system attacks the virus causing inflammation and fever.', 'in severe cases the immune system goes wild causing more damage to the lungs than the actual virus.', 'blood vessels dilate to increase blood flow and become more permeable to maximize transport of chemical and cellular mediators the infection site.', 'inevitably the lungs get filled with fluid.', 'this exaggerated immune response is called cytokine storm and it leads to ards fever multiorgan failure and death .', 'during cytokine storm the immune system attacks indiscriminately without clearing the specific targets.', 'cytokine storm also affects other organs especially if people already have chronic diseases .', 'the severity of cytokine storm determines who is hospitalized and who will be treated in the intensive care unit icu .', 'the classification of covid-19 is summarized in table 1 .', 'the morbidity and mortality of covid-19 are due to excessive inflammatory cytokine production and immune hyperactivity.', 'alveolar macrophage activation and cytokine storm are the main pathogenesis of severe covid-19.', 'the pathological features include exudation and hemorrhage epithelial injuries infiltration of macrophages into the lungs and fibrosis of lung tissue.', 'the mucous plug with fibrinous exudate in the alveoli and the activation of alveolar macrophage are characteristic abnormalities .', 'chemical and genetic studies have shown that the pulmonary endothelium is a key component of the cytokine storm.', 'therefore modulation of the involved cellular signaling pathways may have therapeutic effects .', 'covid-19 begins when sars-cov-2 uses ace2 as the entry receptor for infection .', 'this induces ace2 downregulation and shedding.', 'loss of ace2 from the endothelium causes dysfunction of the renin-angiotensin system and it enhances inflammation and vascular permeability.', 'shedding of ace2 from the endothelium releases enzymatically active soluble ace2 sace2 which is tightly linked to tumor necrosis factor alpha tnf-α production in cell culture .', 'multiple signaling pathways are activated during an immune response and cytokine storm.', 'the p2x purinoceptor 7 p2x7r is major factor involved in activation of the cytokine storm and lung pathology in response to viruses infection inflammation hypoxia or trauma .', 'p2x7r is an adenosine triphosphate atp gated nonselective cation channel allowing ca2+ and na+ influx and k+ efflux.', 'extracellular atp plays a central role in apoptotic cell death the induction of inflammation and mitochondrial failure in monocytes .', 'p2x7r mediates atp-induced cell death in different cells and it promotes assembly and release of proinflammatory interleukins il-1β and il-18 from immune cells after exposure to lipopolysaccharide and atp .', 'p2x7r is constitutively expressed in many cells including respiratory epithelial cells and most immune cells like neutrophils monocytes macrophages dendritic natural killer b and t lymphocytes .', 'studies stratified covid-19 patients as: i severe symptoms and icu admission and ii mild and moderate symptoms requiring hospitalization but not icu .', 'the severe patients have significantly higher levels of plasma pro-inflammatory factors il-2 il-7 il-10 gscf ip-10 mcp-1 mip1a tnf-α and il-2 il-6 il-10 tnf-α than non-icu patients and they were likely in cytokine storm .', 'these findings justify the use of il-6 receptor antagonists however a therapy to reduce inflammation at multiple levels such as lllt could be more successful in controlling the unbalanced immune response figure 1 .', 'lllt is effective against cytokine storm and ards while promoting healing and tissue regeneration.', 'experimental and animal models of pulmonary disease and infection have revealed multiple cellular and molecular effects which are both local and systemic.', 'lllt reduces inflammation without impairing lung function in acute lung injuries and is a promising therapeutic approach for lung inflammatory diseases such as chronic obstructive pulmonary disease .', 'in murine models of acute inflammation of the airways and lungs transcutaneous lllt delivered over the trachea decreases pulmonary microvascular leakage il-1b levels il-6 mip-2 mrna expression and intracellular ros production .', 'lllt produces anti-inflammatory effects on tracheal hyperactivity and reduces neutrophil influx 26 30 32–34 by inhibiting cox-2-derived metabolites .', 'in ards lllt elevates cyclic adenosine monophosphate a signaling molecule that stimulates il-10 and g-csf expression and blocks tnf-a and mip-1.', 'lllt also reduces tnf-a levels in bronchoalveolar lavage fluid and alveolar macrophages 26 31–34 .', 'in hemorrhagic lesions of the lungs lllt significantly reduces the hemorrhagic index and myeloperoxidase activity to levels comparable to celecoxib .', 'lllt contributes to the resolution of inflammation by upregulating il-10 and downregulating p2x7r.', 'lllt changes the profile of inflammatory cytokines and elevates il-10 known as human cytokine synthesis inhibitory factor in the lung and abolishes lung inflammation via a reduction of inflammatory cytokines and mast cell degranulation .', 'lllt decreases collagen deposition as well as the expression of the p2x7r .', 'lllt contributes to healing by promoting apoptosis of inflammatory cells while suppressing apoptotic pathways in lung tissue.', 'in a model of acute lung injury lllt reduced dna fragmentation and apoptotic pathways via increased b-cell-lymphoma-2 bcl-2 the key regulator of the intrinsic or mitochondrial pathway for apoptosis in alveolar epithelial cells while promoting dna fragmentation in inflammatory cells .', 'in pulmonary idiopathic fibrosis lllt inhibits pro-inflammatory cytokines and increases expression of proliferating cell nuclear antigen attenuates airway remodeling by balancing pro- and anti-inflammatory cytokines in lung tissue and inhibiting fibroblast secretion of the pro-fibrotic cytokines .', 'lllt provides synergy in combination with medical treatment.', 'it has a synergic anti-inflammatory action over alveolar macrophages pretreated with n-acetyl cysteine an effective oral medicine for coughs and some lung conditions .', 'the synergic effects of lllt combined with conventional treatments were reported on over 1000 patients in russian studies 9–11 .', 'extended time on ventilators causes lung injury but lllt minimizes this side effect.', 'in experimental models of ventilator-induced lung injury vili lllt following vili resulted in lower injury scores decreased total cell count and neutrophil count in bronchoalveolar lavage and reduced alveolar neutrophil infiltration.', 'lllt in an experimental model of vili in rats demonstrated the anti-inflammatory effect via decreased lung injury scores and lower counts of neutrophils in alveolar interstitial and bronchial lavage figure 2 .', 'evidence from the literature supports the use of lllt for the treatment of covid-19.', 'based on this information lllt will accelerate recovery from covid-19 and will get patients off ventilator support and out of the icu more rapidly.', 'this could significantly decompress our severely overburdened health care systems.', 'laser dose is the amount of energy delivered per second per cm2.', 'the effect of laser therapy is related to the amount of laser energy per cm2.', 'the arndt-schultz law is considered the standard to describe the dose dependent effects of lllt .', 'the minimum therapeutic dose for a bio-stimulatory effect for red and infrared laser is 0 01 j/cm2 while for ultraviolet blue green laser it is 0 001 j/cm2.', 'lllt has a noticeable biphasic dose response.', 'the effective stimulation dose is 1 j/cm2 on the target tissue.', 'doses greater than 10 j/cm2 produces inhibitory effects.', 'the inhibitory effects are used in conditions requiring inhibition and suppression .', 'laser parameters: laser probe positions: laser parameters: laser probe positions: although lllt is safe and noninvasive and there are no reports of mutagenicity genotoxicity or carcinogenicity of lllt after 60 years of its use.', 'however there are some contraindications: precautions because of the high intensity of lasers and the absorption of its wavelengths by different parts of ocular system there is a possibility of damage to the eyes.', 'it is important to use protective glasses that can absorb the specific wavelength.', 'protective glasses for each wavelength are different therefore choose the protective goggles specified for each wavelength.', 'both therapists and clients should wear protective goggles .', 'the analgesic effect of laser manifests earlier than its healing effect and the patients feel better because of this but the actual tissue damage has not yet healed.', 'patients feel relaxed and more energetic because the pain is gone.', 'however they must allow enough time for recovery .', 'fatigue is the most common symptom following lllt.', 'this is due to hormonal and metabolite changes after laser therapy that increase expression natural pain killers like endorphins and enkephalins.', 'these metabolites induce relaxation and sleepiness .', 'very rarely when the treated area is close to large blood vessels a patient may experience a temporary drop in the blood pressure and orthostasis.', 'this is due to vasodilatation and increased circulation to the limbs.', 'to avoid dizziness it is recommended that patients drink fluids before lllt and then wait for a few minutes before getting up from the supine position .', 'soheila mokmeli and mariana vetrici contributed to the conception and design of the work.', 'all authors have completed the icmje uniform disclosure form at www icmje org/coi_disclosure pdf and declare: no financial relationships with any organizations that might have an interest in the submitted work in the previous 3 years no other relationships or activities that could appear to have influenced the submitted work.', 'informed consent was obtained from all participants.']\n"
          ],
          "name": "stdout"
        }
      ]
    },
    {
      "cell_type": "code",
      "metadata": {
        "colab": {
          "base_uri": "https://localhost:8080/"
        },
        "id": "mRfqMz6qo7tq",
        "outputId": "0e5696e6-ada7-484a-fbaf-6c9a3fbf075a"
      },
      "source": [
        "nltk.download('stopwords')"
      ],
      "execution_count": 60,
      "outputs": [
        {
          "output_type": "stream",
          "text": [
            "[nltk_data] Downloading package stopwords to /root/nltk_data...\n",
            "[nltk_data]   Package stopwords is already up-to-date!\n"
          ],
          "name": "stdout"
        },
        {
          "output_type": "execute_result",
          "data": {
            "text/plain": [
              "True"
            ]
          },
          "metadata": {
            "tags": []
          },
          "execution_count": 60
        }
      ]
    },
    {
      "cell_type": "code",
      "metadata": {
        "id": "hE8GMFINo-gx"
      },
      "source": [
        "from nltk.corpus import stopwords\r\n",
        "stop_words = stopwords.words('english')"
      ],
      "execution_count": 61,
      "outputs": []
    },
    {
      "cell_type": "code",
      "metadata": {
        "id": "28XyadQNpBya"
      },
      "source": [
        "def remove_stopwords(sen):\r\n",
        "    sen_new = \" \".join([i for i in sen if i not in stop_words])\r\n",
        "    return sen_new"
      ],
      "execution_count": 62,
      "outputs": []
    },
    {
      "cell_type": "code",
      "metadata": {
        "colab": {
          "base_uri": "https://localhost:8080/"
        },
        "id": "1jg3GqEzpYFK",
        "outputId": "f6d6efc9-7398-4ad1-a69b-72d32d43f175"
      },
      "source": [
        "clean_body_text = []\r\n",
        "for r in full_body_text2 :\r\n",
        "  c_body_text = []\r\n",
        "  for rr in r :\r\n",
        "    c_body_text.append(remove_stopwords(rr.split()))\r\n",
        "  clean_body_text.append(c_body_text)\r\n",
        "\r\n",
        "\r\n",
        "for s in clean_body_text :\r\n",
        "  print(s)"
      ],
      "execution_count": 63,
      "outputs": [
        {
          "output_type": "stream",
          "text": [
            "['low level laser therapy lllt also known cold laser therapy photobiomodulation therapy.', 'lllt utilizes visible light infrared laser beams range 450–1000 nm.', 'single wavelength monochromatic light emitted low-intensity laser diode 500 mw .', 'light source placed contact skin allowing photon energy penetrate tissue interacts various intracellular biomolecules restore normal cell function enhance body’s healing processes .', 'contrasts thermal effects produced high-power lasers used cosmetic surgical procedures destroy tissue mentioned pubmed medical subject heading mesh subheading lllt.', 'lllt effects due heat rather photochemical reaction occurs photoacceptor molecule within cell absorbs photon light becomes activated changes cell’s membrane permeability metabolism.', 'presently cytochrome c oxidase opsins associated calcium channels water molecules identified main mediators photochemical mechanisms .', 'leads increased mrna synthesis cell proliferation.', 'lllt produces reactive oxygen species ros normal cells ros levels lowered used oxidatively stressed cells like animal models disease.', 'lllt up-regulates antioxidant defenses decreases oxidative stress .', 'low-level lasers safe noninvasive technology approved us food drug administration health canada several chronic degenerative conditions temporary pain relief cellulite treatment body contouring lymphedema reduction hair growth chronic musculoskeletal injuries.', 'lllt increases microcirculation lymphatic drainage cellular metabolism thereby relieving many acute chronic conditions.', 'mesh database pubmed contains 7000 articles lllt.', 'effects lllt confirmed several meta--analysis studies include anti-inflammatory analgesic effects tissue healing treating tendinopathy improving lymphedema .', 'recent lab animal studies suggest lllt ready clinical trials myocardial infarction .', '2010 meta-analysis concluded strong evidence anti-inflammatory effect lllt .', 'date published reports indicate lllt up-regulates antioxidant defenses decreases ros oxidatively stressed cells animal models disease.', 'anti-inflammatory effect lllt directly addresses main pathology disorders musculoskeletal lungs wounds brain trauma etc.', 'lllt reduces nf-kb protein complex controls transcription dna pathological conditions.', 'reports shown reductions reactive nitrogen species prostaglandins various animal models .', 'lllt diverse effects : lllt used respiratory tract diseases since 1978. empirical practice 1000 patients produced data pertaining chronic pneumonia acute pneumonia asthma chronic bronchitis children adults elderly.', 'common findings include reduced chest pain heaviness normalization respiratory function improved blood immunological radiological parameters shortened recovery times.', 'community-acquired pneumonia intravenous lllt blood added conventional treatment significantly promoted bactericidal activity neutrophils.', 'asthma addition lllt effective medical treatment alone shortened duration treatment recovered bronchial sensitivity sympathomimetics 9–11 .', 'newborns pneumonia lllt combined conventional medical regimens optimized treatment infectious inflammatory diseases reduced incidence complications shortened recovery periods .', 'lllt well-known treatment modality veterinary medicine.', 'upper lower respiratory conditions dogs cats common viral bacterial infections often highly contagious.', 'regardless etiology inflammation major pathology conditions.', 'addition lllt conventional treatment alleviates symptoms stimulates healing process tissues.', 'general guidelines use laser therapy animals protocols specific conditions published .', 'coronaviruses large group viruses affect animals.', 'humans produce diseases common cold severe acute respiratory syndrome sars middle east respiratory syndrome.', 'disease caused novel coronavirus sars-cov-2 named covid-19 clinical manifestations range asymptomatic severe acute respiratory distress syndrome ards death .', 'respiratory viruses infect either upper lower airways.', 'typical upper-respiratory infections milder contagious spread easily whereas lower-respiratory infections spread much less frequently severe dangerous.', 'sars-cov-2 appears infect upper lower airways.', 'spreads still limited upper airways traveling deeper respiratory tract leading severe symptoms .', 'sars-cov-2 attaches protein called angiotensin converting enzyme ace2 surface cells respiratory tract.', 'sars-cov-2 attacks cells dead cells flow block airways debris virus moves deeper lungs.', 'breathing becomes difficult lungs become clogged dead cells fluid.', 'immune system attacks virus causing inflammation fever.', 'severe cases immune system goes wild causing damage lungs actual virus.', 'blood vessels dilate increase blood flow become permeable maximize transport chemical cellular mediators infection site.', 'inevitably lungs get filled fluid.', 'exaggerated immune response called cytokine storm leads ards fever multiorgan failure death .', 'cytokine storm immune system attacks indiscriminately without clearing specific targets.', 'cytokine storm also affects organs especially people already chronic diseases .', 'severity cytokine storm determines hospitalized treated intensive care unit icu .', 'classification covid-19 summarized table 1 .', 'morbidity mortality covid-19 due excessive inflammatory cytokine production immune hyperactivity.', 'alveolar macrophage activation cytokine storm main pathogenesis severe covid-19.', 'pathological features include exudation hemorrhage epithelial injuries infiltration macrophages lungs fibrosis lung tissue.', 'mucous plug fibrinous exudate alveoli activation alveolar macrophage characteristic abnormalities .', 'chemical genetic studies shown pulmonary endothelium key component cytokine storm.', 'therefore modulation involved cellular signaling pathways may therapeutic effects .', 'covid-19 begins sars-cov-2 uses ace2 entry receptor infection .', 'induces ace2 downregulation shedding.', 'loss ace2 endothelium causes dysfunction renin-angiotensin system enhances inflammation vascular permeability.', 'shedding ace2 endothelium releases enzymatically active soluble ace2 sace2 tightly linked tumor necrosis factor alpha tnf-α production cell culture .', 'multiple signaling pathways activated immune response cytokine storm.', 'p2x purinoceptor 7 p2x7r major factor involved activation cytokine storm lung pathology response viruses infection inflammation hypoxia trauma .', 'p2x7r adenosine triphosphate atp gated nonselective cation channel allowing ca2+ na+ influx k+ efflux.', 'extracellular atp plays central role apoptotic cell death induction inflammation mitochondrial failure monocytes .', 'p2x7r mediates atp-induced cell death different cells promotes assembly release proinflammatory interleukins il-1β il-18 immune cells exposure lipopolysaccharide atp .', 'p2x7r constitutively expressed many cells including respiratory epithelial cells immune cells like neutrophils monocytes macrophages dendritic natural killer b lymphocytes .', 'studies stratified covid-19 patients as: severe symptoms icu admission ii mild moderate symptoms requiring hospitalization icu .', 'severe patients significantly higher levels plasma pro-inflammatory factors il-2 il-7 il-10 gscf ip-10 mcp-1 mip1a tnf-α il-2 il-6 il-10 tnf-α non-icu patients likely cytokine storm .', 'findings justify use il-6 receptor antagonists however therapy reduce inflammation multiple levels lllt could successful controlling unbalanced immune response figure 1 .', 'lllt effective cytokine storm ards promoting healing tissue regeneration.', 'experimental animal models pulmonary disease infection revealed multiple cellular molecular effects local systemic.', 'lllt reduces inflammation without impairing lung function acute lung injuries promising therapeutic approach lung inflammatory diseases chronic obstructive pulmonary disease .', 'murine models acute inflammation airways lungs transcutaneous lllt delivered trachea decreases pulmonary microvascular leakage il-1b levels il-6 mip-2 mrna expression intracellular ros production .', 'lllt produces anti-inflammatory effects tracheal hyperactivity reduces neutrophil influx 26 30 32–34 inhibiting cox-2-derived metabolites .', 'ards lllt elevates cyclic adenosine monophosphate signaling molecule stimulates il-10 g-csf expression blocks tnf-a mip-1.', 'lllt also reduces tnf-a levels bronchoalveolar lavage fluid alveolar macrophages 26 31–34 .', 'hemorrhagic lesions lungs lllt significantly reduces hemorrhagic index myeloperoxidase activity levels comparable celecoxib .', 'lllt contributes resolution inflammation upregulating il-10 downregulating p2x7r.', 'lllt changes profile inflammatory cytokines elevates il-10 known human cytokine synthesis inhibitory factor lung abolishes lung inflammation via reduction inflammatory cytokines mast cell degranulation .', 'lllt decreases collagen deposition well expression p2x7r .', 'lllt contributes healing promoting apoptosis inflammatory cells suppressing apoptotic pathways lung tissue.', 'model acute lung injury lllt reduced dna fragmentation apoptotic pathways via increased b-cell-lymphoma-2 bcl-2 key regulator intrinsic mitochondrial pathway apoptosis alveolar epithelial cells promoting dna fragmentation inflammatory cells .', 'pulmonary idiopathic fibrosis lllt inhibits pro-inflammatory cytokines increases expression proliferating cell nuclear antigen attenuates airway remodeling balancing pro- anti-inflammatory cytokines lung tissue inhibiting fibroblast secretion pro-fibrotic cytokines .', 'lllt provides synergy combination medical treatment.', 'synergic anti-inflammatory action alveolar macrophages pretreated n-acetyl cysteine effective oral medicine coughs lung conditions .', 'synergic effects lllt combined conventional treatments reported 1000 patients russian studies 9–11 .', 'extended time ventilators causes lung injury lllt minimizes side effect.', 'experimental models ventilator-induced lung injury vili lllt following vili resulted lower injury scores decreased total cell count neutrophil count bronchoalveolar lavage reduced alveolar neutrophil infiltration.', 'lllt experimental model vili rats demonstrated anti-inflammatory effect via decreased lung injury scores lower counts neutrophils alveolar interstitial bronchial lavage figure 2 .', 'evidence literature supports use lllt treatment covid-19.', 'based information lllt accelerate recovery covid-19 get patients ventilator support icu rapidly.', 'could significantly decompress severely overburdened health care systems.', 'laser dose amount energy delivered per second per cm2.', 'effect laser therapy related amount laser energy per cm2.', 'arndt-schultz law considered standard describe dose dependent effects lllt .', 'minimum therapeutic dose bio-stimulatory effect red infrared laser 0 01 j/cm2 ultraviolet blue green laser 0 001 j/cm2.', 'lllt noticeable biphasic dose response.', 'effective stimulation dose 1 j/cm2 target tissue.', 'doses greater 10 j/cm2 produces inhibitory effects.', 'inhibitory effects used conditions requiring inhibition suppression .', 'laser parameters: laser probe positions: laser parameters: laser probe positions: although lllt safe noninvasive reports mutagenicity genotoxicity carcinogenicity lllt 60 years use.', 'however contraindications: precautions high intensity lasers absorption wavelengths different parts ocular system possibility damage eyes.', 'important use protective glasses absorb specific wavelength.', 'protective glasses wavelength different therefore choose protective goggles specified wavelength.', 'therapists clients wear protective goggles .', 'analgesic effect laser manifests earlier healing effect patients feel better actual tissue damage yet healed.', 'patients feel relaxed energetic pain gone.', 'however must allow enough time recovery .', 'fatigue common symptom following lllt.', 'due hormonal metabolite changes laser therapy increase expression natural pain killers like endorphins enkephalins.', 'metabolites induce relaxation sleepiness .', 'rarely treated area close large blood vessels patient may experience temporary drop blood pressure orthostasis.', 'due vasodilatation increased circulation limbs.', 'avoid dizziness recommended patients drink fluids lllt wait minutes getting supine position .', 'soheila mokmeli mariana vetrici contributed conception design work.', 'authors completed icmje uniform disclosure form www icmje org/coi_disclosure pdf declare: financial relationships organizations might interest submitted work previous 3 years relationships activities could appear influenced submitted work.', 'informed consent obtained participants.']\n"
          ],
          "name": "stdout"
        }
      ]
    },
    {
      "cell_type": "code",
      "metadata": {
        "id": "5AI8pXhHRggA"
      },
      "source": [
        "from nltk.cluster.util import cosine_distance\r\n",
        "import networkx as nx"
      ],
      "execution_count": 64,
      "outputs": []
    },
    {
      "cell_type": "code",
      "metadata": {
        "id": "rzN4Eh2XSGE3"
      },
      "source": [
        "def sentence_similarity(sent1,sent2,stopwords=None):\r\n",
        "  if stopwords is None :\r\n",
        "    stopwords = []\r\n",
        "  sent1=[w.lower() for w in sent1]\r\n",
        "  sent2=[w.lower() for w in sent2]\r\n",
        "  all_words=list(set(sent1+sent2))\r\n",
        "  vector1=[0]*len(all_words)\r\n",
        "  vector2=[0]*len(all_words)\r\n",
        "  for w in sent1 :\r\n",
        "    if w in stopwords :\r\n",
        "      continue\r\n",
        "    vector1[all_words.index(w)] += 1\r\n",
        "  for w in sent2 :\r\n",
        "    if w in stopwords :\r\n",
        "      continue\r\n",
        "    vector2[all_words.index(w)] += 1\r\n",
        "  return 1-cosine_distance(vector1,vector2)"
      ],
      "execution_count": 65,
      "outputs": []
    },
    {
      "cell_type": "code",
      "metadata": {
        "id": "hxysC--UVzAz"
      },
      "source": [
        "def gen_sim_matrix(sentences,stop_words):\r\n",
        "  similarity_matrix=np.zeros(len(sentences),len(sentences))\r\n",
        "  for idx1 in range(len(sentences)) :\r\n",
        "    for idx2 in range(len(sentences)) :\r\n",
        "      if idx1 == idx2 :\r\n",
        "        continue\r\n",
        "      similarity_matrix[idx1][idx2]=sentence_similarity(sentences[idx1],sentences[idx2],stop_words)\r\n",
        "  return similarity_matrix"
      ],
      "execution_count": 66,
      "outputs": []
    },
    {
      "cell_type": "code",
      "metadata": {
        "id": "3R6tTxHYbgfu"
      },
      "source": [
        "def generate_summary(top_n=5) :\r\n",
        "  stop_words=stopwords.words('english')\r\n",
        "  summarize_text=[]\r\n",
        "  sentences = \" \".join([i for i in clean_body_text)\r\n",
        "  sentence_similarity_matrix=gen_sim_matrix(sentences,stop_words)\r\n",
        "  sentence_similarity_graph=nx.from_numpy_array(sentence_similarity_matrix)\r\n",
        "  scores=nx.pagerank(sentence_similarity_graph)\r\n",
        "  ranked_sentence=sorted(((scores[i],s) for i,s in enumerate(sentences)),reverse=True)\r\n",
        "  for i in range(top_n):\r\n",
        "    summarize_text.append(\" \".join(ranked_sentence[i][1]))\r\n",
        "  print(\"summary \\n\",\". \".join(summarize_text))\r\n"
      ],
      "execution_count": null,
      "outputs": []
    },
    {
      "cell_type": "code",
      "metadata": {
        "colab": {
          "base_uri": "https://localhost:8080/",
          "height": 306
        },
        "id": "kN7FCOolf2m4",
        "outputId": "26e2151d-f378-44a6-a54e-327db7a83663"
      },
      "source": [
        "generate_summary()"
      ],
      "execution_count": 72,
      "outputs": [
        {
          "output_type": "error",
          "ename": "TypeError",
          "evalue": "ignored",
          "traceback": [
            "\u001b[0;31m---------------------------------------------------------------------------\u001b[0m",
            "\u001b[0;31mTypeError\u001b[0m                                 Traceback (most recent call last)",
            "\u001b[0;32m<ipython-input-72-8960aa7982f9>\u001b[0m in \u001b[0;36m<module>\u001b[0;34m()\u001b[0m\n\u001b[0;32m----> 1\u001b[0;31m \u001b[0mgenerate_summary\u001b[0m\u001b[0;34m(\u001b[0m\u001b[0;34m)\u001b[0m\u001b[0;34m\u001b[0m\u001b[0;34m\u001b[0m\u001b[0m\n\u001b[0m",
            "\u001b[0;32m<ipython-input-69-24d1258cde73>\u001b[0m in \u001b[0;36mgenerate_summary\u001b[0;34m(top_n)\u001b[0m\n\u001b[1;32m      3\u001b[0m   \u001b[0msummarize_text\u001b[0m\u001b[0;34m=\u001b[0m\u001b[0;34m[\u001b[0m\u001b[0;34m]\u001b[0m\u001b[0;34m\u001b[0m\u001b[0;34m\u001b[0m\u001b[0m\n\u001b[1;32m      4\u001b[0m   \u001b[0msentences\u001b[0m \u001b[0;34m=\u001b[0m \u001b[0;34m\" \"\u001b[0m\u001b[0;34m.\u001b[0m\u001b[0mjoin\u001b[0m\u001b[0;34m(\u001b[0m\u001b[0;34m[\u001b[0m\u001b[0mi\u001b[0m \u001b[0;32mfor\u001b[0m \u001b[0mi\u001b[0m \u001b[0;32min\u001b[0m \u001b[0mclean_body_text\u001b[0m\u001b[0;34m[\u001b[0m\u001b[0;36m0\u001b[0m\u001b[0;34m]\u001b[0m\u001b[0;34m]\u001b[0m\u001b[0;34m)\u001b[0m\u001b[0;34m\u001b[0m\u001b[0;34m\u001b[0m\u001b[0m\n\u001b[0;32m----> 5\u001b[0;31m   \u001b[0msentence_similarity_matrix\u001b[0m\u001b[0;34m=\u001b[0m\u001b[0mgen_sim_matrix\u001b[0m\u001b[0;34m(\u001b[0m\u001b[0msentences\u001b[0m\u001b[0;34m,\u001b[0m\u001b[0mstop_words\u001b[0m\u001b[0;34m)\u001b[0m\u001b[0;34m\u001b[0m\u001b[0;34m\u001b[0m\u001b[0m\n\u001b[0m\u001b[1;32m      6\u001b[0m   \u001b[0msentence_similarity_graph\u001b[0m\u001b[0;34m=\u001b[0m\u001b[0mnx\u001b[0m\u001b[0;34m.\u001b[0m\u001b[0mfrom_numpy_array\u001b[0m\u001b[0;34m(\u001b[0m\u001b[0msentence_similarity_matrix\u001b[0m\u001b[0;34m)\u001b[0m\u001b[0;34m\u001b[0m\u001b[0;34m\u001b[0m\u001b[0m\n\u001b[1;32m      7\u001b[0m   \u001b[0mscores\u001b[0m\u001b[0;34m=\u001b[0m\u001b[0mnx\u001b[0m\u001b[0;34m.\u001b[0m\u001b[0mpagerank\u001b[0m\u001b[0;34m(\u001b[0m\u001b[0msentence_similarity_graph\u001b[0m\u001b[0;34m)\u001b[0m\u001b[0;34m\u001b[0m\u001b[0;34m\u001b[0m\u001b[0m\n",
            "\u001b[0;32m<ipython-input-66-fe3f307781ec>\u001b[0m in \u001b[0;36mgen_sim_matrix\u001b[0;34m(sentences, stop_words)\u001b[0m\n\u001b[1;32m      1\u001b[0m \u001b[0;32mdef\u001b[0m \u001b[0mgen_sim_matrix\u001b[0m\u001b[0;34m(\u001b[0m\u001b[0msentences\u001b[0m\u001b[0;34m,\u001b[0m\u001b[0mstop_words\u001b[0m\u001b[0;34m)\u001b[0m\u001b[0;34m:\u001b[0m\u001b[0;34m\u001b[0m\u001b[0;34m\u001b[0m\u001b[0m\n\u001b[0;32m----> 2\u001b[0;31m   \u001b[0msimilarity_matrix\u001b[0m\u001b[0;34m=\u001b[0m\u001b[0mnp\u001b[0m\u001b[0;34m.\u001b[0m\u001b[0mzeros\u001b[0m\u001b[0;34m(\u001b[0m\u001b[0mlen\u001b[0m\u001b[0;34m(\u001b[0m\u001b[0msentences\u001b[0m\u001b[0;34m)\u001b[0m\u001b[0;34m,\u001b[0m\u001b[0mlen\u001b[0m\u001b[0;34m(\u001b[0m\u001b[0msentences\u001b[0m\u001b[0;34m)\u001b[0m\u001b[0;34m)\u001b[0m\u001b[0;34m\u001b[0m\u001b[0;34m\u001b[0m\u001b[0m\n\u001b[0m\u001b[1;32m      3\u001b[0m   \u001b[0;32mfor\u001b[0m \u001b[0midx1\u001b[0m \u001b[0;32min\u001b[0m \u001b[0mrange\u001b[0m\u001b[0;34m(\u001b[0m\u001b[0mlen\u001b[0m\u001b[0;34m(\u001b[0m\u001b[0msentences\u001b[0m\u001b[0;34m)\u001b[0m\u001b[0;34m)\u001b[0m \u001b[0;34m:\u001b[0m\u001b[0;34m\u001b[0m\u001b[0;34m\u001b[0m\u001b[0m\n\u001b[1;32m      4\u001b[0m     \u001b[0;32mfor\u001b[0m \u001b[0midx2\u001b[0m \u001b[0;32min\u001b[0m \u001b[0mrange\u001b[0m\u001b[0;34m(\u001b[0m\u001b[0mlen\u001b[0m\u001b[0;34m(\u001b[0m\u001b[0msentences\u001b[0m\u001b[0;34m)\u001b[0m\u001b[0;34m)\u001b[0m \u001b[0;34m:\u001b[0m\u001b[0;34m\u001b[0m\u001b[0;34m\u001b[0m\u001b[0m\n\u001b[1;32m      5\u001b[0m       \u001b[0;32mif\u001b[0m \u001b[0midx1\u001b[0m \u001b[0;34m==\u001b[0m \u001b[0midx2\u001b[0m \u001b[0;34m:\u001b[0m\u001b[0;34m\u001b[0m\u001b[0;34m\u001b[0m\u001b[0m\n",
            "\u001b[0;31mTypeError\u001b[0m: data type not understood"
          ]
        }
      ]
    }
  ]
}